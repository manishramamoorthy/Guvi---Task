{
  "cells": [
    {
      "cell_type": "markdown",
      "metadata": {
        "id": "view-in-github",
        "colab_type": "text"
      },
      "source": [
        "<a href=\"https://colab.research.google.com/github/manishramamoorthy/TASK-1/blob/main/Numpy_tasks.ipynb\" target=\"_parent\"><img src=\"https://colab.research.google.com/assets/colab-badge.svg\" alt=\"Open In Colab\"/></a>"
      ]
    },
    {
      "cell_type": "markdown",
      "metadata": {
        "id": "WnZPbD-T4Kza"
      },
      "source": [
        "# Numpy\n",
        "\n"
      ]
    },
    {
      "cell_type": "markdown",
      "metadata": {
        "id": "_YKuvBdC4Kzd"
      },
      "source": [
        "#### 1. Import the numpy package under the name `np` (★☆☆) \n",
        "(**hint**: import … as …)"
      ]
    },
    {
      "cell_type": "code",
      "execution_count": 1,
      "metadata": {
        "collapsed": true,
        "id": "eqylynSj4Kzf"
      },
      "outputs": [],
      "source": [
        "import numpy as np"
      ]
    },
    {
      "cell_type": "markdown",
      "metadata": {
        "id": "VuGyBo4m4Kzg"
      },
      "source": [
        "#### 2. Print the numpy version and the configuration (★☆☆) \n",
        "(**hint**: np.\\_\\_version\\_\\_, np.show\\_config)"
      ]
    },
    {
      "cell_type": "code",
      "execution_count": 5,
      "metadata": {
        "colab": {
          "base_uri": "https://localhost:8080/"
        },
        "id": "ucsZfdvz4Kzg",
        "outputId": "386d1eec-6a15-4109-d621-6b737e84d19d"
      },
      "outputs": [
        {
          "output_type": "stream",
          "name": "stdout",
          "text": [
            "1.21.6\n",
            "blas_mkl_info:\n",
            "  NOT AVAILABLE\n",
            "blis_info:\n",
            "  NOT AVAILABLE\n",
            "openblas_info:\n",
            "    libraries = ['openblas', 'openblas']\n",
            "    library_dirs = ['/usr/local/lib']\n",
            "    language = c\n",
            "    define_macros = [('HAVE_CBLAS', None)]\n",
            "    runtime_library_dirs = ['/usr/local/lib']\n",
            "blas_opt_info:\n",
            "    libraries = ['openblas', 'openblas']\n",
            "    library_dirs = ['/usr/local/lib']\n",
            "    language = c\n",
            "    define_macros = [('HAVE_CBLAS', None)]\n",
            "    runtime_library_dirs = ['/usr/local/lib']\n",
            "lapack_mkl_info:\n",
            "  NOT AVAILABLE\n",
            "openblas_lapack_info:\n",
            "    libraries = ['openblas', 'openblas']\n",
            "    library_dirs = ['/usr/local/lib']\n",
            "    language = c\n",
            "    define_macros = [('HAVE_CBLAS', None)]\n",
            "    runtime_library_dirs = ['/usr/local/lib']\n",
            "lapack_opt_info:\n",
            "    libraries = ['openblas', 'openblas']\n",
            "    library_dirs = ['/usr/local/lib']\n",
            "    language = c\n",
            "    define_macros = [('HAVE_CBLAS', None)]\n",
            "    runtime_library_dirs = ['/usr/local/lib']\n",
            "Supported SIMD extensions in this NumPy install:\n",
            "    baseline = SSE,SSE2,SSE3\n",
            "    found = SSSE3,SSE41,POPCNT,SSE42,AVX,F16C,FMA3,AVX2\n",
            "    not found = AVX512F,AVX512CD,AVX512_KNL,AVX512_KNM,AVX512_SKX,AVX512_CLX,AVX512_CNL,AVX512_ICL\n",
            "None\n"
          ]
        }
      ],
      "source": [
        "print(np.__version__)\n",
        "print(np.show_config())"
      ]
    },
    {
      "cell_type": "markdown",
      "metadata": {
        "id": "SXZjiauP4Kzh"
      },
      "source": [
        "#### 3. Create a null vector of size 10 (★☆☆) \n",
        "(**hint**: np.zeros)"
      ]
    },
    {
      "cell_type": "code",
      "execution_count": 8,
      "metadata": {
        "colab": {
          "base_uri": "https://localhost:8080/"
        },
        "id": "VCnT5bxb4Kzh",
        "outputId": "1dab02cf-1a10-45ef-fcea-9e9d06af0645"
      },
      "outputs": [
        {
          "output_type": "stream",
          "name": "stdout",
          "text": [
            "[0. 0. 0. 0. 0. 0. 0. 0. 0. 0.]\n"
          ]
        }
      ],
      "source": [
        "x = np.zeros(10)\n",
        "print(x)"
      ]
    },
    {
      "cell_type": "markdown",
      "metadata": {
        "id": "exosYVag4Kzi"
      },
      "source": [
        "#### 4.  How to find the memory size of any array (★☆☆) \n",
        "(**hint**: size, itemsize)"
      ]
    },
    {
      "cell_type": "code",
      "execution_count": 11,
      "metadata": {
        "colab": {
          "base_uri": "https://localhost:8080/"
        },
        "id": "G7Afaekr4Kzk",
        "outputId": "7cae9dd1-bcb2-43e3-f328-78af2199f051"
      },
      "outputs": [
        {
          "output_type": "stream",
          "name": "stdout",
          "text": [
            "10\n",
            "8\n",
            "80\n"
          ]
        }
      ],
      "source": [
        "x = np.arange(10)\n",
        "print(x.size)\n",
        "print(x.itemsize)\n",
        "print(x.size*x.itemsize)"
      ]
    },
    {
      "cell_type": "markdown",
      "metadata": {
        "id": "BBfGt06U4Kzl"
      },
      "source": [
        "#### 5.  How to get the documentation of the numpy add function from the command line? (★☆☆) \n",
        "(**hint**: np.info)"
      ]
    },
    {
      "cell_type": "code",
      "execution_count": 12,
      "metadata": {
        "collapsed": true,
        "colab": {
          "base_uri": "https://localhost:8080/"
        },
        "id": "nj4Ye27J4Kzl",
        "outputId": "dea80df8-c165-4f1a-9a67-79de311de110"
      },
      "outputs": [
        {
          "output_type": "stream",
          "name": "stdout",
          "text": [
            "add(x1, x2, /, out=None, *, where=True, casting='same_kind', order='K', dtype=None, subok=True[, signature, extobj])\n",
            "\n",
            "Add arguments element-wise.\n",
            "\n",
            "Parameters\n",
            "----------\n",
            "x1, x2 : array_like\n",
            "    The arrays to be added.\n",
            "    If ``x1.shape != x2.shape``, they must be broadcastable to a common\n",
            "    shape (which becomes the shape of the output).\n",
            "out : ndarray, None, or tuple of ndarray and None, optional\n",
            "    A location into which the result is stored. If provided, it must have\n",
            "    a shape that the inputs broadcast to. If not provided or None,\n",
            "    a freshly-allocated array is returned. A tuple (possible only as a\n",
            "    keyword argument) must have length equal to the number of outputs.\n",
            "where : array_like, optional\n",
            "    This condition is broadcast over the input. At locations where the\n",
            "    condition is True, the `out` array will be set to the ufunc result.\n",
            "    Elsewhere, the `out` array will retain its original value.\n",
            "    Note that if an uninitialized `out` array is created via the default\n",
            "    ``out=None``, locations within it where the condition is False will\n",
            "    remain uninitialized.\n",
            "**kwargs\n",
            "    For other keyword-only arguments, see the\n",
            "    :ref:`ufunc docs <ufuncs.kwargs>`.\n",
            "\n",
            "Returns\n",
            "-------\n",
            "add : ndarray or scalar\n",
            "    The sum of `x1` and `x2`, element-wise.\n",
            "    This is a scalar if both `x1` and `x2` are scalars.\n",
            "\n",
            "Notes\n",
            "-----\n",
            "Equivalent to `x1` + `x2` in terms of array broadcasting.\n",
            "\n",
            "Examples\n",
            "--------\n",
            ">>> np.add(1.0, 4.0)\n",
            "5.0\n",
            ">>> x1 = np.arange(9.0).reshape((3, 3))\n",
            ">>> x2 = np.arange(3.0)\n",
            ">>> np.add(x1, x2)\n",
            "array([[  0.,   2.,   4.],\n",
            "       [  3.,   5.,   7.],\n",
            "       [  6.,   8.,  10.]])\n",
            "\n",
            "The ``+`` operator can be used as a shorthand for ``np.add`` on ndarrays.\n",
            "\n",
            ">>> x1 = np.arange(9.0).reshape((3, 3))\n",
            ">>> x2 = np.arange(3.0)\n",
            ">>> x1 + x2\n",
            "array([[ 0.,  2.,  4.],\n",
            "       [ 3.,  5.,  7.],\n",
            "       [ 6.,  8., 10.]])\n",
            "None\n"
          ]
        }
      ],
      "source": [
        "print(np.info(np.add))"
      ]
    },
    {
      "cell_type": "markdown",
      "metadata": {
        "id": "oHblxl_b4Kzm"
      },
      "source": [
        "#### 6.  Create a null vector of size 10 but the fifth value which is 1 (★☆☆) \n",
        "(**hint**: array\\[4\\])"
      ]
    },
    {
      "cell_type": "code",
      "execution_count": 13,
      "metadata": {
        "colab": {
          "base_uri": "https://localhost:8080/"
        },
        "id": "B6n8Ctms4Kzm",
        "outputId": "42f0fbaf-2704-4306-a071-33dba4b39926"
      },
      "outputs": [
        {
          "output_type": "stream",
          "name": "stdout",
          "text": [
            "[0. 0. 0. 0. 1. 0. 0. 0. 0. 0.]\n"
          ]
        }
      ],
      "source": [
        "x=np.zeros(10)\n",
        "x[4]=1\n",
        "print(x)"
      ]
    },
    {
      "cell_type": "markdown",
      "metadata": {
        "id": "sZM5_eV04Kzn"
      },
      "source": [
        "#### 7.  Create a vector with values ranging from 10 to 49 (★☆☆) \n",
        "(**hint**: np.arange)"
      ]
    },
    {
      "cell_type": "code",
      "execution_count": 14,
      "metadata": {
        "colab": {
          "base_uri": "https://localhost:8080/"
        },
        "id": "IcFmGkd34Kzn",
        "outputId": "bf5011e3-2570-4fad-bc4f-a77a759336e4"
      },
      "outputs": [
        {
          "output_type": "stream",
          "name": "stdout",
          "text": [
            "[10 11 12 13 14 15 16 17 18 19 20 21 22 23 24 25 26 27 28 29 30 31 32 33\n",
            " 34 35 36 37 38 39 40 41 42 43 44 45 46 47 48]\n"
          ]
        }
      ],
      "source": [
        "x=np.arange(10,49)\n",
        "print(x)"
      ]
    },
    {
      "cell_type": "markdown",
      "metadata": {
        "id": "gGNr58L-4Kzn"
      },
      "source": [
        "#### 8.  Reverse a vector (first element becomes last) (★☆☆) \n",
        "(**hint**: array\\[::-1\\])"
      ]
    },
    {
      "cell_type": "code",
      "execution_count": 16,
      "metadata": {
        "colab": {
          "base_uri": "https://localhost:8080/"
        },
        "id": "bD_yj3oi4Kzo",
        "outputId": "bc2c55f4-a433-4856-9906-58cbc0043fa2"
      },
      "outputs": [
        {
          "output_type": "stream",
          "name": "stdout",
          "text": [
            "[48 47 46 45 44 43 42 41 40 39 38 37 36 35 34 33 32 31 30 29 28 27 26 25\n",
            " 24 23 22 21 20 19 18 17 16 15 14 13 12 11 10]\n"
          ]
        }
      ],
      "source": [
        "x=np.arange(10,49)\n",
        "x=x[::-1]\n",
        "print(x)"
      ]
    },
    {
      "cell_type": "markdown",
      "metadata": {
        "id": "hZgBnIrj4Kzo"
      },
      "source": [
        "#### 9.  Create a 3x3 matrix with values ranging from 0 to 8 (★☆☆) \n",
        "(**hint**: reshape)"
      ]
    },
    {
      "cell_type": "code",
      "execution_count": 24,
      "metadata": {
        "colab": {
          "base_uri": "https://localhost:8080/"
        },
        "id": "iMQiLKsV4Kzp",
        "outputId": "ebc9d28e-b2be-4b67-f1c5-950be7033d3c"
      },
      "outputs": [
        {
          "output_type": "execute_result",
          "data": {
            "text/plain": [
              "array([[0, 1, 2],\n",
              "       [3, 4, 5],\n",
              "       [6, 7, 8]])"
            ]
          },
          "metadata": {},
          "execution_count": 24
        }
      ],
      "source": [
        "x=np.arange(0,9)\n",
        "x.reshape(3,3)\n"
      ]
    },
    {
      "cell_type": "markdown",
      "metadata": {
        "id": "5koPUX-J4Kzp"
      },
      "source": [
        "#### 10. Find indices of non-zero elements from \\[1,2,0,0,4,0\\] (★☆☆) \n",
        "(**hint**: np.nonzero)"
      ]
    },
    {
      "cell_type": "code",
      "execution_count": 25,
      "metadata": {
        "colab": {
          "base_uri": "https://localhost:8080/"
        },
        "id": "NChpAsoe4Kzp",
        "outputId": "303e6fc1-4ec4-406b-d1c4-65507b3b7acc"
      },
      "outputs": [
        {
          "output_type": "execute_result",
          "data": {
            "text/plain": [
              "(array([0, 1, 4]),)"
            ]
          },
          "metadata": {},
          "execution_count": 25
        }
      ],
      "source": [
        "x=np.array([1,2,0,0,4,0])\n",
        "np.nonzero(x)"
      ]
    },
    {
      "cell_type": "markdown",
      "metadata": {
        "id": "jeEH6A5d4Kzq"
      },
      "source": [
        "#### 11. Create a 3x3 identity matrix (★☆☆) \n",
        "(**hint**: np.eye)"
      ]
    },
    {
      "cell_type": "code",
      "execution_count": 26,
      "metadata": {
        "colab": {
          "base_uri": "https://localhost:8080/"
        },
        "id": "hInbo6zF4Kzq",
        "outputId": "415747ca-e107-4bd6-fd42-7537d78677d0"
      },
      "outputs": [
        {
          "output_type": "execute_result",
          "data": {
            "text/plain": [
              "array([[1., 0., 0.],\n",
              "       [0., 1., 0.],\n",
              "       [0., 0., 1.]])"
            ]
          },
          "metadata": {},
          "execution_count": 26
        }
      ],
      "source": [
        "np.eye(3)"
      ]
    },
    {
      "cell_type": "markdown",
      "metadata": {
        "id": "2xBKwRos4Kzq"
      },
      "source": [
        "#### 12. Create a 3x3x3 array with random values (★☆☆) \n",
        "(**hint**: np.random.random)"
      ]
    },
    {
      "cell_type": "code",
      "execution_count": 29,
      "metadata": {
        "collapsed": true,
        "colab": {
          "base_uri": "https://localhost:8080/"
        },
        "id": "2fXbvQF84Kzr",
        "outputId": "87af7be5-3de2-4b93-b147-aaaf12790263"
      },
      "outputs": [
        {
          "output_type": "stream",
          "name": "stdout",
          "text": [
            "[[[0.49423376 0.52708964 0.38540878]\n",
            "  [0.26140414 0.06899917 0.84200765]\n",
            "  [0.55271919 0.66184841 0.12904079]]\n",
            "\n",
            " [[0.65736187 0.31381507 0.61070228]\n",
            "  [0.39493221 0.06473207 0.34032915]\n",
            "  [0.93550201 0.00702272 0.34174515]]\n",
            "\n",
            " [[0.68530657 0.11737398 0.08170922]\n",
            "  [0.85623328 0.7257731  0.62076823]\n",
            "  [0.22298244 0.10168002 0.63371241]]]\n"
          ]
        }
      ],
      "source": [
        "x=np.random.random((3,3,3))\n",
        "print(x)"
      ]
    },
    {
      "cell_type": "markdown",
      "metadata": {
        "id": "wN_01dZ34Kzr"
      },
      "source": [
        "#### 13. Create a 10x10 array with random values and find the minimum and maximum values (★☆☆) \n",
        "(**hint**: min, max)"
      ]
    },
    {
      "cell_type": "code",
      "execution_count": 31,
      "metadata": {
        "colab": {
          "base_uri": "https://localhost:8080/"
        },
        "id": "kpH09XAD4Kzr",
        "outputId": "a8e6e9c8-3e3f-42f6-8f98-e27eae357eb9"
      },
      "outputs": [
        {
          "output_type": "stream",
          "name": "stdout",
          "text": [
            "0.010431586959276595 0.9947827767652083\n"
          ]
        }
      ],
      "source": [
        "x=np.random.random((10,10))\n",
        "min,max=x.min(),x.max()\n",
        "print(min,max)"
      ]
    },
    {
      "cell_type": "markdown",
      "metadata": {
        "id": "iImoLQhp4Kzr"
      },
      "source": [
        "#### 14. Create a random vector of size 30 and find the mean value (★☆☆) \n",
        "(**hint**: mean)"
      ]
    },
    {
      "cell_type": "code",
      "execution_count": 33,
      "metadata": {
        "colab": {
          "base_uri": "https://localhost:8080/"
        },
        "id": "Qx9IQtfk4Kzr",
        "outputId": "eb48af67-7bb7-4b8e-d841-b0b84dd16e9b"
      },
      "outputs": [
        {
          "output_type": "stream",
          "name": "stdout",
          "text": [
            "0.49678451313857414\n"
          ]
        }
      ],
      "source": [
        "x=np.random.random(30)\n",
        "res=x.mean()\n",
        "print(res)"
      ]
    },
    {
      "cell_type": "markdown",
      "metadata": {
        "id": "6-aWqTwR4Kzs"
      },
      "source": [
        "#### 15. Create a 2d array with 1 on the border and 0 inside (★☆☆) \n",
        "(**hint**: array\\[1:-1, 1:-1\\])"
      ]
    },
    {
      "cell_type": "code",
      "execution_count": 37,
      "metadata": {
        "colab": {
          "base_uri": "https://localhost:8080/"
        },
        "id": "vUmgk6RE4Kzs",
        "outputId": "6c7b7dd0-36e5-43fa-a336-836aca319175"
      },
      "outputs": [
        {
          "output_type": "stream",
          "name": "stdout",
          "text": [
            "[[1. 1. 1. 1. 1. 1. 1. 1. 1. 1.]\n",
            " [1. 0. 0. 0. 0. 0. 0. 0. 0. 1.]\n",
            " [1. 0. 0. 0. 0. 0. 0. 0. 0. 1.]\n",
            " [1. 0. 0. 0. 0. 0. 0. 0. 0. 1.]\n",
            " [1. 0. 0. 0. 0. 0. 0. 0. 0. 1.]\n",
            " [1. 0. 0. 0. 0. 0. 0. 0. 0. 1.]\n",
            " [1. 0. 0. 0. 0. 0. 0. 0. 0. 1.]\n",
            " [1. 0. 0. 0. 0. 0. 0. 0. 0. 1.]\n",
            " [1. 0. 0. 0. 0. 0. 0. 0. 0. 1.]\n",
            " [1. 1. 1. 1. 1. 1. 1. 1. 1. 1.]]\n"
          ]
        }
      ],
      "source": [
        "x=np.ones((10,10))\n",
        "x[1:-1,1:-1]=0\n",
        "print(x)"
      ]
    },
    {
      "cell_type": "markdown",
      "metadata": {
        "id": "JZyT59az4Kzs"
      },
      "source": [
        "#### 16. How to add a border (filled with 0's) around an existing array? (★☆☆) \n",
        "(**hint**: np.pad)"
      ]
    },
    {
      "cell_type": "code",
      "execution_count": 40,
      "metadata": {
        "colab": {
          "base_uri": "https://localhost:8080/"
        },
        "id": "BVTHHF7_4Kzs",
        "outputId": "8f1d1d01-3125-4426-85a8-37821154a822"
      },
      "outputs": [
        {
          "output_type": "stream",
          "name": "stdout",
          "text": [
            "[[0. 0. 0. 0. 0. 0. 0.]\n",
            " [0. 1. 1. 1. 1. 1. 0.]\n",
            " [0. 1. 1. 1. 1. 1. 0.]\n",
            " [0. 1. 1. 1. 1. 1. 0.]\n",
            " [0. 1. 1. 1. 1. 1. 0.]\n",
            " [0. 1. 1. 1. 1. 1. 0.]\n",
            " [0. 0. 0. 0. 0. 0. 0.]]\n"
          ]
        }
      ],
      "source": [
        "x = np.ones((5,5))\n",
        "x = np.pad(x, pad_width=1, mode='constant', constant_values=0)\n",
        "print(x)"
      ]
    },
    {
      "cell_type": "markdown",
      "metadata": {
        "id": "-YNmSQQC4Kzt"
      },
      "source": [
        "#### 17. What is the result of the following expression? (★☆☆) \n",
        "(**hint**: NaN = not a number, inf = infinity)"
      ]
    },
    {
      "cell_type": "markdown",
      "metadata": {
        "id": "kClajtLE4Kzt"
      },
      "source": [
        "```python\n",
        "0 * np.nan\n",
        "np.nan == np.nan\n",
        "np.inf > np.nan\n",
        "np.nan - np.nan\n",
        "0.3 == 3 * 0.1\n",
        "```"
      ]
    },
    {
      "cell_type": "code",
      "execution_count": 41,
      "metadata": {
        "colab": {
          "base_uri": "https://localhost:8080/"
        },
        "id": "JcVv7Inj4Kzt",
        "outputId": "85ab08f6-2b1a-4f4a-d1d0-bf74e7372456"
      },
      "outputs": [
        {
          "output_type": "stream",
          "name": "stdout",
          "text": [
            "nan\n",
            "False\n",
            "False\n",
            "nan\n",
            "False\n"
          ]
        }
      ],
      "source": [
        "print(0 * np.nan)\n",
        "print(np.nan == np.nan)\n",
        "print(np.inf > np.nan)\n",
        "print(np.nan - np.nan)\n",
        "print(0.3 == 3 * 0.1)"
      ]
    },
    {
      "cell_type": "markdown",
      "metadata": {
        "id": "NuWn_VHq4Kzt"
      },
      "source": [
        "#### 18. Create a 5x5 matrix with values 1,2,3,4 just below the diagonal (★☆☆) \n",
        "(**hint**: np.diag)"
      ]
    },
    {
      "cell_type": "code",
      "execution_count": 42,
      "metadata": {
        "colab": {
          "base_uri": "https://localhost:8080/"
        },
        "id": "gdOMcc8j4Kzu",
        "outputId": "1cd95503-109e-40f5-ee34-53b6cea9dac5"
      },
      "outputs": [
        {
          "output_type": "stream",
          "name": "stdout",
          "text": [
            "[[0 0 0 0 0]\n",
            " [1 0 0 0 0]\n",
            " [0 2 0 0 0]\n",
            " [0 0 3 0 0]\n",
            " [0 0 0 4 0]]\n"
          ]
        }
      ],
      "source": [
        "x = np.diag(1+np.arange(4), k = -1)\n",
        "print (x)"
      ]
    },
    {
      "cell_type": "markdown",
      "metadata": {
        "id": "UdeZIIBt4Kzu"
      },
      "source": [
        "#### 19. Create a 8x8 matrix and fill it with a checkerboard pattern (★☆☆) \n",
        "(**hint**: array\\[::2\\])"
      ]
    },
    {
      "cell_type": "code",
      "execution_count": 45,
      "metadata": {
        "colab": {
          "base_uri": "https://localhost:8080/"
        },
        "id": "-nZ3aO1J4Kzu",
        "outputId": "0fa4087b-a952-4b6f-a65d-e6969c4cb8b8"
      },
      "outputs": [
        {
          "output_type": "stream",
          "name": "stdout",
          "text": [
            "[[0 1 0 1 0 1 0 1]\n",
            " [1 0 1 0 1 0 1 0]\n",
            " [0 1 0 1 0 1 0 1]\n",
            " [1 0 1 0 1 0 1 0]\n",
            " [0 1 0 1 0 1 0 1]\n",
            " [1 0 1 0 1 0 1 0]\n",
            " [0 1 0 1 0 1 0 1]\n",
            " [1 0 1 0 1 0 1 0]]\n"
          ]
        }
      ],
      "source": [
        "x = np.zeros ((8,8), dtype=int)\n",
        "x[1::2, ::2]= 1\n",
        "x[::2, 1::2] = 1\n",
        "print (x)"
      ]
    },
    {
      "cell_type": "markdown",
      "metadata": {
        "id": "bdMIEoRO4Kzu"
      },
      "source": [
        "#### 20. Consider a (6,7,8) shape array, what is the index (x,y,z) of the 100th element? \n",
        "(**hint**: np.unravel_index)"
      ]
    },
    {
      "cell_type": "code",
      "execution_count": 46,
      "metadata": {
        "colab": {
          "base_uri": "https://localhost:8080/"
        },
        "id": "bPl224vc4Kzv",
        "outputId": "6442dd69-59f1-46b2-e087-2f1fa12738a2"
      },
      "outputs": [
        {
          "output_type": "stream",
          "name": "stdout",
          "text": [
            "(1, 5, 4)\n"
          ]
        }
      ],
      "source": [
        "print (np.unravel_index(100, (6,7,8)))"
      ]
    },
    {
      "cell_type": "markdown",
      "metadata": {
        "id": "rVv7dCBf4Kzv"
      },
      "source": [
        "#### 21. Create a checkerboard 8x8 matrix using the tile function (★☆☆) \n",
        "(**hint**: np.tile)"
      ]
    },
    {
      "cell_type": "code",
      "source": [
        "arr= np.array([[0,1], [1,0]])\n",
        "x = np.tile(arr,(4,4))\n",
        "print (x)"
      ],
      "metadata": {
        "colab": {
          "base_uri": "https://localhost:8080/"
        },
        "id": "OF2GsMKqGCse",
        "outputId": "1d622ebe-2a4a-4fce-84be-5416aeb9e134"
      },
      "execution_count": 47,
      "outputs": [
        {
          "output_type": "stream",
          "name": "stdout",
          "text": [
            "[[0 1 0 1 0 1 0 1]\n",
            " [1 0 1 0 1 0 1 0]\n",
            " [0 1 0 1 0 1 0 1]\n",
            " [1 0 1 0 1 0 1 0]\n",
            " [0 1 0 1 0 1 0 1]\n",
            " [1 0 1 0 1 0 1 0]\n",
            " [0 1 0 1 0 1 0 1]\n",
            " [1 0 1 0 1 0 1 0]]\n"
          ]
        }
      ]
    },
    {
      "cell_type": "markdown",
      "metadata": {
        "id": "kqz7dPov4Kzv"
      },
      "source": [
        "#### 22. Normalize a 5x5 random matrix (★☆☆) \n",
        "(**hint**: (x - min) / (max - min))"
      ]
    },
    {
      "cell_type": "code",
      "execution_count": 48,
      "metadata": {
        "colab": {
          "base_uri": "https://localhost:8080/"
        },
        "id": "uvObtr_b4Kzw",
        "outputId": "8519c8ac-c442-4196-8f33-2773538a8dd4"
      },
      "outputs": [
        {
          "output_type": "stream",
          "name": "stdout",
          "text": [
            "[[0.30175699 0.23626708 0.97121219 0.33640493 0.01474566]\n",
            " [0.94215365 0.52813284 0.07223633 0.0505075  0.60881732]\n",
            " [0.96354522 0.4122347  0.12555903 0.62284591 0.2958698 ]\n",
            " [0.33040355 0.12682286 0.95099979 0.08027576 0.83553569]\n",
            " [0.8603329  0.         1.         0.84123472 0.18144625]]\n"
          ]
        }
      ],
      "source": [
        "x = np.random.random((5,5))\n",
        "max, min = x.max(), x.min()\n",
        "x = (x-min)/(max-min)\n",
        "print (x)"
      ]
    },
    {
      "cell_type": "markdown",
      "metadata": {
        "id": "pz4dKE2A4Kzw"
      },
      "source": [
        "#### 23. Create a custom dtype that describes a color as four unsigned bytes (RGBA) (★☆☆) \n",
        "(**hint**: np.dtype)"
      ]
    },
    {
      "cell_type": "code",
      "execution_count": 52,
      "metadata": {
        "collapsed": true,
        "colab": {
          "base_uri": "https://localhost:8080/"
        },
        "id": "OBuorFza4Kzx",
        "outputId": "a20a37c3-c14b-404a-dab7-3c8ce0bf2687"
      },
      "outputs": [
        {
          "output_type": "stream",
          "name": "stdout",
          "text": [
            "[('R', 'u1'), ('G', 'u1'), ('B', 'u1'), ('A', 'u1')]\n"
          ]
        }
      ],
      "source": [
        "color = np.dtype([(\"R\", np.ubyte),\n",
        "                  (\"G\", np.ubyte),\n",
        "                  (\"B\", np.ubyte),\n",
        "                  (\"A\", np.ubyte)])\n",
        "print(color)"
      ]
    },
    {
      "cell_type": "markdown",
      "metadata": {
        "id": "JURrfzCE4Kzx"
      },
      "source": [
        "#### 24. Multiply a 5x3 matrix by a 3x2 matrix (real matrix product) (★☆☆) \n",
        "(**hint**: np.dot | @)"
      ]
    },
    {
      "cell_type": "code",
      "execution_count": 53,
      "metadata": {
        "colab": {
          "base_uri": "https://localhost:8080/"
        },
        "id": "V_oCtkWw4Kzx",
        "outputId": "63d59c04-f6e0-4674-e452-d79b2acd2e6d"
      },
      "outputs": [
        {
          "output_type": "stream",
          "name": "stdout",
          "text": [
            "[[3. 3.]\n",
            " [3. 3.]\n",
            " [3. 3.]\n",
            " [3. 3.]\n",
            " [3. 3.]]\n"
          ]
        }
      ],
      "source": [
        "x = np.dot(np.ones((5,3)), np.ones((3,2)))\n",
        "print(x)"
      ]
    },
    {
      "cell_type": "markdown",
      "metadata": {
        "id": "_E58FNLG4Kzx"
      },
      "source": [
        "#### 25. Given a 1D array, negate all elements which are between 3 and 8, in place. (★☆☆) \n",
        "(**hint**: >, <=)"
      ]
    },
    {
      "cell_type": "code",
      "execution_count": 56,
      "metadata": {
        "colab": {
          "base_uri": "https://localhost:8080/"
        },
        "id": "gh4Bm8xn4Kzx",
        "outputId": "5fec08bc-dd72-4685-af7e-cf4b33bf9c4f"
      },
      "outputs": [
        {
          "output_type": "stream",
          "name": "stdout",
          "text": [
            "[ 0  1  2  3 -4 -5 -6 -7 -8  9]\n"
          ]
        }
      ],
      "source": [
        "x = np.arange(10)\n",
        "x[(3 < x) & (x <= 8)] *=-1\n",
        "print(x)"
      ]
    },
    {
      "cell_type": "markdown",
      "metadata": {
        "id": "XJN3VvW14Kzy"
      },
      "source": [
        "#### 26. What is the output of the following script? (★☆☆) \n",
        "(**hint**: np.sum)"
      ]
    },
    {
      "cell_type": "markdown",
      "metadata": {
        "id": "Mb5-rDQw4Kzy"
      },
      "source": [
        "```python\n",
        "# Author: Jake VanderPlas\n",
        "\n",
        "print(sum(range(5),-1))\n",
        "from numpy import *\n",
        "print(sum(range(5),-1))\n",
        "```"
      ]
    },
    {
      "cell_type": "code",
      "execution_count": 57,
      "metadata": {
        "colab": {
          "base_uri": "https://localhost:8080/"
        },
        "id": "1UIxvzes4Kzy",
        "outputId": "5208b124-fc3f-4c0d-a832-6a7984c3edd2"
      },
      "outputs": [
        {
          "output_type": "stream",
          "name": "stdout",
          "text": [
            "9\n",
            "10\n"
          ]
        }
      ],
      "source": [
        "print(sum(range(5),-1))\n",
        "from numpy import *\n",
        "print(sum(range(5),-1))"
      ]
    },
    {
      "cell_type": "markdown",
      "metadata": {
        "id": "WL3eyHlJ4Kzy"
      },
      "source": [
        "#### 27. Consider an integer vector Z, which of these expressions are legal? (★☆☆)"
      ]
    },
    {
      "cell_type": "markdown",
      "metadata": {
        "id": "WbXWplnX4Kzz"
      },
      "source": [
        "```python\n",
        "Z**Z\n",
        "2 << Z >> 2\n",
        "Z <- Z\n",
        "1j*Z\n",
        "Z/1/1\n",
        "Z<Z>Z\n",
        "```"
      ]
    },
    {
      "cell_type": "code",
      "execution_count": 66,
      "metadata": {
        "colab": {
          "base_uri": "https://localhost:8080/"
        },
        "id": "VcKC1Lyw4Kzz",
        "outputId": "d51115d4-aa1d-4b1f-e547-00b2ed994f62"
      },
      "outputs": [
        {
          "output_type": "stream",
          "name": "stdout",
          "text": [
            "[        1         1         4        27       256      3125     46656\n",
            "    823543  16777216 387420489]\n",
            "[  0   1   2   4   8  16  32  64 128 256]\n",
            "[False False False False False False False False False False]\n",
            "[0.+0.j 0.+1.j 0.+2.j 0.+3.j 0.+4.j 0.+5.j 0.+6.j 0.+7.j 0.+8.j 0.+9.j]\n",
            "[0. 1. 2. 3. 4. 5. 6. 7. 8. 9.]\n"
          ]
        }
      ],
      "source": [
        "z=np.arange(10)\n",
        "print(z**z)\n",
        "print(2<<z>>2)\n",
        "print(z <- z)\n",
        "print(1j*z)\n",
        "print(z/1/1)\n"
      ]
    },
    {
      "cell_type": "markdown",
      "metadata": {
        "id": "CeaoarU24Kzz"
      },
      "source": [
        "#### 28. What are the result of the following expressions?"
      ]
    },
    {
      "cell_type": "markdown",
      "metadata": {
        "id": "6I8lXoXy4Kzz"
      },
      "source": [
        "```python\n",
        "np.array(0) / np.array(0)\n",
        "np.array(0) // np.array(0)\n",
        "np.array([np.nan]).astype(int).astype(float)\n",
        "```"
      ]
    },
    {
      "cell_type": "code",
      "execution_count": 67,
      "metadata": {
        "colab": {
          "base_uri": "https://localhost:8080/"
        },
        "id": "M2vtvrsD4Kz0",
        "outputId": "b4823668-7e13-44ac-952a-5b77296c6b37"
      },
      "outputs": [
        {
          "output_type": "stream",
          "name": "stdout",
          "text": [
            "nan\n",
            "0\n",
            "[-9.22337204e+18]\n"
          ]
        },
        {
          "output_type": "stream",
          "name": "stderr",
          "text": [
            "/usr/local/lib/python3.7/dist-packages/ipykernel_launcher.py:1: RuntimeWarning: invalid value encountered in true_divide\n",
            "  \"\"\"Entry point for launching an IPython kernel.\n",
            "/usr/local/lib/python3.7/dist-packages/ipykernel_launcher.py:2: RuntimeWarning: divide by zero encountered in floor_divide\n",
            "  \n"
          ]
        }
      ],
      "source": [
        "print(np.array(0) / np.array(0))\n",
        "print(np.array(0) // np.array(0))\n",
        "print(np.array([np.nan]).astype(int).astype(float))"
      ]
    },
    {
      "cell_type": "markdown",
      "metadata": {
        "id": "2tCRu4Mi4Kz0"
      },
      "source": [
        "#### 29. How to round away from zero a float array ? (★☆☆) \n",
        "(**hint**: np.uniform, np.copysign, np.ceil, np.abs)"
      ]
    },
    {
      "cell_type": "code",
      "execution_count": 68,
      "metadata": {
        "colab": {
          "base_uri": "https://localhost:8080/"
        },
        "id": "zLHPcrrd4Kz1",
        "outputId": "6860c2f2-43fb-49a4-bc13-3a6f18caa4fa"
      },
      "outputs": [
        {
          "output_type": "stream",
          "name": "stdout",
          "text": [
            "[  1.  -7.  -4. -10.  -9.  -5.   8.   7.  -4.  -9.]\n"
          ]
        }
      ],
      "source": [
        "x = np.random.uniform(-10,+10,10)\n",
        "print(np.copysign(np.ceil(np.abs(x)), x))\n"
      ]
    },
    {
      "cell_type": "markdown",
      "metadata": {
        "id": "SJ2uS-Yd4Kz1"
      },
      "source": [
        "#### 30. How to find common values between two arrays? (★☆☆) \n",
        "(**hint**: np.intersect1d)"
      ]
    },
    {
      "cell_type": "code",
      "execution_count": 71,
      "metadata": {
        "colab": {
          "base_uri": "https://localhost:8080/"
        },
        "id": "wIahzPdw4Kz1",
        "outputId": "cf72bce7-7560-4f74-a6c2-3ab8781190bd"
      },
      "outputs": [
        {
          "output_type": "stream",
          "name": "stdout",
          "text": [
            "[ 3  7 10 13]\n"
          ]
        }
      ],
      "source": [
        "x1 = np.random.randint(0,15,15)\n",
        "x2 = np.random.randint(0,15,15)\n",
        "print(np.intersect1d(x1,x2))"
      ]
    },
    {
      "cell_type": "markdown",
      "metadata": {
        "id": "0jjNT8O44Kz1"
      },
      "source": [
        "#### 31. How to ignore all numpy warnings (not recommended)? (★☆☆) \n",
        "(**hint**: np.seterr, np.errstate)"
      ]
    },
    {
      "cell_type": "code",
      "execution_count": 74,
      "metadata": {
        "id": "keweL2Vt4Kz1"
      },
      "outputs": [],
      "source": [
        "\n",
        "# Suicide mode on\n",
        "defaults = np.seterr(all=\"ignore\")\n",
        "Z = np.ones(1) / 0\n",
        "\n",
        "# Back to sanity\n",
        "_ = np.seterr(**defaults)\n",
        "\n",
        "# Equivalently with a context manager\n",
        "with np.errstate(all=\"ignore\"):\n",
        "    np.arange(1) / 0"
      ]
    },
    {
      "cell_type": "markdown",
      "metadata": {
        "id": "o1g7y8Ls4Kz2"
      },
      "source": [
        "#### 32. Is the following expressions true? (★☆☆) \n",
        "(**hint**: imaginary number)"
      ]
    },
    {
      "cell_type": "markdown",
      "metadata": {
        "id": "TUytEamx4Kz2"
      },
      "source": [
        "```python\n",
        "np.sqrt(-1) == np.emath.sqrt(-1)\n",
        "```"
      ]
    },
    {
      "cell_type": "code",
      "execution_count": 78,
      "metadata": {
        "colab": {
          "base_uri": "https://localhost:8080/"
        },
        "id": "Tf2ODHep4Kz2",
        "outputId": "b7d535df-ec25-49f5-93d3-02beefbfb029"
      },
      "outputs": [
        {
          "output_type": "stream",
          "name": "stdout",
          "text": [
            "False\n"
          ]
        },
        {
          "output_type": "stream",
          "name": "stderr",
          "text": [
            "/usr/local/lib/python3.7/dist-packages/ipykernel_launcher.py:1: RuntimeWarning: invalid value encountered in sqrt\n",
            "  \"\"\"Entry point for launching an IPython kernel.\n"
          ]
        }
      ],
      "source": [
        "print(np.sqrt(-1) == np.emath.sqrt(-1))"
      ]
    },
    {
      "cell_type": "markdown",
      "metadata": {
        "id": "wwxhDPXd4Kz2"
      },
      "source": [
        "#### 33. How to get the dates of yesterday, today and tomorrow? (★☆☆) \n",
        "(**hint**: np.datetime64, np.timedelta64)"
      ]
    },
    {
      "cell_type": "code",
      "execution_count": 81,
      "metadata": {
        "collapsed": true,
        "id": "2VxMQQsk4Kz2"
      },
      "outputs": [],
      "source": [
        "yesterday = np.datetime64('today') - np.timedelta64(1)\n",
        "today     = np.datetime64('today')\n",
        "tomorrow  = np.datetime64('today') + np.timedelta64(1)"
      ]
    },
    {
      "cell_type": "markdown",
      "metadata": {
        "id": "oqsnE7Hk4Kz2"
      },
      "source": [
        "#### 34. How to get all the dates corresponding to the month of July 2016? (★★☆) \n",
        "(**hint**: np.arange(dtype=datetime64\\['D'\\]))"
      ]
    },
    {
      "cell_type": "code",
      "execution_count": 82,
      "metadata": {
        "colab": {
          "base_uri": "https://localhost:8080/"
        },
        "id": "Joe4jdcQ4Kz3",
        "outputId": "bc935d6e-8146-4f9a-fcac-9134423cff40"
      },
      "outputs": [
        {
          "output_type": "stream",
          "name": "stdout",
          "text": [
            "['2016-07-01' '2016-07-02' '2016-07-03' '2016-07-04' '2016-07-05'\n",
            " '2016-07-06' '2016-07-07' '2016-07-08' '2016-07-09' '2016-07-10'\n",
            " '2016-07-11' '2016-07-12' '2016-07-13' '2016-07-14' '2016-07-15'\n",
            " '2016-07-16' '2016-07-17' '2016-07-18' '2016-07-19' '2016-07-20'\n",
            " '2016-07-21' '2016-07-22' '2016-07-23' '2016-07-24' '2016-07-25'\n",
            " '2016-07-26' '2016-07-27' '2016-07-28' '2016-07-29' '2016-07-30'\n",
            " '2016-07-31']\n"
          ]
        }
      ],
      "source": [
        "x = np.arange('2016-07', '2016-08', dtype='datetime64[D]')\n",
        "print(x)"
      ]
    },
    {
      "cell_type": "markdown",
      "metadata": {
        "id": "jH00VwKe4Kz3"
      },
      "source": [
        "#### 35. How to compute ((A+B)\\*(-A/2)) in place (without copy)? (★★☆) \n",
        "(**hint**: np.add(out=), np.negative(out=), np.multiply(out=), np.divide(out=))"
      ]
    },
    {
      "cell_type": "code",
      "execution_count": 83,
      "metadata": {
        "colab": {
          "base_uri": "https://localhost:8080/"
        },
        "id": "M8umXBys4Kz3",
        "outputId": "ecd974a1-c42a-44f4-b930-1471ff5d2154"
      },
      "outputs": [
        {
          "output_type": "execute_result",
          "data": {
            "text/plain": [
              "array([-1.5, -1.5, -1.5])"
            ]
          },
          "metadata": {},
          "execution_count": 83
        }
      ],
      "source": [
        "A = np.ones(3)*1\n",
        "B = np.ones(3)*2\n",
        "np.add(A,B,out=B)\n",
        "np.divide(A,2,out=A)\n",
        "np.negative(A,out=A)\n",
        "np.multiply(A,B,out=A)"
      ]
    },
    {
      "cell_type": "markdown",
      "metadata": {
        "id": "_vUpzD_K4Kz3"
      },
      "source": [
        "#### 36. Extract the integer part of a random array using 5 different methods (★★☆) \n",
        "(**hint**: %, np.floor, np.ceil, astype, np.trunc)"
      ]
    },
    {
      "cell_type": "code",
      "execution_count": 85,
      "metadata": {
        "colab": {
          "base_uri": "https://localhost:8080/"
        },
        "id": "lslyYyR34Kz3",
        "outputId": "51eca1f6-cba0-48f5-98c0-dde7333c9612"
      },
      "outputs": [
        {
          "output_type": "stream",
          "name": "stdout",
          "text": [
            "[0.27961366 0.44108874 0.37710431 0.91127383 0.66472941 0.46323178\n",
            " 0.22657159 0.73688067 0.65697615 0.13339529]\n",
            "[2. 3. 4. 3. 1. 3. 2. 8. 3. 5.]\n",
            "[1. 2. 3. 2. 0. 2. 1. 7. 2. 4.]\n",
            "[1 2 3 2 0 2 1 7 2 4]\n",
            "[1. 2. 3. 2. 0. 2. 1. 7. 2. 4.]\n"
          ]
        }
      ],
      "source": [
        "x = np.random.uniform(0,10,10)\n",
        "print(x % 1)\n",
        "print(np.ceil(x))\n",
        "print(np.floor(x))\n",
        "print(x.astype(int))\n",
        "print(np.trunc(x))"
      ]
    },
    {
      "cell_type": "markdown",
      "metadata": {
        "id": "QkZPhBc-4Kz4"
      },
      "source": [
        "#### 37. Create a 5x5 matrix with row values ranging from 0 to 4 (★★☆) \n",
        "(**hint**: np.arange)"
      ]
    },
    {
      "cell_type": "code",
      "execution_count": 88,
      "metadata": {
        "colab": {
          "base_uri": "https://localhost:8080/"
        },
        "id": "pmdCAdRa4Kz4",
        "outputId": "4b58f321-c7fc-440b-cb9b-ce22205029c1"
      },
      "outputs": [
        {
          "output_type": "stream",
          "name": "stdout",
          "text": [
            "[[0 1 2 3 4]\n",
            " [0 1 2 3 4]\n",
            " [0 1 2 3 4]\n",
            " [0 1 2 3 4]\n",
            " [0 1 2 3 4]]\n"
          ]
        }
      ],
      "source": [
        "\n",
        "x = np.tile(np.arange(0, 5), (5,1))\n",
        "print(x)\n"
      ]
    },
    {
      "cell_type": "markdown",
      "metadata": {
        "id": "4bkbU2Lx4Kz4"
      },
      "source": [
        "#### 38. Consider a generator function that generates 10 integers and use it to build an array (★☆☆) \n",
        "(**hint**: np.fromiter)"
      ]
    },
    {
      "cell_type": "code",
      "execution_count": 91,
      "metadata": {
        "colab": {
          "base_uri": "https://localhost:8080/"
        },
        "id": "WHcoHFSu4Kz4",
        "outputId": "11cac639-82ae-42fc-b447-e531f9c814d4"
      },
      "outputs": [
        {
          "output_type": "stream",
          "name": "stdout",
          "text": [
            "[0. 1. 2. 3. 4. 5. 6. 7. 8. 9.]\n"
          ]
        }
      ],
      "source": [
        "def generate():\n",
        "    for x in range(10):\n",
        "        yield x\n",
        "x = np.fromiter(generate(),dtype=float,count=-1)\n",
        "print(x)"
      ]
    },
    {
      "cell_type": "markdown",
      "metadata": {
        "id": "mXi6nvX_4Kz4"
      },
      "source": [
        "#### 39. Create a vector of size 10 with values ranging from 0 to 1, both excluded (★★☆) \n",
        "(**hint**: np.linspace)"
      ]
    },
    {
      "cell_type": "code",
      "execution_count": 93,
      "metadata": {
        "colab": {
          "base_uri": "https://localhost:8080/"
        },
        "id": "G60mm2o64Kz5",
        "outputId": "c60eaf35-26d8-496a-a797-8286bb00a0ee"
      },
      "outputs": [
        {
          "output_type": "stream",
          "name": "stdout",
          "text": [
            "[0.09090909 0.18181818 0.27272727 0.36363636 0.45454545 0.54545455\n",
            " 0.63636364 0.72727273 0.81818182 0.90909091]\n"
          ]
        }
      ],
      "source": [
        "x = np.linspace(0,1,11,endpoint=False)[1:]\n",
        "print(x)"
      ]
    },
    {
      "cell_type": "markdown",
      "metadata": {
        "id": "GI6lzYTo4Kz5"
      },
      "source": [
        "#### 40. Create a random vector of size 10 and sort it (★★☆) \n",
        "(**hint**: sort)"
      ]
    },
    {
      "cell_type": "code",
      "execution_count": 94,
      "metadata": {
        "colab": {
          "base_uri": "https://localhost:8080/"
        },
        "id": "Xw5B7dGI4Kz5",
        "outputId": "762c1c64-2cc5-4df7-ccbc-f6b7a741117d"
      },
      "outputs": [
        {
          "output_type": "stream",
          "name": "stdout",
          "text": [
            "[0.19489387 0.23552044 0.23639735 0.38544464 0.48879471 0.70964197\n",
            " 0.73053606 0.73849912 0.76883843 0.89083977]\n"
          ]
        }
      ],
      "source": [
        "x = np.random.random(10)\n",
        "x.sort()\n",
        "print(x)"
      ]
    },
    {
      "cell_type": "markdown",
      "metadata": {
        "id": "clOENTV24Kz5"
      },
      "source": [
        "#### 41. How to sum a small array faster than np.sum? (★★☆) \n",
        "(**hint**: np.add.reduce)"
      ]
    },
    {
      "cell_type": "code",
      "execution_count": 6,
      "metadata": {
        "colab": {
          "base_uri": "https://localhost:8080/"
        },
        "id": "J3CZfRUR4Kz5",
        "outputId": "d4dde0cb-1a5d-4e61-ad65-20ffbced2e1c"
      },
      "outputs": [
        {
          "output_type": "execute_result",
          "data": {
            "text/plain": [
              "45"
            ]
          },
          "metadata": {},
          "execution_count": 6
        }
      ],
      "source": [
        "x = np.arange(10)\n",
        "np.add.reduce(x)"
      ]
    },
    {
      "cell_type": "markdown",
      "metadata": {
        "id": "x3U5otDw4Kz6"
      },
      "source": [
        "#### 42. Consider two random array A and B, check if they are equal (★★☆) \n",
        "(**hint**: np.allclose, np.array\\_equal)"
      ]
    },
    {
      "cell_type": "code",
      "execution_count": 7,
      "metadata": {
        "colab": {
          "base_uri": "https://localhost:8080/"
        },
        "id": "7fDR8wr-4Kz6",
        "outputId": "a5e83c5d-f039-472c-ee57-3379236dde3c"
      },
      "outputs": [
        {
          "output_type": "stream",
          "name": "stdout",
          "text": [
            "False\n",
            "False\n"
          ]
        }
      ],
      "source": [
        "A=np.random.randint(0,10,2)\n",
        "B=np.random.randint(0,10,2)\n",
        "equal_1=np.allclose(A,B)\n",
        "print(equal_1)\n",
        "equal_2=np.array_equal(A,B)\n",
        "print(equal_2)"
      ]
    },
    {
      "cell_type": "markdown",
      "metadata": {
        "id": "rMZqKwbh4Kz6"
      },
      "source": [
        "#### 43. Make an array immutable (read-only) (★★☆) \n",
        "(**hint**: flags.writeable)"
      ]
    },
    {
      "cell_type": "code",
      "execution_count": 11,
      "metadata": {
        "colab": {
          "base_uri": "https://localhost:8080/",
          "height": 217
        },
        "id": "DcGPXV-M4Kz6",
        "outputId": "d98fcebf-3c7e-43ea-8bfd-44b40556c024"
      },
      "outputs": [
        {
          "output_type": "error",
          "ename": "ValueError",
          "evalue": "ignored",
          "traceback": [
            "\u001b[0;31m---------------------------------------------------------------------------\u001b[0m",
            "\u001b[0;31mValueError\u001b[0m                                Traceback (most recent call last)",
            "\u001b[0;32m<ipython-input-11-24a5fddb3fc5>\u001b[0m in \u001b[0;36m<module>\u001b[0;34m()\u001b[0m\n\u001b[1;32m      1\u001b[0m \u001b[0mx\u001b[0m \u001b[0;34m=\u001b[0m \u001b[0mnp\u001b[0m\u001b[0;34m.\u001b[0m\u001b[0mzeros\u001b[0m\u001b[0;34m(\u001b[0m\u001b[0;36m10\u001b[0m\u001b[0;34m)\u001b[0m\u001b[0;34m\u001b[0m\u001b[0;34m\u001b[0m\u001b[0m\n\u001b[1;32m      2\u001b[0m \u001b[0mx\u001b[0m\u001b[0;34m.\u001b[0m\u001b[0mflags\u001b[0m\u001b[0;34m.\u001b[0m\u001b[0mwriteable\u001b[0m \u001b[0;34m=\u001b[0m \u001b[0;32mFalse\u001b[0m\u001b[0;34m\u001b[0m\u001b[0;34m\u001b[0m\u001b[0m\n\u001b[0;32m----> 3\u001b[0;31m \u001b[0mx\u001b[0m\u001b[0;34m[\u001b[0m\u001b[0;36m0\u001b[0m\u001b[0;34m]\u001b[0m \u001b[0;34m=\u001b[0m \u001b[0;36m1\u001b[0m\u001b[0;34m\u001b[0m\u001b[0;34m\u001b[0m\u001b[0m\n\u001b[0m\u001b[1;32m      4\u001b[0m \u001b[0mprint\u001b[0m\u001b[0;34m(\u001b[0m\u001b[0mx\u001b[0m\u001b[0;34m)\u001b[0m\u001b[0;34m\u001b[0m\u001b[0;34m\u001b[0m\u001b[0m\n",
            "\u001b[0;31mValueError\u001b[0m: assignment destination is read-only"
          ]
        }
      ],
      "source": [
        "x = np.zeros(10)\n",
        "x.flags.writeable = False\n",
        "x[0] = 1\n"
      ]
    },
    {
      "cell_type": "markdown",
      "metadata": {
        "id": "RO430OmG4Kz6"
      },
      "source": [
        "#### 44. Consider a random 10x2 matrix representing cartesian coordinates, convert them to polar coordinates (★★☆) \n",
        "(**hint**: np.sqrt, np.arctan2)"
      ]
    },
    {
      "cell_type": "code",
      "execution_count": 13,
      "metadata": {
        "colab": {
          "base_uri": "https://localhost:8080/"
        },
        "id": "34ibB65-4Kz7",
        "outputId": "4262846c-d676-48f9-c9a5-b7a03a6162c1"
      },
      "outputs": [
        {
          "output_type": "stream",
          "name": "stdout",
          "text": [
            "[0.07162825 1.34307804 0.77389784 1.15198374 0.70067481 0.32387269\n",
            " 0.24779267 0.81638441 0.25865154 0.29608143]\n",
            "[1.10577268 0.73788279 1.07464822 0.94803166 0.10081674 0.15459898\n",
            " 1.30978669 0.92348239 0.97122298 1.5583244 ]\n"
          ]
        }
      ],
      "source": [
        "Z = np.random.random((10,2))\n",
        "X,Y = Z[:,0], Z[:,1]\n",
        "R = np.sqrt(X**2+Y**2)\n",
        "T = np.arctan2(Y,X)\n",
        "print(R)\n",
        "print(T)"
      ]
    },
    {
      "cell_type": "markdown",
      "metadata": {
        "id": "1OZgWRNa4Kz7"
      },
      "source": [
        "#### 45. Create random vector of size 10 and replace the maximum value by 0 (★★☆) \n",
        "(**hint**: argmax)"
      ]
    },
    {
      "cell_type": "code",
      "execution_count": 16,
      "metadata": {
        "colab": {
          "base_uri": "https://localhost:8080/"
        },
        "id": "WJnXLvwh4Kz7",
        "outputId": "a35f36ad-645c-4788-c72c-e67cb95daf1b"
      },
      "outputs": [
        {
          "output_type": "stream",
          "name": "stdout",
          "text": [
            "[0.67792189 0.00462251 0.90555803 0.48980303 0.68031322 0.73600747\n",
            " 0.01745835 0.         0.12828762 0.0361751 ]\n"
          ]
        }
      ],
      "source": [
        "x=np.random.random(10)\n",
        "x[x.argmax()]=0\n",
        "print(x)"
      ]
    },
    {
      "cell_type": "markdown",
      "metadata": {
        "id": "RoEaQt1G4Kz7"
      },
      "source": [
        "#### 46. Create a structured array with `x` and `y` coordinates covering the \\[0,1\\]x\\[0,1\\] area (★★☆) \n",
        "(**hint**: np.meshgrid)"
      ]
    },
    {
      "cell_type": "code",
      "execution_count": 17,
      "metadata": {
        "colab": {
          "base_uri": "https://localhost:8080/"
        },
        "id": "2LPn-Gkq4Kz7",
        "outputId": "beab995d-34d1-4b40-da69-0e9e5730b964"
      },
      "outputs": [
        {
          "output_type": "stream",
          "name": "stdout",
          "text": [
            "[[(0.  , 0.  ) (0.25, 0.  ) (0.5 , 0.  ) (0.75, 0.  ) (1.  , 0.  )]\n",
            " [(0.  , 0.25) (0.25, 0.25) (0.5 , 0.25) (0.75, 0.25) (1.  , 0.25)]\n",
            " [(0.  , 0.5 ) (0.25, 0.5 ) (0.5 , 0.5 ) (0.75, 0.5 ) (1.  , 0.5 )]\n",
            " [(0.  , 0.75) (0.25, 0.75) (0.5 , 0.75) (0.75, 0.75) (1.  , 0.75)]\n",
            " [(0.  , 1.  ) (0.25, 1.  ) (0.5 , 1.  ) (0.75, 1.  ) (1.  , 1.  )]]\n"
          ]
        }
      ],
      "source": [
        "X = np.zeros((5,5), [('x',float),('y',float)])\n",
        "X['x'], X['y'] = np.meshgrid(np.linspace(0,1,5),\n",
        "                             np.linspace(0,1,5))\n",
        "print(X)"
      ]
    },
    {
      "cell_type": "markdown",
      "metadata": {
        "id": "qwDo_hdr4Kz7"
      },
      "source": [
        "####  47. Given two arrays, X and Y, construct the Cauchy matrix C (Cij =1/(xi - yj)) \n",
        "(**hint**: np.subtract.outer)"
      ]
    },
    {
      "cell_type": "code",
      "execution_count": 18,
      "metadata": {
        "colab": {
          "base_uri": "https://localhost:8080/"
        },
        "id": "NcGSQP1k4Kz8",
        "outputId": "44f2589b-a688-4e31-8691-e6a0c1970cb0"
      },
      "outputs": [
        {
          "output_type": "stream",
          "name": "stdout",
          "text": [
            "3638.163637117973\n"
          ]
        }
      ],
      "source": [
        "X = np.arange(8)\n",
        "Y = X + 0.5\n",
        "C = 1.0 / np.subtract.outer(X, Y)\n",
        "print(np.linalg.det(C))"
      ]
    },
    {
      "cell_type": "markdown",
      "metadata": {
        "id": "tm1IFzfp4Kz8"
      },
      "source": [
        "#### 48. Print the minimum and maximum representable value for each numpy scalar type (★★☆) \n",
        "(**hint**: np.iinfo, np.finfo, eps)"
      ]
    },
    {
      "cell_type": "code",
      "execution_count": 19,
      "metadata": {
        "colab": {
          "base_uri": "https://localhost:8080/"
        },
        "id": "7a6xmHuc4Kz8",
        "outputId": "9feb6e5a-bdee-4144-da62-99bc00d2ac01"
      },
      "outputs": [
        {
          "output_type": "stream",
          "name": "stdout",
          "text": [
            "-128\n",
            "127\n",
            "-2147483648\n",
            "2147483647\n",
            "-9223372036854775808\n",
            "9223372036854775807\n",
            "-3.4028235e+38\n",
            "3.4028235e+38\n",
            "1.1920929e-07\n",
            "-1.7976931348623157e+308\n",
            "1.7976931348623157e+308\n",
            "2.220446049250313e-16\n"
          ]
        }
      ],
      "source": [
        "for dtype in [np.int8, np.int32, np.int64]:\n",
        "   print(np.iinfo(dtype).min)\n",
        "   print(np.iinfo(dtype).max)\n",
        "for dtype in [np.float32, np.float64]:\n",
        "   print(np.finfo(dtype).min)\n",
        "   print(np.finfo(dtype).max)\n",
        "   print(np.finfo(dtype).eps)"
      ]
    },
    {
      "cell_type": "markdown",
      "metadata": {
        "id": "7t14LbXi4Kz8"
      },
      "source": [
        "#### 49. How to print all the values of an array? (★★☆) \n",
        "(**hint**: np.set\\_printoptions)"
      ]
    },
    {
      "cell_type": "code",
      "execution_count": 22,
      "metadata": {
        "colab": {
          "base_uri": "https://localhost:8080/"
        },
        "id": "dTabrRSi4Kz8",
        "outputId": "400c4870-32c2-4de2-ea13-a4e4d1093d9d"
      },
      "outputs": [
        {
          "output_type": "stream",
          "name": "stdout",
          "text": [
            "[[0. 0. 0. 0. 0. 0. 0. 0. 0. 0. 0. 0. 0. 0. 0. 0. 0. 0. 0. 0.]\n",
            " [0. 0. 0. 0. 0. 0. 0. 0. 0. 0. 0. 0. 0. 0. 0. 0. 0. 0. 0. 0.]\n",
            " [0. 0. 0. 0. 0. 0. 0. 0. 0. 0. 0. 0. 0. 0. 0. 0. 0. 0. 0. 0.]\n",
            " [0. 0. 0. 0. 0. 0. 0. 0. 0. 0. 0. 0. 0. 0. 0. 0. 0. 0. 0. 0.]\n",
            " [0. 0. 0. 0. 0. 0. 0. 0. 0. 0. 0. 0. 0. 0. 0. 0. 0. 0. 0. 0.]\n",
            " [0. 0. 0. 0. 0. 0. 0. 0. 0. 0. 0. 0. 0. 0. 0. 0. 0. 0. 0. 0.]\n",
            " [0. 0. 0. 0. 0. 0. 0. 0. 0. 0. 0. 0. 0. 0. 0. 0. 0. 0. 0. 0.]\n",
            " [0. 0. 0. 0. 0. 0. 0. 0. 0. 0. 0. 0. 0. 0. 0. 0. 0. 0. 0. 0.]\n",
            " [0. 0. 0. 0. 0. 0. 0. 0. 0. 0. 0. 0. 0. 0. 0. 0. 0. 0. 0. 0.]\n",
            " [0. 0. 0. 0. 0. 0. 0. 0. 0. 0. 0. 0. 0. 0. 0. 0. 0. 0. 0. 0.]\n",
            " [0. 0. 0. 0. 0. 0. 0. 0. 0. 0. 0. 0. 0. 0. 0. 0. 0. 0. 0. 0.]\n",
            " [0. 0. 0. 0. 0. 0. 0. 0. 0. 0. 0. 0. 0. 0. 0. 0. 0. 0. 0. 0.]\n",
            " [0. 0. 0. 0. 0. 0. 0. 0. 0. 0. 0. 0. 0. 0. 0. 0. 0. 0. 0. 0.]\n",
            " [0. 0. 0. 0. 0. 0. 0. 0. 0. 0. 0. 0. 0. 0. 0. 0. 0. 0. 0. 0.]\n",
            " [0. 0. 0. 0. 0. 0. 0. 0. 0. 0. 0. 0. 0. 0. 0. 0. 0. 0. 0. 0.]\n",
            " [0. 0. 0. 0. 0. 0. 0. 0. 0. 0. 0. 0. 0. 0. 0. 0. 0. 0. 0. 0.]\n",
            " [0. 0. 0. 0. 0. 0. 0. 0. 0. 0. 0. 0. 0. 0. 0. 0. 0. 0. 0. 0.]\n",
            " [0. 0. 0. 0. 0. 0. 0. 0. 0. 0. 0. 0. 0. 0. 0. 0. 0. 0. 0. 0.]\n",
            " [0. 0. 0. 0. 0. 0. 0. 0. 0. 0. 0. 0. 0. 0. 0. 0. 0. 0. 0. 0.]\n",
            " [0. 0. 0. 0. 0. 0. 0. 0. 0. 0. 0. 0. 0. 0. 0. 0. 0. 0. 0. 0.]]\n"
          ]
        }
      ],
      "source": [
        "np.set_printoptions(threshold=float(\"inf\"))\n",
        "x = np.zeros((20,20))\n",
        "print(x)"
      ]
    },
    {
      "cell_type": "markdown",
      "metadata": {
        "id": "A0j0CufH4Kz8"
      },
      "source": [
        "#### 50. How to find the closest value (to a given scalar) in a vector? (★★☆) \n",
        "(**hint**: argmin)"
      ]
    },
    {
      "cell_type": "code",
      "execution_count": 23,
      "metadata": {
        "colab": {
          "base_uri": "https://localhost:8080/"
        },
        "id": "jnWGhAGC4Kz9",
        "outputId": "0f96a6ee-977a-4f61-f771-b8f7b9f831e4"
      },
      "outputs": [
        {
          "output_type": "stream",
          "name": "stdout",
          "text": [
            "80\n"
          ]
        }
      ],
      "source": [
        "x = np.arange(100)\n",
        "y = np.random.uniform(0,100)\n",
        "index = (np.abs(x-y)).argmin()\n",
        "print(x[index])"
      ]
    },
    {
      "cell_type": "markdown",
      "metadata": {
        "id": "Hp3o2tPg4Kz9"
      },
      "source": [
        "#### 51. Create a structured array representing a position (x,y) and a color (r,g,b) (★★☆) \n",
        "(**hint**: dtype)"
      ]
    },
    {
      "cell_type": "code",
      "execution_count": 24,
      "metadata": {
        "colab": {
          "base_uri": "https://localhost:8080/"
        },
        "id": "j3B3n7E14Kz9",
        "outputId": "a5ed4c37-755c-4543-d12f-2c17b407d68c"
      },
      "outputs": [
        {
          "output_type": "stream",
          "name": "stdout",
          "text": [
            "[((0., 0.), (0., 0., 0.)) ((0., 0.), (0., 0., 0.))\n",
            " ((0., 0.), (0., 0., 0.)) ((0., 0.), (0., 0., 0.))\n",
            " ((0., 0.), (0., 0., 0.)) ((0., 0.), (0., 0., 0.))\n",
            " ((0., 0.), (0., 0., 0.)) ((0., 0.), (0., 0., 0.))\n",
            " ((0., 0.), (0., 0., 0.)) ((0., 0.), (0., 0., 0.))]\n"
          ]
        },
        {
          "output_type": "stream",
          "name": "stderr",
          "text": [
            "/usr/local/lib/python3.7/dist-packages/ipykernel_launcher.py:5: FutureWarning: Passing (type, 1) or '1type' as a synonym of type is deprecated; in a future version of numpy, it will be understood as (type, (1,)) / '(1,)type'.\n",
            "  \"\"\"\n"
          ]
        }
      ],
      "source": [
        "x = np.zeros(10, [ ('position', [ ('x', float, 1),\n",
        "                                  ('y', float, 1)]),\n",
        "                   ('color',    [ ('r', float, 1),\n",
        "                                  ('g', float, 1),\n",
        "                                  ('b', float, 1)])])\n",
        "print(x)"
      ]
    },
    {
      "cell_type": "markdown",
      "metadata": {
        "id": "4wKkuE3W4Kz9"
      },
      "source": [
        "#### 52. Consider a random vector with shape (100,2) representing coordinates, find point by point distances (★★☆) \n",
        "(**hint**: np.atleast\\_2d, T, np.sqrt)"
      ]
    },
    {
      "cell_type": "code",
      "execution_count": 26,
      "metadata": {
        "colab": {
          "base_uri": "https://localhost:8080/"
        },
        "id": "1eKQYzUG4Kz9",
        "outputId": "7ce52908-7293-46ef-b85a-f0d268b243b5"
      },
      "outputs": [
        {
          "output_type": "stream",
          "name": "stdout",
          "text": [
            "[[0.         1.07649326 0.9289258  0.94070553 0.95403233 0.63941748\n",
            "  0.25268145 1.10503042 0.23076677 0.48410054 0.18950789 0.77506013\n",
            "  0.77936534 0.43150132 0.57471454 0.59876807 0.81138029 0.87455882\n",
            "  0.98463015 0.69713531 0.7964158  0.2889583  0.44130544 0.53050511\n",
            "  0.11795989 1.09894556 0.43411365 0.7234768  0.38796561 0.67856816\n",
            "  0.67641713 0.89334153 0.88611069 0.56383543 0.54361642 0.59274598\n",
            "  0.46464036 0.76057103 0.47437086 0.81851393 0.83628315 0.9527831\n",
            "  0.62053526 1.03653063 0.80912532 0.65095432 0.37544739 0.24320799\n",
            "  0.70226641 0.99225153 0.82126474 0.79432942 0.38599075 0.99856111\n",
            "  0.79284024 0.37130325 0.44192331 1.08746475 0.55987513 0.40537496\n",
            "  0.53801461 0.35196232 0.99870215 0.83051235 0.65264713 1.00405051\n",
            "  0.18251139 0.04060751 0.72884085 0.96520819 0.99599363 0.52601398\n",
            "  0.57664147 0.73710727 0.78895771 0.94617773 0.96201967 0.07312832\n",
            "  0.86539724 0.70839102 0.86595134 1.11955879 0.63703096 0.06332696\n",
            "  0.39331982 0.97226392 0.89390292 0.41141067 1.1259774  0.91311843\n",
            "  0.4566029  0.71362727 0.76426259 0.18298732 0.78148293 0.74226695\n",
            "  0.35167518 0.07748953 0.60416995 0.73981449]\n",
            " [1.07649326 0.         0.61374549 0.1371362  0.72004081 0.44663528\n",
            "  1.04734559 0.20089681 0.85420338 0.68976803 0.93348328 0.88845151\n",
            "  0.64052759 0.67393747 0.80034645 0.49389658 0.26771777 0.4369175\n",
            "  0.55318769 0.91863669 0.64278302 0.8921287  0.67643571 0.62213329\n",
            "  1.11836098 0.25041525 0.66090061 0.51800819 0.72422539 0.4263427\n",
            "  0.40458918 0.38894887 0.92897027 0.56062052 0.69781448 0.8109874\n",
            "  0.64482232 0.81515651 0.65442494 0.28524897 0.71104247 0.70783085\n",
            "  0.75184164 0.09317479 0.72888994 0.57418575 0.70417234 1.0645507\n",
            "  0.69577739 0.54925338 0.57112512 0.76969186 0.91139226 0.51128284\n",
            "  0.34932182 0.72701678 0.91469853 0.01563787 0.56551146 0.85258997\n",
            "  0.65155897 0.8022444  0.43045608 0.57679976 0.4855624  0.20892088\n",
            "  0.90753845 1.06178696 0.77933246 0.20544395 0.09206702 0.69886643\n",
            "  0.66239453 0.33949124 0.37256785 0.89243479 0.14347644 1.00393997\n",
            "  0.21372009 0.36890827 0.66433322 0.16096486 0.53731656 1.10644967\n",
            "  0.85209302 0.42408815 0.23194508 0.81560374 0.18578933 0.16419545\n",
            "  0.61994808 0.90554531 0.79038373 0.89401377 0.64744512 0.33546802\n",
            "  0.72601124 1.01424638 0.54738861 0.85183173]\n",
            " [0.9289258  0.61374549 0.         0.57400926 0.10685305 0.47527985\n",
            "  0.76009822 0.45979213 0.79500397 0.82995784 0.88960882 0.32972174\n",
            "  0.15105816 0.73901441 0.3859519  0.46807166 0.56255765 0.87143096\n",
            "  0.08610601 0.39682978 1.00855151 0.91768686 0.51630816 0.42416429\n",
            "  0.90197243 0.41337057 0.54911498 0.83870859 0.77241057 0.65642252\n",
            "  0.48877985 0.23279307 0.33070402 0.42904303 0.3853425  0.37831012\n",
            "  0.50826606 0.26979112 0.4824668  0.42504411 0.13787499 0.09482582\n",
            "  0.3271315  0.66748378 1.08911001 0.83998496 0.68886834 0.7799621\n",
            "  0.23640351 0.09483246 0.95989961 0.2115391  0.58249462 0.12882656\n",
            "  0.70224628 0.75111873 0.54688601 0.62895183 0.43012041 0.53967257\n",
            "  0.39971875 0.85611377 0.19893642 0.10635207 0.72407177 0.4060266\n",
            "  0.75347074 0.93849519 0.26120546 0.41054882 0.61618027 0.87866569\n",
            "  0.87827831 0.52198745 0.32714338 0.28116826 0.48709207 0.87558946\n",
            "  0.56724153 0.51158335 0.08274144 0.50578878 0.78098079 0.92235442\n",
            "  0.54892787 0.19496793 0.66918327 0.52282077 0.48984344 0.53435156\n",
            "  0.61603354 0.37614364 0.24682912 0.79404931 1.00384128 0.50482863\n",
            "  0.68956627 0.90531332 0.75811033 0.31346132]\n",
            " [0.94070553 0.1371362  0.57400926 0.         0.68030926 0.31766437\n",
            "  0.92071779 0.26292033 0.7174282  0.55632383 0.79635103 0.81276493\n",
            "  0.56928534 0.53702979 0.69915567 0.36632855 0.13059578 0.35151266\n",
            "  0.52943656 0.83203666 0.54459977 0.75574441 0.54962237 0.5035077\n",
            "  0.98539238 0.29789482 0.53046092 0.40263011 0.58732869 0.29167242\n",
            "  0.27379667 0.34125258 0.86706065 0.43934729 0.58837889 0.71223359\n",
            "  0.51743813 0.73937338 0.53014613 0.17875036 0.64984645 0.66852548\n",
            "  0.65582401 0.11299002 0.63219467 0.45116872 0.56752235 0.93737133\n",
            "  0.61130638 0.52764262 0.47667271 0.70005788 0.79267077 0.49366524\n",
            "  0.22850637 0.58989036 0.8008853  0.14702674 0.44422252 0.73411286\n",
            "  0.53753592 0.66605006 0.41788217 0.51578882 0.3545252  0.21133692\n",
            "  0.77364747 0.92537156 0.69936427 0.18119149 0.06000304 0.56901533\n",
            "  0.53556368 0.20498177 0.28204981 0.84146477 0.10123988 0.86799002\n",
            "  0.07660069 0.23545761 0.60984606 0.24299541 0.40934877 0.97190305\n",
            "  0.73246722 0.403359   0.12533601 0.69628046 0.26320378 0.04300731\n",
            "  0.48412435 0.82131305 0.71563496 0.75798897 0.54690314 0.20301939\n",
            "  0.5896923  0.8777093  0.41595282 0.7723063 ]\n",
            " [0.95403233 0.72004081 0.10685305 0.68030926 0.         0.56140166\n",
            "  0.76305396 0.56123395 0.84245285 0.90458572 0.93508319 0.26959863\n",
            "  0.18956186 0.80845162 0.38644041 0.54784004 0.66424191 0.97159339\n",
            "  0.17598803 0.35004347 1.10128271 0.97305598 0.56725822 0.47973181\n",
            "  0.91420775 0.51313696 0.60566292 0.93139577 0.83771284 0.74857149\n",
            "  0.57975023 0.33930017 0.2417833  0.49708905 0.41903751 0.37310471\n",
            "  0.56473329 0.22770034 0.53515577 0.52777987 0.11785293 0.01225953\n",
            "  0.33449063 0.77433369 1.18001485 0.92777867 0.74980699 0.78250026\n",
            "  0.25274782 0.18274155 1.05537393 0.17418033 0.58690584 0.22170357\n",
            "  0.80138184 0.81413007 0.54332302 0.73518426 0.49729776 0.55240765\n",
            "  0.44693624 0.91820926 0.29905335 0.18593507 0.81371991 0.51185695\n",
            "  0.78592454 0.96784322 0.23844474 0.51729434 0.72296388 0.95610544\n",
            "  0.95976191 0.61894038 0.42670458 0.18050271 0.59393813 0.9066566\n",
            "  0.67141154 0.6060548  0.0993359  0.60799348 0.86876645 0.94047423\n",
            "  0.56334332 0.29862971 0.7733351  0.54265688 0.59092411 0.64032167\n",
            "  0.68405086 0.32771169 0.21107653 0.83440663 1.0958396  0.60215279\n",
            "  0.74713352 0.93869287 0.84362818 0.26817338]\n",
            " [0.63941748 0.44663528 0.47527985 0.31766437 0.56140166 0.\n",
            "  0.60306778 0.46950025 0.43025345 0.36623114 0.51983107 0.58959395\n",
            "  0.3883883  0.29405924 0.42312704 0.04942764 0.2033032  0.44629723\n",
            "  0.48104824 0.58191681 0.54347913 0.50721614 0.23213225 0.19874596\n",
            "  0.67299554 0.47021287 0.21433644 0.37485687 0.33885863 0.19443595\n",
            "  0.04547546 0.3121827  0.67274568 0.13246321 0.29998928 0.44108171\n",
            "  0.19983097 0.5222194  0.21465786 0.17961831 0.48129046 0.55256534\n",
            "  0.39552243 0.42625027 0.61972691 0.36637948 0.28416507 0.61971098\n",
            "  0.38663075 0.48482708 0.50434949 0.50272665 0.48108036 0.46988018\n",
            "  0.28088787 0.32832527 0.4962013  0.45927971 0.13692454 0.42345781\n",
            "  0.24154232 0.42683128 0.43158621 0.37604847 0.25349815 0.36993779\n",
            "  0.46438461 0.62951021 0.47569533 0.3290462  0.37711903 0.40893082\n",
            "  0.40403293 0.11991903 0.18230921 0.67555851 0.32323714 0.56849713\n",
            "  0.2504998  0.08871651 0.46574533 0.48083676 0.30737806 0.66415569\n",
            "  0.42032791 0.40501808 0.31975661 0.38495035 0.48855568 0.28302069\n",
            "  0.19448895 0.57730861 0.5034997  0.46049594 0.53697548 0.11622006\n",
            "  0.29989887 0.58379984 0.28294127 0.5430073 ]\n",
            " [0.25268145 1.04734559 0.76009822 0.92071779 0.76305396 0.60306778\n",
            "  0.         1.02924718 0.3435896  0.60115251 0.37287786 0.54943339\n",
            "  0.60989304 0.51176226 0.37742412 0.55448424 0.80210816 0.9502273\n",
            "  0.82892759 0.46530224 0.92502953 0.47124157 0.37122572 0.43269134\n",
            "  0.16369784 1.01165515 0.39332572 0.81227249 0.48688664 0.71120304\n",
            "  0.64737612 0.78270076 0.65681232 0.48868394 0.39552367 0.38995373\n",
            "  0.40328958 0.54917025 0.39333361 0.76611255 0.64686847 0.7642016\n",
            "  0.43371933 1.02864963 0.9582568  0.75035937 0.42474517 0.0199318\n",
            "  0.52380377 0.83741707 0.93151118 0.59243929 0.17767779 0.85211781\n",
            "  0.8292069  0.4588994  0.22074692 1.060616   0.48385388 0.22422425\n",
            "  0.41714333 0.49600447 0.87065406 0.67437508 0.71160919 0.92958195\n",
            "  0.21452309 0.28667255 0.52623349 0.89678791 0.98017111 0.65646591\n",
            "  0.6997087  0.71946732 0.70589482 0.72449437 0.91498037 0.25507149\n",
            "  0.85231688 0.68791384 0.68662511 1.05366397 0.71784761 0.20829405\n",
            "  0.21770006 0.84650402 0.90747606 0.25094414 1.05457499 0.88518686\n",
            "  0.47085851 0.48427182 0.55822069 0.28654755 0.91132114 0.7185902\n",
            "  0.39777037 0.29066446 0.6803259  0.52088113]\n",
            " [1.10503042 0.20089681 0.45979213 0.26292033 0.56123395 0.46950025\n",
            "  1.02924718 0.         0.89972273 0.7883904  0.98841561 0.76771861\n",
            "  0.52488421 0.74643016 0.72591302 0.50671386 0.36112855 0.61163493\n",
            "  0.38624387 0.81363148 0.80751598 0.96679134 0.67264499 0.5974887\n",
            "  1.12635437 0.05239538 0.67164603 0.66259228 0.79537332 0.52821081\n",
            "  0.43939368 0.2701511  0.7886993  0.54806912 0.64597336 0.73136748\n",
            "  0.64489377 0.69715408 0.64367516 0.2908873  0.57755204 0.54904301\n",
            "  0.66989681 0.28816159 0.89510136 0.7051005  0.7524658  1.04805251\n",
            "  0.59695707 0.38048907 0.73928373 0.64481176 0.87268165 0.34111924\n",
            "  0.48819009 0.79044912 0.86326418 0.21184017 0.55257486 0.81531764\n",
            "  0.61328072 0.88073365 0.2621806  0.45153261 0.59879881 0.10118989\n",
            "  0.92573327 1.09745873 0.66909301 0.14046147 0.26025575 0.81083208\n",
            "  0.78343901 0.39963818 0.32377633 0.7403573  0.17482151 1.0354807\n",
            "  0.31992287 0.41953803 0.52475878 0.04805566 0.6577747  1.1244441\n",
            "  0.81798218 0.2652444  0.38759431 0.78211406 0.03039489 0.25413774\n",
            "  0.66295899 0.79716381 0.67187598 0.92886147 0.80978528 0.38742291\n",
            "  0.76925131 1.05244278 0.65746715 0.73800949]\n",
            " [0.23076677 0.85420338 0.79500397 0.7174282  0.84245285 0.43025345\n",
            "  0.3435896  0.89972273 0.         0.2670089  0.09542444 0.7222235\n",
            "  0.65503807 0.20126414 0.50306362 0.39622648 0.58710631 0.64781288\n",
            "  0.83602964 0.66150865 0.59002419 0.14702223 0.2787357  0.37162897\n",
            "  0.30949537 0.89945376 0.2510024  0.4988661  0.16047301 0.44847542\n",
            "  0.46225835 0.71374497 0.83306254 0.38356745 0.42563798 0.52519549\n",
            "  0.29007572 0.68689065 0.31280572 0.60924034 0.72937027 0.83851078\n",
            "  0.53030966 0.80962854 0.61692523 0.42896752 0.15019678 0.34821446\n",
            "  0.59375522 0.84258139 0.60549565 0.70538164 0.37119564 0.84149231\n",
            "  0.56214052 0.14100277 0.4263364  0.86445265 0.38068792 0.35515738\n",
            "  0.39672207 0.15241636 0.82731743 0.68998175 0.42219742 0.80012001\n",
            "  0.12978778 0.20944184 0.64599994 0.75928403 0.77108947 0.31776758\n",
            "  0.36459475 0.51675374 0.59667225 0.87684715 0.74711484 0.15840987\n",
            "  0.64130282 0.48980896 0.74608146 0.90959073 0.40950032 0.27618905\n",
            "  0.34194924 0.8001497  0.66455183 0.33858973 0.91830998 0.69249486\n",
            "  0.2377416  0.67204987 0.68297747 0.05959325 0.57571204 0.52381645\n",
            "  0.13062947 0.16117266 0.37538962 0.6788315 ]\n",
            " [0.48410054 0.68976803 0.82995784 0.55632383 0.90458572 0.36623114\n",
            "  0.60115251 0.7883904  0.2670089  0.         0.29861043 0.86068692\n",
            "  0.71830781 0.10802496 0.64880313 0.36281884 0.43232629 0.3950635\n",
            "  0.84479193 0.82110759 0.32433358 0.22060088 0.37666638 0.43954362\n",
            "  0.5750806  0.80320403 0.32778304 0.24213102 0.11487244 0.2649151\n",
            "  0.37257085 0.67757124 0.96286846 0.4083776  0.53621742 0.67152084\n",
            "  0.36259366 0.80758082 0.39755901 0.51116506 0.80742288 0.89738942\n",
            "  0.65279821 0.62472308 0.36030085 0.16769083 0.19780467 0.60848002\n",
            "  0.68568721 0.8490791  0.33899549 0.80743752 0.58280296 0.83572312\n",
            "  0.35188241 0.14462635 0.62866853 0.69647302 0.40865597 0.54652075\n",
            "  0.48396549 0.13550047 0.7968811  0.72557287 0.20593364 0.69897689\n",
            "  0.38845192 0.45346658 0.76118971 0.65580538 0.59882975 0.06025198\n",
            "  0.09859993 0.39082422 0.54688312 0.98681311 0.61682992 0.4168634\n",
            "  0.48212378 0.37654214 0.80551061 0.78464637 0.16657066 0.53725533\n",
            "  0.53541954 0.77058836 0.46901922 0.51633684 0.79947835 0.54498033\n",
            "  0.22629497 0.82543331 0.79588692 0.32641501 0.31039123 0.40505287\n",
            "  0.21928969 0.40729331 0.14477821 0.81328694]\n",
            " [0.18950789 0.93348328 0.88960882 0.79635103 0.93508319 0.51983107\n",
            "  0.37287786 0.98841561 0.09542444 0.29861043 0.         0.80437576\n",
            "  0.7484969  0.26366706 0.58693575 0.488171   0.66576724 0.6927593\n",
            "  0.93136389 0.73921322 0.60695948 0.10299826 0.37360373 0.46673777\n",
            "  0.29437209 0.98996436 0.34639822 0.54028417 0.21503892 0.51752594\n",
            "  0.54937252 0.80820043 0.91598847 0.47873536 0.51689434 0.60850323\n",
            "  0.38548902 0.77298932 0.40781561 0.69753593 0.8210625  0.9314348\n",
            "  0.61812446 0.88366663 0.62056826 0.46629099 0.23595286 0.37244661\n",
            "  0.68500468 0.93794227 0.63312615 0.79429528 0.43745437 0.93691384\n",
            "  0.62606583 0.20698535 0.49470219 0.94300898 0.47591685 0.4306675\n",
            "  0.49062471 0.16405937 0.92228082 0.78484117 0.48108204 0.88957096\n",
            "  0.18013293 0.15574808 0.73348815 0.84819167 0.84798882 0.33735012\n",
            "  0.38845645 0.59954372 0.68971023 0.96319272 0.83207377 0.13195682\n",
            "  0.71980041 0.57410367 0.83936204 0.99641966 0.45793024 0.24810756\n",
            "  0.41728212 0.89509375 0.73435057 0.41923464 1.00607158 0.77391282\n",
            "  0.32554636 0.75125989 0.77044378 0.10811358 0.59200978 0.60791384\n",
            "  0.22068001 0.11212113 0.42770912 0.76235708]\n",
            " [0.77506013 0.88845151 0.32972174 0.81276493 0.26959863 0.58959395\n",
            "  0.54943339 0.76771861 0.7222235  0.86068692 0.80437576 0.\n",
            "  0.24803666 0.75392172 0.21970971 0.55554    0.75441935 1.03526416\n",
            "  0.41581626 0.08867493 1.11960911 0.86668038 0.48502766 0.42708797\n",
            "  0.71112085 0.72682731 0.5332917  0.95658405 0.76819833 0.7823296\n",
            "  0.62444945 0.50476056 0.11205214 0.47657997 0.32462581 0.1972255\n",
            "  0.49828459 0.07352879 0.46322397 0.63687936 0.19424647 0.27694991\n",
            "  0.20819574 0.92085212 1.18718312 0.93160602 0.67412168 0.56719897\n",
            "  0.20617174 0.42448467 1.08900833 0.12311338 0.38909934 0.45768445\n",
            "  0.86687495 0.73939072 0.33419634 0.90408874 0.47415909 0.37696641\n",
            "  0.37971553 0.83398625 0.51922799 0.31683716 0.83202151 0.69453081\n",
            "  0.63235808 0.79744311 0.11551706 0.6851463  0.8660752  0.91905131\n",
            "  0.93714504 0.68623781 0.53097063 0.1753882  0.74783966 0.74282447\n",
            "  0.77967338 0.66287301 0.25023178 0.81005837 0.87582818 0.74773605\n",
            "  0.39016787 0.50776001 0.87558343 0.38514471 0.79808602 0.76981001\n",
            "  0.6361294  0.06693187 0.09806904 0.69664845 1.11089836 0.67294036\n",
            "  0.66192071 0.77859735 0.8430846  0.04782097]\n",
            " [0.77936534 0.64052759 0.15105816 0.56928534 0.18956186 0.3883883\n",
            "  0.60989304 0.52488421 0.65503807 0.71830781 0.7484969  0.24803666\n",
            "  0.         0.62033741 0.23917558 0.36787758 0.52366003 0.82016237\n",
            "  0.22102684 0.28894604 0.93186503 0.7838915  0.37836593 0.29017451\n",
            "  0.75091536 0.4872247  0.41613671 0.76307662 0.64857031 0.58133407\n",
            "  0.41378132 0.25790236 0.29961869 0.30994246 0.23666996 0.2345453\n",
            "  0.37518931 0.1750502  0.34589935 0.39722464 0.09290233 0.18436811\n",
            "  0.1790512  0.6753431  1.00736819 0.75231488 0.56027833 0.62978999\n",
            "  0.08832303 0.22981456 0.89132108 0.13079579 0.43251414 0.2504884\n",
            "  0.64908685 0.62471335 0.3993321  0.65616546 0.30978958 0.38871529\n",
            "  0.25848715 0.72868529 0.2918486  0.07657247 0.64169618 0.44753175\n",
            "  0.60577105 0.79006707 0.14423144 0.43713904 0.62085146 0.7712173\n",
            "  0.77771858 0.46463146 0.29023975 0.28888971 0.50048379 0.72762272\n",
            "  0.54257224 0.44622932 0.09121147 0.56552387 0.693719   0.77163165\n",
            "  0.397888   0.27478942 0.64173178 0.3718888  0.55506201 0.52659942\n",
            "  0.49583323 0.27228551 0.15004242 0.64986912 0.92526191 0.44933295\n",
            "  0.55762276 0.75820969 0.66608766 0.21393283]\n",
            " [0.43150132 0.67393747 0.73901441 0.53702979 0.80845162 0.29405924\n",
            "  0.51176226 0.74643016 0.20126414 0.10802496 0.26366706 0.75392172\n",
            "  0.62033741 0.         0.54105351 0.27941555 0.40706099 0.44858501\n",
            "  0.7605454  0.7132293  0.41751206 0.22094622 0.2692285  0.33624412\n",
            "  0.50751195 0.75475783 0.22063882 0.30302714 0.05030178 0.25392325\n",
            "  0.31154036 0.60463895 0.85711166 0.31156334 0.42987044 0.56380726\n",
            "  0.25671847 0.7021371  0.29140192 0.4587292  0.70767818 0.80184822\n",
            "  0.54638478 0.62075459 0.46251003 0.23861421 0.09259631 0.52110081\n",
            "  0.58281198 0.76548781 0.41978309 0.70412499 0.47868862 0.75543726\n",
            "  0.36342809 0.06026508 0.52287582 0.68275888 0.31119322 0.44025396\n",
            "  0.37918051 0.13458762 0.72372274 0.63335264 0.22115644 0.65139311\n",
            "  0.30555681 0.4073311  0.65607077 0.60863122 0.58670335 0.16801445\n",
            "  0.19813883 0.34824712 0.47600417 0.88334535 0.58176066 0.35958878\n",
            "  0.46049544 0.32689383 0.70912229 0.74900276 0.21062575 0.47711931\n",
            "  0.42947476 0.69682541 0.47069186 0.40923691 0.76108569 0.5178211\n",
            "  0.12450597 0.71776217 0.69120149 0.25604263 0.40462809 0.35927887\n",
            "  0.11700441 0.35902856 0.17511129 0.70666989]\n",
            " [0.57471454 0.80034645 0.3859519  0.69915567 0.38644041 0.42312704\n",
            "  0.37742412 0.72591302 0.50306362 0.64880313 0.58693575 0.21970971\n",
            "  0.23917558 0.54105351 0.         0.38027475 0.61367576 0.864277\n",
            "  0.4601543  0.1727317  0.92454414 0.64705879 0.27237248 0.23326556\n",
            "  0.52806308 0.69646331 0.32153657 0.76807686 0.55183072 0.60470335\n",
            "  0.46478342 0.45804677 0.33001219 0.29444194 0.12513114 0.02290032\n",
            "  0.29049218 0.18785228 0.25572864 0.52141225 0.26959938 0.38712725\n",
            "  0.06055047 0.8119392  0.98675761 0.73440027 0.4578307  0.3970587\n",
            "  0.15088911 0.46896673 0.90124109 0.22002573 0.20053098 0.48878609\n",
            "  0.70328105 0.52242518 0.16093981 0.81551337 0.29077822 0.16934848\n",
            "  0.18538892 0.61510548 0.5216578  0.31074027 0.64427311 0.63512819\n",
            "  0.41915648 0.59268067 0.15417105 0.61293124 0.75752851 0.70814665\n",
            "  0.73021512 0.5354912  0.42792336 0.37738176 0.65714243 0.53461709\n",
            "  0.64998396 0.50732846 0.30990696 0.76026587 0.68146646 0.55630788\n",
            "  0.18146977 0.50089748 0.73549224 0.16905112 0.75470057 0.65708023\n",
            "  0.42835286 0.17679025 0.18963181 0.47984723 0.91464613 0.52575394\n",
            "  0.44414971 0.56913885 0.64645632 0.17577624]\n",
            " [0.59876807 0.49389658 0.46807166 0.36632855 0.54784004 0.04942764\n",
            "  0.55448424 0.50671386 0.39622648 0.36281884 0.488171   0.55554\n",
            "  0.36787758 0.27941555 0.38027475 0.         0.25266008 0.48486385\n",
            "  0.4826902  0.54272639 0.56808277 0.48398242 0.18330195 0.15170881\n",
            "  0.62797842 0.50371892 0.1686368  0.40205864 0.32024631 0.22737937\n",
            "  0.09486325 0.32731599 0.64315613 0.08632828 0.25587687 0.39907285\n",
            "  0.15122511 0.49033635 0.16523094 0.2205297  0.46023601 0.53977174\n",
            "  0.35656969 0.47543759 0.64092475 0.38503372 0.25505423 0.57130367\n",
            "  0.35618614 0.48728367 0.53382992 0.47526719 0.43176213 0.47615144\n",
            "  0.32324903 0.30577922 0.44763613 0.50680658 0.09041667 0.37425171\n",
            "  0.19638302 0.40803092 0.44564128 0.36507137 0.27803931 0.40606398\n",
            "  0.4213616  0.5907574  0.44330594 0.36658024 0.42594741 0.41059405\n",
            "  0.41194649 0.16921008 0.20257083 0.65117275 0.36725511 0.52881592\n",
            "  0.2998569  0.13783376 0.4500964  0.52093347 0.3268501  0.62106323\n",
            "  0.37099501 0.41857111 0.3682722  0.33570804 0.52723674 0.33087328\n",
            "  0.16715787 0.53934381 0.47298217 0.42232379 0.56052439 0.16559004\n",
            "  0.26752433 0.54595918 0.29827335 0.50835199]\n",
            " [0.81138029 0.26771777 0.56255765 0.13059578 0.66424191 0.2033032\n",
            "  0.80210816 0.36112855 0.58710631 0.43232629 0.66576724 0.75441935\n",
            "  0.52366003 0.40706099 0.61367576 0.25266008 0.         0.30991408\n",
            "  0.53659528 0.76108841 0.47198427 0.62657239 0.43331671 0.39979661\n",
            "  0.85920954 0.38359874 0.40915566 0.31186953 0.45735693 0.16830869\n",
            "  0.15782782 0.34123902 0.82254915 0.3335878  0.49503725 0.62943186\n",
            "  0.40073653 0.68263805 0.41774462 0.13824687 0.61213315 0.65333586\n",
            "  0.57765555 0.22809479 0.55848829 0.34587327 0.437381   0.81804985\n",
            "  0.54843141 0.53700095 0.41228424 0.65131044 0.68438274 0.5090692\n",
            "  0.14636954 0.45939081 0.6985023  0.27747771 0.33828075 0.6267018\n",
            "  0.439373   0.53726009 0.44405629 0.48468373 0.2376904  0.2819957\n",
            "  0.64668469 0.79538121 0.63895698 0.2406358  0.18463698 0.45064402\n",
            "  0.42231137 0.08350443 0.23833116 0.80904867 0.18668239 0.73851738\n",
            "  0.05419726 0.11509175 0.58106989 0.35318244 0.2968052  0.84393981\n",
            "  0.62363095 0.42326942 0.12232563 0.5882236  0.36929771 0.11272501\n",
            "  0.35518063 0.75323862 0.66070251 0.62848579 0.47106831 0.08892912\n",
            "  0.45994435 0.74760312 0.29691226 0.71055914]\n",
            " [0.87455882 0.4369175  0.87143096 0.35151266 0.97159339 0.44629723\n",
            "  0.9502273  0.61163493 0.64781288 0.3950635  0.6927593  1.03526416\n",
            "  0.82016237 0.44858501 0.864277   0.48486385 0.30991408 0.\n",
            "  0.84628784 1.02739174 0.20951592 0.61387464 0.62462798 0.63192053\n",
            "  0.95598066 0.64917718 0.58280545 0.15307052 0.48756213 0.26024065\n",
            "  0.4110659  0.6508322  1.1142246  0.56995112 0.73925352 0.88358915\n",
            "  0.59529281 0.96668676 0.62451373 0.44815341 0.91142751 0.96097126\n",
            "  0.84104465 0.34582861 0.29330922 0.22854612 0.5272574  0.96172723\n",
            "  0.83071587 0.84650921 0.13639725 0.94274063 0.87940295 0.81765696\n",
            "  0.17118065 0.5079856  0.90943946 0.43520828 0.5735288  0.82824588\n",
            "  0.67908431 0.53055092 0.74959782 0.78912014 0.2392507  0.56074908\n",
            "  0.752323   0.84618881 0.92068326 0.52595248 0.35458051 0.36886986\n",
            "  0.31802935 0.3557027  0.54495313 1.10871345 0.45089691 0.80455115\n",
            "  0.31798467 0.37466361 0.88501409 0.58490453 0.23834862 0.92382651\n",
            "  0.82109823 0.73033787 0.22662686 0.79073553 0.60756636 0.37330711\n",
            "  0.48440113 1.0233778  0.94690175 0.70425229 0.21661955 0.37150981\n",
            "  0.55450653 0.79901024 0.2735719  0.98898363]\n",
            " [0.98463015 0.55318769 0.08610601 0.52943656 0.17598803 0.48104824\n",
            "  0.82892759 0.38624387 0.83602964 0.84479193 0.93136389 0.41581626\n",
            "  0.22102684 0.7605454  0.4601543  0.4826902  0.53659528 0.84628784\n",
            "  0.         0.48222243 0.9971921  0.95102597 0.5586051  0.46508662\n",
            "  0.96528354 0.337478   0.58602585 0.82860175 0.79780314 0.64918162\n",
            "  0.48662318 0.195467   0.41242403 0.45820969 0.44330673 0.45470221\n",
            "  0.5461315  0.35539066 0.52414104 0.39868388 0.22357012 0.16397295\n",
            "  0.40007643 0.61467766 1.08030924 0.83763673 0.71949634 0.84885607\n",
            "  0.30926522 0.00901659 0.94396854 0.29725901 0.6521744  0.04572596\n",
            "  0.68088246 0.77899848 0.62032331 0.56793631 0.46013491 0.60594034\n",
            "  0.44806248 0.88380333 0.12472334 0.15548625 0.72006248 0.34432052\n",
            "  0.80580401 0.99143342 0.3444088  0.35595628 0.56590887 0.88975706\n",
            "  0.88433261 0.50798324 0.31326993 0.35636151 0.43604237 0.9278207\n",
            "  0.53332175 0.50269902 0.16777395 0.43342743 0.7792027  0.98228152\n",
            "  0.61422124 0.12934626 0.63420454 0.58565819 0.41567839 0.49249229\n",
            "  0.64080579 0.46175654 0.33206053 0.84048771 0.99373295 0.49039895\n",
            "  0.72327073 0.95577955 0.7598666  0.39906776]\n",
            " [0.69713531 0.91863669 0.39682978 0.83203666 0.35004347 0.58191681\n",
            "  0.46530224 0.81363148 0.66150865 0.82110759 0.73921322 0.08867493\n",
            "  0.28894604 0.7132293  0.1727317  0.54272639 0.76108841 1.02739174\n",
            "  0.48222243 0.         1.09581467 0.80778206 0.44498515 0.4017962\n",
            "  0.62808104 0.77611009 0.49418334 0.93738926 0.72238363 0.76966168\n",
            "  0.62066667 0.54514003 0.19151365 0.45894597 0.29396038 0.15039789\n",
            "  0.46309426 0.12716705 0.42822787 0.65360792 0.25898726 0.35612008\n",
            "  0.18641163 0.94283895 1.1590523  0.9059489  0.62867116 0.48256441\n",
            "  0.22286082 0.49113903 1.07054214 0.18549059 0.31217047 0.52138033\n",
            "  0.86262244 0.69256396 0.25530097 0.93419545 0.45577833 0.30856451\n",
            "  0.35338141 0.78229069 0.57581911 0.36401441 0.81307019 0.73360729\n",
            "  0.56326394 0.72147692 0.14481326 0.71948692 0.88786578 0.88059599\n",
            "  0.90294662 0.68751223 0.55105787 0.26257727 0.77586485 0.66914648\n",
            "  0.79164923 0.66154802 0.31445341 0.85363837 0.85227635 0.66674131\n",
            "  0.32195062 0.56127475 0.88336045 0.32312876 0.84374213 0.78910369\n",
            "  0.60106503 0.02257417 0.15018152 0.63109966 1.08616606 0.67582945\n",
            "  0.61370995 0.70552308 0.81775958 0.0836788 ]\n",
            " [0.7964158  0.64278302 1.00855151 0.54459977 1.10128271 0.54347913\n",
            "  0.92502953 0.80751598 0.59002419 0.32433358 0.60695948 1.11960911\n",
            "  0.93186503 0.41751206 0.92454414 0.56808277 0.47198427 0.20951592\n",
            "  0.9971921  1.09581467 0.         0.5115643  0.65902832 0.69474836\n",
            "  0.89485143 0.84079993 0.61097758 0.16993119 0.43814373 0.35271512\n",
            "  0.52155812 0.80513409 1.21082821 0.64315857 0.80192091 0.94609245\n",
            "  0.63587395 1.05699671 0.66979835 0.60328083 1.02476639 1.09176839\n",
            "  0.91435778 0.55330726 0.08765019 0.19038588 0.50952327 0.93268261\n",
            "  0.92398609 0.99882456 0.07321153 1.04332874 0.89326398 0.97449396\n",
            "  0.3269179  0.46645252 0.93386175 0.64213152 0.64548125 0.85057111\n",
            "  0.74306627 0.44592164 0.91410993 0.91537176 0.29046595 0.74585989\n",
            "  0.71277972 0.7620282  1.00977118 0.70740214 0.55686115 0.27275043\n",
            "  0.22581408 0.48925467 0.68480943 1.21838061 0.63894205 0.73363075\n",
            "  0.49619729 0.49705294 1.00773265 0.78487453 0.2439082  0.85340325\n",
            "  0.84084304 0.8920113  0.42039651 0.81660477 0.8064745  0.55855346\n",
            "  0.50227837 1.09598672 1.04050625 0.6496121  0.01521537 0.50681868\n",
            "  0.5345137  0.71894217 0.2780979  1.07191134]\n",
            " [0.2889583  0.8921287  0.91768686 0.75574441 0.97305598 0.50721614\n",
            "  0.47124157 0.96679134 0.14702223 0.22060088 0.10299826 0.86668038\n",
            "  0.7838915  0.22094622 0.64705879 0.48398242 0.62657239 0.61387464\n",
            "  0.95102597 0.80778206 0.5115643  0.         0.40587287 0.49463725\n",
            "  0.397009   0.97373694 0.36880786 0.46086143 0.17145117 0.46726715\n",
            "  0.52955514 0.81093713 0.97689188 0.4928239  0.56197646 0.66945653\n",
            "  0.40980127 0.82860339 0.43799287 0.67785637 0.86283054 0.96824747\n",
            "  0.67087713 0.83437004 0.52032921 0.38534315 0.2320894  0.47215095\n",
            "  0.72884582 0.95690685 0.54295792 0.84385156 0.51745382 0.95166151\n",
            "  0.56683468 0.17892865 0.57304498 0.90033416 0.49090527 0.50211415\n",
            "  0.5263621  0.09031456 0.92839704 0.81150048 0.41963339 0.87088778\n",
            "  0.26704789 0.25227596 0.78644255 0.82834704 0.80345213 0.24834286\n",
            "  0.30031495 0.569176   0.68594848 1.01788004 0.80270374 0.2349082\n",
            "  0.67947133 0.54736078 0.87505566 0.96991925 0.38663718 0.34941399\n",
            "  0.48892752 0.90120185 0.68077986 0.48466146 0.98183855 0.73805472\n",
            "  0.31688811 0.81786465 0.82331884 0.19045003 0.49645265 0.58001933\n",
            "  0.22824074 0.2127214  0.36127013 0.82255762]\n",
            " [0.44130544 0.67643571 0.51630816 0.54962237 0.56725822 0.23213225\n",
            "  0.37122572 0.67264499 0.2787357  0.37666638 0.37360373 0.48502766\n",
            "  0.37836593 0.2692285  0.27237248 0.18330195 0.43331671 0.62462798\n",
            "  0.5586051  0.44498515 0.65902832 0.40587287 0.         0.0935338\n",
            "  0.45371151 0.66202423 0.04922958 0.51053886 0.28428533 0.36739981\n",
            "  0.2768775  0.45210553 0.58962503 0.12473607 0.16259574 0.29500194\n",
            "  0.03259963 0.43562311 0.0345119  0.39756438 0.45732184 0.56261634\n",
            "  0.27830113 0.65829594 0.71729488 0.46878716 0.1907384  0.38818455\n",
            "  0.32476648 0.56540587 0.64237822 0.44305284 0.25783762 0.56644708\n",
            "  0.4801524  0.25657704 0.28481524 0.68957302 0.12036809 0.20409981\n",
            "  0.12051983 0.35644898 0.55944822 0.41126501 0.3908652  0.5715553\n",
            "  0.25883062 0.44117926 0.39051943 0.53542305 0.60919659 0.4358331\n",
            "  0.45836669 0.35002574 0.35094437 0.62070005 0.54626079 0.37718797\n",
            "  0.48224958 0.31837432 0.46957703 0.69229629 0.41936943 0.45375196\n",
            "  0.19790473 0.5326876  0.54391489 0.1662024  0.69582454 0.51397412\n",
            "  0.15756506 0.44882227 0.42654174 0.28270192 0.64828277 0.34810154\n",
            "  0.1826325  0.40158268 0.38266099 0.43798575]\n",
            " [0.53050511 0.62213329 0.42416429 0.5035077  0.47973181 0.19874596\n",
            "  0.43269134 0.5974887  0.37162897 0.43954362 0.46673777 0.42708797\n",
            "  0.29017451 0.33624412 0.23326556 0.15170881 0.39979661 0.63192053\n",
            "  0.46508662 0.4017962  0.69474836 0.49463725 0.0935338  0.\n",
            "  0.5335758  0.58260881 0.12606262 0.53564949 0.36026631 0.37190688\n",
            "  0.2433799  0.36418876 0.52502966 0.06637368 0.10832018 0.25361058\n",
            "  0.08505507 0.36946684 0.05905442 0.33739785 0.3735645  0.47439892\n",
            "  0.21993069 0.61546985 0.76043617 0.50554255 0.2703849  0.45118267\n",
            "  0.24657298 0.47187407 0.66882284 0.36804561 0.28957213 0.47313965\n",
            "  0.47392396 0.33531602 0.29891245 0.63616915 0.06183059 0.2308452\n",
            "  0.04841725 0.43874786 0.46830707 0.31860338 0.41147517 0.49730812\n",
            "  0.34824888 0.53242272 0.32260572 0.46409735 0.56348839 0.49609894\n",
            "  0.5110198  0.3174119  0.2737258  0.54738163 0.48534345 0.46838945\n",
            "  0.44322759 0.28693157 0.38105773 0.62101134 0.45092164 0.53863556\n",
            "  0.22996806 0.44179002 0.51824506 0.19350245 0.62230479 0.46450455\n",
            "  0.21326756 0.40128682 0.35668904 0.37602781 0.68546992 0.3110041\n",
            "  0.26754579 0.4939187  0.41707693 0.37926978]\n",
            " [0.11795989 1.11836098 0.90197243 0.98539238 0.91420775 0.67299554\n",
            "  0.16369784 1.12635437 0.30949537 0.5750806  0.29437209 0.71112085\n",
            "  0.75091536 0.50751195 0.52806308 0.62797842 0.85920954 0.95598066\n",
            "  0.96528354 0.62808104 0.89485143 0.397009   0.45371151 0.5335758\n",
            "  0.         1.11485553 0.45934198 0.80811767 0.46973151 0.74155784\n",
            "  0.71387131 0.89645151 0.8194814  0.57832669 0.5227666  0.54305384\n",
            "  0.4820336  0.70672938 0.4832227  0.84787623 0.79678391 0.91441856\n",
            "  0.58056763 1.08705353 0.91362677 0.73844898 0.43669323 0.14842035\n",
            "  0.66801952 0.97342298 0.91407108 0.74687378 0.32864316 0.98427938\n",
            "  0.85882949 0.44800712 0.37862398 1.13038856 0.57386137 0.36309784\n",
            "  0.53038509 0.44916728 0.99398436 0.80979784 0.72543221 1.02526544\n",
            "  0.21307896 0.15847986 0.68051477 0.98887454 1.04290229 0.62227247\n",
            "  0.67119106 0.78042517 0.80403345 0.88564143 0.99523342 0.16280428\n",
            "  0.91224851 0.75005868 0.83259717 1.14550938 0.71771283 0.05624653\n",
            "  0.35324047 0.96851852 0.95196016 0.37974887 1.14945177 0.95417242\n",
            "  0.50666626 0.64661241 0.71397072 0.25181539 0.88018915 0.78309609\n",
            "  0.41029579 0.18589096 0.68262155 0.68068391]\n",
            " [1.09894556 0.25041525 0.41337057 0.29789482 0.51313696 0.47021287\n",
            "  1.01165515 0.05239538 0.89945376 0.80320403 0.98996436 0.72682731\n",
            "  0.4872247  0.75475783 0.69646331 0.50371892 0.38359874 0.64917718\n",
            "  0.337478   0.77611009 0.84079993 0.97373694 0.66202423 0.58260881\n",
            "  1.11485553 0.         0.66483342 0.69108564 0.80281531 0.54754297\n",
            "  0.44421238 0.23841655 0.74347233 0.53736275 0.62320752 0.70057208\n",
            "  0.63570435 0.65731097 0.63167356 0.29604026 0.53494604 0.50100633\n",
            "  0.63911344 0.334889   0.92844717 0.72943748 0.75437584 1.03075565\n",
            "  0.56270791 0.33136868 0.77399421 0.60372024 0.85095096 0.29201306\n",
            "  0.51758804 0.79590787 0.83841546 0.26210715 0.54166882 0.79442476\n",
            "  0.59454449 0.88934529 0.21462227 0.41241099 0.61976786 0.10422834\n",
            "  0.91812959 1.09327532 0.63130545 0.14740185 0.30273197 0.82904364\n",
            "  0.80436033 0.41241838 0.31108075 0.69292548 0.20217241 1.03058199\n",
            "  0.34733882 0.42913719 0.48115437 0.10018221 0.6798267  1.1155253\n",
            "  0.79786863 0.22044822 0.42322145 0.76249522 0.07924013 0.28284697\n",
            "  0.66469369 0.75894892 0.63209    0.92556529 0.84232315 0.39868536\n",
            "  0.76964546 1.04917905 0.67678276 0.69887932]\n",
            " [0.43411365 0.66090061 0.54911498 0.53046092 0.60566292 0.21433644\n",
            "  0.39332572 0.67164603 0.2510024  0.32778304 0.34639822 0.5332917\n",
            "  0.41613671 0.22063882 0.32153657 0.1686368  0.40915566 0.58280545\n",
            "  0.58602585 0.49418334 0.61097758 0.36880786 0.04922958 0.12606262\n",
            "  0.45934198 0.66483342 0.         0.46466731 0.23805335 0.32848374\n",
            "  0.25679923 0.46566119 0.63704072 0.13358769 0.20962014 0.34413273\n",
            "  0.041029   0.48250764 0.07248735 0.38881115 0.49823008 0.60042196\n",
            "  0.32595104 0.63648278 0.66841878 0.42093389 0.14577331 0.40898792\n",
            "  0.36794266 0.59238745 0.59585954 0.48768554 0.29669133 0.59056533\n",
            "  0.44371638 0.21144368 0.32827174 0.67342121 0.1303591  0.24598548\n",
            "  0.16242611 0.31356615 0.57732905 0.44309584 0.34675689 0.57051796\n",
            "  0.25411226 0.4295004  0.43692324 0.53242602 0.58927874 0.38679255\n",
            "  0.4091508  0.32709334 0.35527893 0.66611911 0.53589147 0.36624636\n",
            "  0.46012609 0.29575301 0.50709179 0.68808294 0.37257796 0.45331421\n",
            "  0.23838983 0.55024165 0.51475465 0.20928743 0.69335072 0.49705705\n",
            "  0.10886818 0.49788242 0.47258873 0.26449571 0.6000571  0.32746773\n",
            "  0.14149599 0.38698056 0.3355126  0.48608069]\n",
            " [0.7234768  0.51800819 0.83870859 0.40263011 0.93139577 0.37485687\n",
            "  0.81227249 0.66259228 0.4988661  0.24213102 0.54028417 0.95658405\n",
            "  0.76307662 0.30302714 0.76807686 0.40205864 0.31186953 0.15307052\n",
            "  0.82860175 0.93738926 0.16993119 0.46086143 0.51053886 0.53564949\n",
            "  0.80811767 0.69108564 0.46466731 0.         0.33842502 0.18283192\n",
            "  0.35172701 0.63778302 1.04514562 0.48039441 0.64381445 0.78896698\n",
            "  0.48439288 0.89230743 0.51682468 0.43775794 0.8559647  0.92185674\n",
            "  0.75358792 0.43658129 0.25172766 0.07572256 0.38755203 0.82254466\n",
            "  0.75818579 0.83044933 0.13318231 0.87647049 0.75705261 0.8070201\n",
            "  0.1744906  0.36090165 0.7925646  0.5205197  0.48308993 0.70971645\n",
            "  0.58404453 0.37763043 0.74883724 0.74550052 0.12461556 0.59208341\n",
            "  0.6085712  0.69430618 0.84521096 0.55171889 0.42704346 0.21734695\n",
            "  0.16784575 0.32074772 0.51571316 1.05036995 0.48937521 0.65425861\n",
            "  0.34377623 0.32735533 0.83808518 0.64559604 0.09481975 0.77408188\n",
            "  0.70120353 0.7260223  0.28626633 0.67374047 0.66535787 0.40889546\n",
            "  0.35899499 0.93623162 0.87502988 0.5563947  0.16531352 0.33835974\n",
            "  0.41450365 0.64743944 0.13277787 0.90910474]\n",
            " [0.38796561 0.72422539 0.77241057 0.58732869 0.83771284 0.33885863\n",
            "  0.48688664 0.79537332 0.16047301 0.11487244 0.21503892 0.76819833\n",
            "  0.64857031 0.05030178 0.55183072 0.32024631 0.45735693 0.48756213\n",
            "  0.79780314 0.72238363 0.43814373 0.17145117 0.28428533 0.36026631\n",
            "  0.46973151 0.80281531 0.23805335 0.33842502 0.         0.3033745\n",
            "  0.35888639 0.6471834  0.87378347 0.34338536 0.44685437 0.57472383\n",
            "  0.27715787 0.71990423 0.31048339 0.5068098  0.73375818 0.83163059\n",
            "  0.5624483  0.6705833  0.4749216  0.26930093 0.09409393 0.49467865\n",
            "  0.60549508 0.80306531 0.44786358 0.7256714  0.47098092 0.79461112\n",
            "  0.41105562 0.03093695 0.51870494 0.73301659 0.34243357 0.43764752\n",
            "  0.40015366 0.08805955 0.76582257 0.66624977 0.26673619 0.69973649\n",
            "  0.27541073 0.36190993 0.67466492 0.65710836 0.63688787 0.1729181\n",
            "  0.21306047 0.3978865  0.51978221 0.90417156 0.63153203 0.31716299\n",
            "  0.51079671 0.37591247 0.73846247 0.79857264 0.24940751 0.43626711\n",
            "  0.42602249 0.73878293 0.5198662  0.40957899 0.81039631 0.56803535\n",
            "  0.15704641 0.72841882 0.71050192 0.21817346 0.42445277 0.4085861\n",
            "  0.10985322 0.31388741 0.21621533 0.72152747]\n",
            " [0.67856816 0.4263427  0.65642252 0.29167242 0.74857149 0.19443595\n",
            "  0.71120304 0.52821081 0.44847542 0.2649151  0.51752594 0.7823296\n",
            "  0.58133407 0.25392325 0.60470335 0.22737937 0.16830869 0.26024065\n",
            "  0.64918162 0.76966168 0.35271512 0.46726715 0.36739981 0.37190688\n",
            "  0.74155784 0.54754297 0.32848374 0.18283192 0.3033745  0.\n",
            "  0.16890977 0.46160979 0.86709831 0.31093711 0.47958475 0.62435624\n",
            "  0.33705294 0.71595434 0.36510894 0.26873345 0.67414231 0.73905589\n",
            "  0.58375918 0.36757305 0.43274003 0.19102294 0.3054746  0.72467258\n",
            "  0.58068657 0.65146212 0.3101426  0.69715829 0.62446702 0.62987442\n",
            "  0.11831777 0.31143745 0.6515848  0.4338491  0.31431794 0.57149892\n",
            "  0.41934461 0.37703163 0.57620698 0.56267015 0.07404914 0.44408038\n",
            "  0.52964409 0.65763145 0.66920016 0.40137309 0.33655531 0.2826621\n",
            "  0.25709593 0.14561254 0.3359363  0.86937966 0.35452971 0.60557835\n",
            "  0.21721449 0.14648265 0.65536106 0.52148088 0.13534017 0.71848746\n",
            "  0.56510451 0.55214084 0.21689727 0.5334893  0.53735442 0.28054263\n",
            "  0.24065495 0.76663503 0.69762692 0.49713188 0.34752534 0.16284869\n",
            "  0.33140934 0.60924117 0.12935518 0.73533632]\n",
            " [0.67641713 0.40458918 0.48877985 0.27379667 0.57975023 0.04547546\n",
            "  0.64737612 0.43939368 0.46225835 0.37257085 0.54937252 0.62444945\n",
            "  0.41378132 0.31154036 0.46478342 0.09486325 0.15782782 0.4110659\n",
            "  0.48662318 0.62066667 0.52155812 0.52955514 0.2768775  0.2433799\n",
            "  0.71387131 0.44421238 0.25679923 0.35172701 0.35888639 0.16890977\n",
            "  0.         0.30737824 0.70387438 0.17700667 0.34276242 0.48212808\n",
            "  0.24443937 0.55562101 0.26005949 0.14874785 0.5063624  0.57031158\n",
            "  0.4345989  0.38144253 0.60068975 0.35191008 0.31358472 0.66383291\n",
            "  0.41965017 0.48962472 0.47788541 0.53277916 0.52655529 0.47129695\n",
            "  0.24266435 0.35179184 0.54137923 0.41686424 0.18157584 0.46891352\n",
            "  0.28510618 0.44596098 0.42599051 0.39382439 0.23533117 0.34177541\n",
            "  0.50380416 0.66485648 0.50967187 0.29965335 0.33293012 0.41003524\n",
            "  0.39937938 0.07447729 0.17692894 0.70245864 0.28583818 0.60479043\n",
            "  0.20540045 0.04355245 0.48649932 0.44739774 0.29311747 0.70329611\n",
            "  0.46580337 0.40022958 0.2748652  0.43041517 0.45669965 0.2404884\n",
            "  0.22456512 0.6151575  0.53592674 0.49582716 0.51611507 0.07124215\n",
            "  0.33165937 0.61845463 0.27337028 0.5784537 ]\n",
            " [0.89334153 0.38894887 0.23279307 0.34125258 0.33930017 0.3121827\n",
            "  0.78270076 0.2701511  0.71374497 0.67757124 0.80820043 0.50476056\n",
            "  0.25790236 0.60463895 0.45804677 0.32731599 0.34123902 0.6508322\n",
            "  0.195467   0.54514003 0.80513409 0.81093713 0.45210553 0.36418876\n",
            "  0.89645151 0.23841655 0.46566119 0.63778302 0.6471834  0.46160979\n",
            "  0.30737824 0.         0.54004636 0.33219528 0.38932568 0.46234669\n",
            "  0.43061148 0.43249416 0.41901154 0.20365171 0.32234334 0.32743636\n",
            "  0.40086111 0.43610201 0.88933724 0.65213128 0.58031118 0.8021729\n",
            "  0.32686798 0.19576286 0.75015684 0.38353479 0.61707016 0.16936008\n",
            "  0.48604027 0.6330667  0.60162824 0.40448822 0.33567187 0.56183466\n",
            "  0.36744782 0.7351272  0.11940787 0.18899933 0.53426639 0.18978348\n",
            "  0.71083098 0.89278181 0.40132578 0.18350688 0.3840192  0.7172171\n",
            "  0.70622226 0.31745481 0.13079767 0.50534607 0.25588816 0.82890738\n",
            "  0.33870563 0.31619302 0.27559715 0.30862482 0.59468103 0.90282089\n",
            "  0.56632021 0.09303434 0.44013648 0.53190937 0.29982513 0.30195166\n",
            "  0.49409143 0.52947072 0.407299   0.73004464 0.80230645 0.29986104\n",
            "  0.58978211 0.85180017 0.57880719 0.47183035]\n",
            " [0.88611069 0.92897027 0.33070402 0.86706065 0.2417833  0.67274568\n",
            "  0.65681232 0.7886993  0.83306254 0.96286846 0.91598847 0.11205214\n",
            "  0.29961869 0.85711166 0.33001219 0.64315613 0.82254915 1.1142246\n",
            "  0.41242403 0.19151365 1.21082821 0.97689188 0.58962503 0.52502966\n",
            "  0.8194814  0.74347233 0.63704072 1.04514562 0.87378347 0.86709831\n",
            "  0.70387438 0.54004636 0.         0.56892513 0.42742107 0.30790061\n",
            "  0.60046837 0.15556282 0.56570974 0.69673776 0.21829103 0.25251093\n",
            "  0.31134057 0.97081866 1.28124277 1.02494671 0.77990367 0.67406504\n",
            "  0.28697071 0.42012312 1.17636262 0.17168937 0.50014895 0.45759732\n",
            "  0.94388535 0.84552047 0.44451817 0.94452198 0.56703754 0.48901845\n",
            "  0.47916554 0.94185089 0.52948736 0.35311653 0.9211796  0.72650143\n",
            "  0.74439198 0.90900404 0.20255674 0.7235442  0.91687617 1.02041329\n",
            "  1.03597467 0.76033934 0.58976275 0.08325064 0.79296059 0.85472074\n",
            "  0.84218505 0.73961664 0.26568002 0.8337537  0.96800841 0.8574747\n",
            "  0.50221922 0.52353921 0.94124367 0.49678302 0.81895317 0.82466674\n",
            "  0.73703691 0.17305596 0.17033961 0.80837336 1.20282507 0.74577064\n",
            "  0.76890745 0.89055709 0.93667896 0.15433431]\n",
            " [0.56383543 0.56062052 0.42904303 0.43934729 0.49708905 0.13246321\n",
            "  0.48868394 0.54806912 0.38356745 0.4083776  0.47873536 0.47657997\n",
            "  0.30994246 0.31156334 0.29444194 0.08632828 0.3335878  0.56995112\n",
            "  0.45820969 0.45894597 0.64315857 0.4928239  0.12473607 0.06637368\n",
            "  0.57832669 0.53736275 0.13358769 0.48039441 0.34338536 0.31093711\n",
            "  0.17700667 0.33219528 0.56892513 0.         0.16971726 0.31364229\n",
            "  0.0992108  0.41424825 0.09620843 0.27752917 0.39940197 0.49034466\n",
            "  0.27364164 0.55079373 0.7123392  0.45610528 0.2614347  0.50654758\n",
            "  0.28355823 0.46408849 0.61319595 0.40502603 0.35339192 0.45983494\n",
            "  0.40951848 0.32234929 0.36493614 0.57436114 0.0048947  0.29495947\n",
            "  0.11005991 0.4273973  0.44392138 0.322865   0.35577897 0.44704331\n",
            "  0.38184485 0.5614017  0.36698679 0.41143092 0.49934893 0.46180928\n",
            "  0.47099568 0.25106685 0.2262931  0.58355772 0.42633797 0.49773598\n",
            "  0.37763245 0.22055809 0.39780322 0.56847947 0.39959114 0.57821781\n",
            "  0.29312021 0.41679864 0.45187167 0.25696925 0.57150976 0.40111389\n",
            "  0.18750785 0.45658461 0.39873487 0.39784987 0.63466561 0.24488921\n",
            "  0.26536602 0.51978898 0.36776882 0.42896422]\n",
            " [0.54361642 0.69781448 0.3853425  0.58837889 0.41903751 0.29998928\n",
            "  0.39552367 0.64597336 0.42563798 0.53621742 0.51689434 0.32462581\n",
            "  0.23666996 0.42987044 0.12513114 0.25587687 0.49503725 0.73925352\n",
            "  0.44330673 0.29396038 0.80192091 0.56197646 0.16259574 0.10832018\n",
            "  0.5227666  0.62320752 0.20962014 0.64381445 0.44685437 0.47958475\n",
            "  0.34276242 0.38932568 0.42742107 0.16971726 0.         0.14529041\n",
            "  0.1736785  0.27305944 0.13865971 0.41386636 0.30418119 0.41604101\n",
            "  0.11658089 0.70133787 0.86611378 0.61221584 0.35331518 0.41525779\n",
            "  0.16816857 0.45127952 0.77699623 0.28217961 0.22791477 0.46152926\n",
            "  0.57911966 0.41913312 0.21882893 0.71255348 0.16592217 0.17267714\n",
            "  0.06025892 0.51801295 0.47534686 0.28807769 0.51973859 0.54960061\n",
            "  0.36911469 0.55349232 0.2279714  0.52200038 0.64774878 0.59444026\n",
            "  0.61301832 0.41494576 0.33061135 0.458623   0.55641266 0.4909572\n",
            "  0.53432822 0.38584639 0.32559105 0.67550755 0.55832016 0.53902504\n",
            "  0.17792242 0.45101584 0.61591152 0.14526262 0.67315998 0.54734334\n",
            "  0.31156251 0.29435534 0.26414594 0.41537216 0.79237509 0.40635248\n",
            "  0.34412362 0.52163348 0.52392447 0.27711099]\n",
            " [0.59274598 0.8109874  0.37831012 0.71223359 0.37310471 0.44108171\n",
            "  0.38995373 0.73136748 0.52519549 0.67152084 0.60850323 0.1972255\n",
            "  0.2345453  0.56380726 0.02290032 0.39907285 0.62943186 0.88358915\n",
            "  0.45470221 0.15039789 0.94609245 0.66945653 0.29500194 0.25361058\n",
            "  0.54305384 0.70057208 0.34413273 0.78896698 0.57472383 0.62435624\n",
            "  0.48212808 0.46234669 0.30790061 0.31364229 0.14529041 0.\n",
            "  0.31269642 0.16821837 0.2778387  0.53398711 0.25740041 0.37439668\n",
            "  0.06149447 0.82481282 1.00875564 0.75604405 0.48071843 0.40939721\n",
            "  0.14658759 0.46359631 0.92214737 0.20383957 0.21454967 0.48499559\n",
            "  0.72165714 0.54532485 0.17073059 0.82624447 0.31011459 0.18764265\n",
            "  0.20543539 0.63793598 0.52118244 0.30813335 0.66498383 0.6420742\n",
            "  0.43957974 0.61154039 0.13750891 0.62116474 0.77022892 0.73081748\n",
            "  0.7526302  0.55209493 0.43842744 0.35688269 0.66759293 0.55408181\n",
            "  0.66464986 0.52436811 0.30038581 0.76670149 0.70282671 0.57275751\n",
            "  0.20014753 0.50123251 0.75148314 0.18987833 0.76043366 0.66992852\n",
            "  0.45070226 0.15397526 0.17184117 0.50120747 0.9362894  0.54192616\n",
            "  0.46704638 0.58888491 0.66799483 0.15387571]\n",
            " [0.46464036 0.64482232 0.50826606 0.51743813 0.56473329 0.19983097\n",
            "  0.40328958 0.64489377 0.29007572 0.36259366 0.38548902 0.49828459\n",
            "  0.37518931 0.25671847 0.29049218 0.15122511 0.40073653 0.59529281\n",
            "  0.5461315  0.46309426 0.63587395 0.40980127 0.03259963 0.08505507\n",
            "  0.4820336  0.63570435 0.041029   0.48439288 0.27715787 0.33705294\n",
            "  0.24443937 0.43061148 0.60046837 0.0992108  0.1736785  0.31269642\n",
            "  0.         0.44542026 0.0351171  0.3671893  0.45773984 0.55944547\n",
            "  0.29024242 0.62588013 0.69642908 0.44548897 0.18592881 0.42007892\n",
            "  0.32833846 0.55260227 0.6168186  0.44869985 0.2894887  0.5515645\n",
            "  0.44883652 0.25129519 0.31454012 0.65786011 0.09533506 0.23488401\n",
            "  0.12309765 0.35409253 0.54052275 0.40232635 0.36334498 0.54371747\n",
            "  0.28277494 0.46237906 0.39938647 0.50688436 0.57694666 0.42076746\n",
            "  0.44026083 0.31746846 0.32486064 0.62752716 0.5156413  0.39863913\n",
            "  0.4497738  0.2858183  0.46610801 0.6634773  0.39449066 0.47992904\n",
            "  0.22923745 0.51354515 0.51141139 0.19661944 0.66757638 0.4820698\n",
            "  0.13829674 0.46557993 0.4346654  0.30005434 0.62552364 0.31567698\n",
            "  0.18249109 0.42121084 0.35838064 0.45078947]\n",
            " [0.76057103 0.81515651 0.26979112 0.73937338 0.22770034 0.5222194\n",
            "  0.54917025 0.69715408 0.68689065 0.80758082 0.77298932 0.07352879\n",
            "  0.1750502  0.7021371  0.18785228 0.49033635 0.68263805 0.96668676\n",
            "  0.35539066 0.12716705 1.05699671 0.82860339 0.43562311 0.36946684\n",
            "  0.70672938 0.65731097 0.48250764 0.89230743 0.71990423 0.71595434\n",
            "  0.55562101 0.43249416 0.15556282 0.41424825 0.27305944 0.16821837\n",
            "  0.44542026 0.         0.41080956 0.56378742 0.13191613 0.23253201\n",
            "  0.15833364 0.84733966 1.12652128 0.87034581 0.6262731  0.5679692\n",
            "  0.1359761  0.36427636 1.02414269 0.05832556 0.37869144 0.39521801\n",
            "  0.79750396 0.69204418 0.32871543 0.83079241 0.41221382 0.35581272\n",
            "  0.32371343 0.7898174  0.45253123 0.24564637 0.7680058  0.62226243\n",
            "  0.60696218 0.7797381  0.04726181 0.61215471 0.79257244 0.86497244\n",
            "  0.88042455 0.61578772 0.45769172 0.19020349 0.67438073 0.72223869\n",
            "  0.70699711 0.59318115 0.18765787 0.73888818 0.81373763 0.73885653\n",
            "  0.36836272 0.43957572 0.80345184 0.35678173 0.72747431 0.69643222\n",
            "  0.58161118 0.1063693  0.02528239 0.66654032 1.04873953 0.60212999\n",
            "  0.61626386 0.75691536 0.78196745 0.04367865]\n",
            " [0.47437086 0.65442494 0.4824668  0.53014613 0.53515577 0.21465786\n",
            "  0.39333361 0.64367516 0.31280572 0.39755901 0.40781561 0.46322397\n",
            "  0.34589935 0.29140192 0.25572864 0.16523094 0.41774462 0.62451373\n",
            "  0.52414104 0.42822787 0.66979835 0.43799287 0.0345119  0.05905442\n",
            "  0.4832227  0.63167356 0.07248735 0.51682468 0.31048339 0.36510894\n",
            "  0.26005949 0.41901154 0.56570974 0.09620843 0.13865971 0.2778387\n",
            "  0.0351171  0.41080956 0.         0.37289622 0.42647701 0.53025989\n",
            "  0.25523976 0.64020193 0.73104609 0.47944856 0.21819184 0.41095669\n",
            "  0.29551993 0.53092407 0.64954456 0.4152096  0.26731072 0.53195074\n",
            "  0.4745445  0.28391425 0.2877448  0.66788906 0.0915168  0.21070311\n",
            "  0.09002705 0.38562573 0.52548229 0.37720262 0.39485867 0.54277531\n",
            "  0.29186531 0.4749909  0.3649515  0.5075306  0.59000487 0.4558315\n",
            "  0.47532913 0.33424365 0.3208187  0.59372785 0.52178949 0.41096905\n",
            "  0.46499077 0.30271846 0.43706518 0.66461037 0.42777592 0.48519369\n",
            "  0.20653583 0.49878367 0.53154788 0.17206034 0.6674081  0.49325536\n",
            "  0.17339498 0.43054709 0.4004288  0.31718613 0.65960023 0.33077226\n",
            "  0.21259359 0.43576855 0.39200135 0.41575642]\n",
            " [0.81851393 0.28524897 0.42504411 0.17875036 0.52777987 0.17961831\n",
            "  0.76611255 0.2908873  0.60924034 0.51116506 0.69753593 0.63687936\n",
            "  0.39722464 0.4587292  0.52141225 0.2205297  0.13824687 0.44815341\n",
            "  0.39868388 0.65360792 0.60328083 0.67785637 0.39756438 0.33739785\n",
            "  0.84787623 0.29604026 0.38881115 0.43775794 0.5068098  0.26873345\n",
            "  0.14874785 0.20365171 0.69673776 0.27752917 0.41386636 0.53398711\n",
            "  0.3671893  0.56378742 0.37289622 0.         0.48228062 0.51667579\n",
            "  0.47717827 0.29088964 0.68840568 0.45920167 0.46159174 0.7838392\n",
            "  0.43372432 0.39930285 0.54689451 0.52727868 0.62628681 0.37241837\n",
            "  0.28238886 0.50045406 0.62973426 0.2996081  0.28238441 0.56748358\n",
            "  0.36637676 0.59331642 0.31112129 0.35142165 0.34276683 0.19309374\n",
            "  0.64187853 0.80908758 0.52261375 0.1509131  0.23624262 0.54189973\n",
            "  0.52310436 0.12386596 0.1069853  0.67774564 0.14889357 0.74789603\n",
            "  0.14590108 0.13466858 0.44760286 0.3012511  0.40405073 0.84159277\n",
            "  0.56721292 0.28873073 0.24686993 0.5306923  0.30909941 0.13608758\n",
            "  0.37213413 0.6432428  0.54056204 0.64009857 0.60108263 0.10762717\n",
            "  0.47866185 0.76341786 0.3939806  0.59540537]\n",
            " [0.83628315 0.71104247 0.13787499 0.64984645 0.11785293 0.48129046\n",
            "  0.64686847 0.57755204 0.72937027 0.80742288 0.8210625  0.19424647\n",
            "  0.09290233 0.70767818 0.26959938 0.46023601 0.61213315 0.91142751\n",
            "  0.22357012 0.25898726 1.02476639 0.86283054 0.45732184 0.3735645\n",
            "  0.79678391 0.53494604 0.49823008 0.8559647  0.73375818 0.67414231\n",
            "  0.5063624  0.32234334 0.21829103 0.39940197 0.30418119 0.25740041\n",
            "  0.45773984 0.13191613 0.42647701 0.48228062 0.         0.11764292\n",
            "  0.21668524 0.75272265 1.10016107 0.84494993 0.64365683 0.66643033\n",
            "  0.13634326 0.23242978 0.98406112 0.07369349 0.47011519 0.26410457\n",
            "  0.74025982 0.70882754 0.42810786 0.72661784 0.39889254 0.43465456\n",
            "  0.33688862 0.81178428 0.32529778 0.13484029 0.73457928 0.51020343\n",
            "  0.6690909  0.85040904 0.12773074 0.50570483 0.69892147 0.86120889\n",
            "  0.86898274 0.555728   0.3757688  0.19736116 0.57467071 0.78946927\n",
            "  0.62816651 0.53815275 0.05618128 0.62121751 0.78641867 0.82266694\n",
            "  0.44552869 0.3148781  0.72847692 0.42488009 0.60794318 0.60769999\n",
            "  0.58331181 0.23827239 0.10921727 0.71914046 1.01814811 0.54010894\n",
            "  0.63906848 0.8218017  0.75850836 0.17558735]\n",
            " [0.9527831  0.70783085 0.09482582 0.66852548 0.01225953 0.55256534\n",
            "  0.7642016  0.54904301 0.83851078 0.89738942 0.9314348  0.27694991\n",
            "  0.18436811 0.80184822 0.38712725 0.53977174 0.65333586 0.96097126\n",
            "  0.16397295 0.35612008 1.09176839 0.96824747 0.56261634 0.47439892\n",
            "  0.91441856 0.50100633 0.60042196 0.92185674 0.83163059 0.73905589\n",
            "  0.57031158 0.32743636 0.25251093 0.49034466 0.41604101 0.37439668\n",
            "  0.55944547 0.23253201 0.53025989 0.51667579 0.11764292 0.\n",
            "  0.33414743 0.76229981 1.17076636 0.91890085 0.74419079 0.78371447\n",
            "  0.25079349 0.17081675 1.04546343 0.1777739  0.58765822 0.20969725\n",
            "  0.7908933  0.80831063 0.54490972 0.72296851 0.49065503 0.55214317\n",
            "  0.44248218 0.9125606  0.28686369 0.1766816  0.80456123 0.49962025\n",
            "  0.78369491 0.96610895 0.24097325 0.50516399 0.71099627 0.9485757\n",
            "  0.95171751 0.6087198  0.41602744 0.19241395 0.58191311 0.90468287\n",
            "  0.66008731 0.59616881 0.09335398 0.59577986 0.8598724  0.94002515\n",
            "  0.56290656 0.28637133 0.76202403 0.54155828 0.57874866 0.62862379\n",
            "  0.67753121 0.33390152 0.21494473 0.83129392 1.08642665 0.59187391\n",
            "  0.74191755 0.93646997 0.83502272 0.27369573]\n",
            " [0.62053526 0.75184164 0.3271315  0.65582401 0.33449063 0.39552243\n",
            "  0.43371933 0.66989681 0.53030966 0.65279821 0.61812446 0.20819574\n",
            "  0.1790512  0.54638478 0.06055047 0.35656969 0.57765555 0.84104465\n",
            "  0.40007643 0.18641163 0.91435778 0.67087713 0.27830113 0.21993069\n",
            "  0.58056763 0.63911344 0.32595104 0.75358792 0.5624483  0.58375918\n",
            "  0.4345989  0.40086111 0.31134057 0.27364164 0.11658089 0.06149447\n",
            "  0.29024242 0.15833364 0.25523976 0.47717827 0.21668524 0.33414743\n",
            "  0.         0.76802961 0.98033972 0.7254202  0.468603   0.45350882\n",
            "  0.09101582 0.40885494 0.88657024 0.17682075 0.25606828 0.42829466\n",
            "  0.67628808 0.53427227 0.22032599 0.76716894 0.27070487 0.21799602\n",
            "  0.17202288 0.63153189 0.46148722 0.25019007 0.62902783 0.58089349\n",
            "  0.45744113 0.63599798 0.11570689 0.56049769 0.71327144 0.71098052\n",
            "  0.72901431 0.50240489 0.37953    0.34700624 0.60837256 0.57609553\n",
            "  0.61074197 0.47585113 0.25302196 0.70537133 0.6704554  0.6059862\n",
            "  0.2288527  0.44101918 0.69996451 0.20946473 0.69898889 0.61326438\n",
            "  0.42794753 0.18296597 0.15267498 0.51290095 0.90523539 0.49127917\n",
            "  0.45808712 0.60944182 0.6369272  0.16058202]\n",
            " [1.03653063 0.09317479 0.66748378 0.11299002 0.77433369 0.42625027\n",
            "  1.02864963 0.28816159 0.80962854 0.62472308 0.88366663 0.92085212\n",
            "  0.6753431  0.62075459 0.8119392  0.47543759 0.22809479 0.34582861\n",
            "  0.61467766 0.94283895 0.55330726 0.83437004 0.65829594 0.61546985\n",
            "  1.08705353 0.334889   0.63648278 0.43658129 0.6705833  0.36757305\n",
            "  0.38144253 0.43610201 0.97081866 0.55079373 0.70133787 0.82481282\n",
            "  0.62588013 0.84733966 0.64020193 0.29088964 0.75272265 0.76229981\n",
            "  0.76802961 0.         0.63871491 0.49743274 0.6612614  1.04491328\n",
            "  0.72125192 0.61174047 0.48105206 0.80604247 0.90417165 0.57532307\n",
            "  0.27531153 0.67676065 0.91336368 0.0895637  0.55564901 0.84574535\n",
            "  0.65020357 0.74405858 0.4959149  0.61795223 0.41879691 0.27498614\n",
            "  0.87432585 1.01885997 0.80839078 0.25876004 0.05497591 0.62803354\n",
            "  0.58834378 0.30939998 0.39186551 0.94094891 0.18040898 0.96346992\n",
            "  0.17638479 0.34083848 0.70994749 0.25177633 0.46579978 1.0708201\n",
            "  0.84378957 0.48568841 0.15622596 0.80773842 0.2762617  0.15488757\n",
            "  0.58179076 0.93159182 0.82324557 0.85355879 0.55861898 0.31020315\n",
            "  0.68489421 0.97073781 0.48028943 0.8813637 ]\n",
            " [0.80912532 0.72888994 1.08911001 0.63219467 1.18001485 0.61972691\n",
            "  0.9582568  0.89510136 0.61692523 0.36030085 0.62056826 1.18718312\n",
            "  1.00736819 0.46251003 0.98675761 0.64092475 0.55848829 0.29330922\n",
            "  1.08030924 1.1590523  0.08765019 0.52032921 0.71729488 0.76043617\n",
            "  0.91362677 0.92844717 0.66841878 0.25172766 0.4749216  0.43274003\n",
            "  0.60068975 0.88933724 1.28124277 0.7123392  0.86611378 1.00875564\n",
            "  0.69642908 1.12652128 0.73104609 0.68840568 1.10016107 1.17076636\n",
            "  0.98033972 0.63871491 0.         0.25635887 0.55502086 0.96429688\n",
            "  0.99512784 1.08217558 0.15776574 1.11556088 0.94118903 1.05863128\n",
            "  0.41401441 0.50492175 0.98485328 0.72784224 0.7143113  0.90189202\n",
            "  0.80836816 0.46672855 0.99947997 0.99412006 0.36641283 0.83335476\n",
            "  0.74397283 0.77256126 1.07926226 0.79473696 0.64371631 0.30244536\n",
            "  0.26441054 0.57247113 0.76731808 1.29209367 0.72657004 0.75092127\n",
            "  0.58363243 0.57853463 1.0853133  0.87217847 0.3140773  0.8686746\n",
            "  0.89144416 0.97703998 0.50785131 0.86955074 0.89388344 0.64615591\n",
            "  0.55973405 1.16042621 1.1109833  0.67609888 0.0874531  0.59008159\n",
            "  0.5782663  0.73232924 0.34457038 1.13937402]\n",
            " [0.65095432 0.57418575 0.83998496 0.45116872 0.92777867 0.36637948\n",
            "  0.75035937 0.7051005  0.42896752 0.16769083 0.46629099 0.93160602\n",
            "  0.75231488 0.23861421 0.73440027 0.38503372 0.34587327 0.22854612\n",
            "  0.83763673 0.9059489  0.19038588 0.38534315 0.46878716 0.50554255\n",
            "  0.73844898 0.72943748 0.42093389 0.07572256 0.26930093 0.19102294\n",
            "  0.35191008 0.65213128 1.02494671 0.45610528 0.61221584 0.75604405\n",
            "  0.44548897 0.87034581 0.47944856 0.45920167 0.84494993 0.91890085\n",
            "  0.7254202  0.49743274 0.25635887 0.         0.32756874 0.75968357\n",
            "  0.73876898 0.84027085 0.1814466  0.85925509 0.70649957 0.81981017\n",
            "  0.22492638 0.29389371 0.74543552 0.5780958  0.45814778 0.66215967\n",
            "  0.5537302  0.30298714 0.76719799 0.74230289 0.11788374 0.62766532\n",
            "  0.54294624 0.62094389 0.82308402 0.58581735 0.48224183 0.1420628\n",
            "  0.09409098 0.33659551 0.52502605 1.03604941 0.53034984 0.5826192\n",
            "  0.38547428 0.33607309 0.83189185 0.69223889 0.05904598 0.70279786\n",
            "  0.65279051 0.74302826 0.34298799 0.62758313 0.71057707 0.45137287\n",
            "  0.31245673 0.90648815 0.85466405 0.48734117 0.18024745 0.35386918\n",
            "  0.35381469 0.57447217 0.0885259  0.8838271 ]\n",
            " [0.37544739 0.70417234 0.68886834 0.56752235 0.74980699 0.28416507\n",
            "  0.42474517 0.7524658  0.15019678 0.19780467 0.23595286 0.67412168\n",
            "  0.56027833 0.09259631 0.4578307  0.25505423 0.437381   0.5272574\n",
            "  0.71949634 0.62867116 0.50952327 0.2320894  0.1907384  0.2703849\n",
            "  0.43669323 0.75437584 0.14577331 0.38755203 0.09409393 0.3054746\n",
            "  0.31358472 0.58031118 0.77990367 0.2614347  0.35331518 0.48071843\n",
            "  0.18592881 0.6262731  0.21819184 0.46159174 0.64365683 0.74419079\n",
            "  0.468603   0.6612614  0.55502086 0.32756874 0.         0.43530201\n",
            "  0.51370345 0.72525152 0.50899517 0.63318635 0.38617531 0.71959549\n",
            "  0.42222629 0.06585924 0.43099601 0.71454485 0.2597639  0.34872312\n",
            "  0.30818885 0.16840773 0.69706977 0.58251711 0.2910233  0.65367399\n",
            "  0.22669963 0.35803821 0.5812575  0.61224209 0.62167176 0.25802211\n",
            "  0.29061331 0.36657571 0.45760939 0.81127132 0.59747399 0.30233197\n",
            "  0.49155803 0.33984444 0.65084927 0.76088767 0.29311023 0.4131392\n",
            "  0.33768124 0.66984764 0.5190162  0.31877212 0.77025057 0.54230112\n",
            "  0.08968721 0.63448252 0.61725823 0.19269652 0.4968123  0.37382647\n",
            "  0.02725215 0.3102229  0.25566911 0.62748876]\n",
            " [0.24320799 1.0645507  0.7799621  0.93737133 0.78250026 0.61971098\n",
            "  0.0199318  1.04805251 0.34821446 0.60848002 0.37244661 0.56719897\n",
            "  0.62978999 0.52110081 0.3970587  0.57130367 0.81804985 0.96172723\n",
            "  0.84885607 0.48256441 0.93268261 0.47215095 0.38818455 0.45118267\n",
            "  0.14842035 1.03075565 0.40898792 0.82254466 0.49467865 0.72467258\n",
            "  0.66383291 0.8021729  0.67406504 0.50654758 0.41525779 0.40939721\n",
            "  0.42007892 0.5679692  0.41095669 0.7838392  0.66643033 0.78371447\n",
            "  0.45350882 1.04491328 0.96429688 0.75968357 0.43530201 0.\n",
            "  0.54364893 0.85734673 0.94057784 0.61163995 0.19750331 0.87204173\n",
            "  0.84281802 0.46721599 0.23983374 1.07774163 0.50173242 0.24410949\n",
            "  0.43631758 0.5004312  0.8904457  0.6943067  0.72349328 0.94826967\n",
            "  0.22042225 0.27862289 0.54548    0.91525698 0.99672748 0.66306302\n",
            "  0.70707985 0.73560346 0.72457997 0.74239202 0.93272817 0.25105293\n",
            "  0.86854132 0.7040951  0.70637718 1.07219396 0.72833424 0.195606\n",
            "  0.23749105 0.86625947 0.9225016  0.27054651 1.07327179 0.90212815\n",
            "  0.48409601 0.50177695 0.57728024 0.29021679 0.91884498 0.73500482\n",
            "  0.4081917  0.28578984 0.69096818 0.53924258]\n",
            " [0.70226641 0.69577739 0.23640351 0.61130638 0.25274782 0.38663075\n",
            "  0.52380377 0.59695707 0.59375522 0.68568721 0.68500468 0.20617174\n",
            "  0.08832303 0.58281198 0.15088911 0.35618614 0.54843141 0.83071587\n",
            "  0.30926522 0.22286082 0.92398609 0.72884582 0.32476648 0.24657298\n",
            "  0.66801952 0.56270791 0.36794266 0.75818579 0.60549508 0.58068657\n",
            "  0.41965017 0.32686798 0.28697071 0.28355823 0.16816857 0.14658759\n",
            "  0.32833846 0.1359761  0.29551993 0.43372432 0.13634326 0.25079349\n",
            "  0.09101582 0.72125192 0.99512784 0.73876898 0.51370345 0.54364893\n",
            "  0.         0.31807905 0.88954042 0.12192462 0.34615202 0.33850459\n",
            "  0.66156602 0.57937515 0.31132073 0.71133496 0.28203615 0.30494421\n",
            "  0.20551672 0.68092938 0.37591456 0.16172166 0.63421527 0.51309931\n",
            "  0.53318453 0.71531548 0.09066243 0.49731363 0.66628693 0.74152094\n",
            "  0.75367587 0.4802078  0.32945874 0.30123099 0.55303299 0.65395203\n",
            "  0.57485966 0.45728845 0.16469395 0.63509491 0.6814959  0.69114483\n",
            "  0.31489727 0.35696981 0.6698448  0.29153703 0.62669044 0.56830371\n",
            "  0.45960501 0.21044132 0.11695749 0.58280966 0.91611052 0.46679779\n",
            "  0.50733259 0.68594881 0.65072076 0.1623153 ]\n",
            " [0.99225153 0.54925338 0.09483246 0.52764262 0.18274155 0.48482708\n",
            "  0.83741707 0.38048907 0.84258139 0.8490791  0.93794227 0.42448467\n",
            "  0.22981456 0.76548781 0.46896673 0.48728367 0.53700095 0.84650921\n",
            "  0.00901659 0.49113903 0.99882456 0.95690685 0.56540587 0.47187407\n",
            "  0.97342298 0.33136868 0.59238745 0.83044933 0.80306531 0.65146212\n",
            "  0.48962472 0.19576286 0.42012312 0.46408849 0.45127952 0.46359631\n",
            "  0.55260227 0.36427636 0.53092407 0.39930285 0.23242978 0.17081675\n",
            "  0.40885494 0.61174047 1.08217558 0.84027085 0.72525152 0.85734673\n",
            "  0.31807905 0.         0.94514208 0.30612241 0.66073703 0.03937822\n",
            "  0.6816382  0.78448624 0.62907505 0.56392513 0.46607979 0.6143273\n",
            "  0.45540226 0.88922555 0.11973631 0.1636733  0.72260907 0.3405117\n",
            "  0.81322539 0.99885406 0.35341791 0.35314452 0.56334719 0.89367176\n",
            "  0.88776875 0.50973667 0.31553451 0.3632251  0.43355013 0.93520295\n",
            "  0.53281607 0.50499474 0.17668575 0.4278227  0.78193032 0.99019593\n",
            "  0.62255017 0.12606798 0.6334591  0.59385144 0.409788   0.49108713\n",
            "  0.64611604 0.47064468 0.34098577 0.84746014 0.99549724 0.4921363\n",
            "  0.72928033 0.96302498 0.76295757 0.40795458]\n",
            " [0.82126474 0.57112512 0.95989961 0.47667271 1.05537393 0.50434949\n",
            "  0.93151118 0.73928373 0.60549565 0.33899549 0.63312615 1.08900833\n",
            "  0.89132108 0.41978309 0.90124109 0.53382992 0.41228424 0.13639725\n",
            "  0.94396854 1.07054214 0.07321153 0.54295792 0.64237822 0.66882284\n",
            "  0.91407108 0.77399421 0.59585954 0.13318231 0.44786358 0.3101426\n",
            "  0.47788541 0.75015684 1.17636262 0.61319595 0.77699623 0.92214737\n",
            "  0.6168186  1.02414269 0.64954456 0.54689451 0.98406112 1.04546343\n",
            "  0.88657024 0.48105206 0.15776574 0.1814466  0.50899517 0.94057784\n",
            "  0.88954042 0.94514208 0.         1.00696123 0.88577592 0.91926399\n",
            "  0.26593989 0.47383119 0.92294271 0.57011056 0.6159629  0.83984798\n",
            "  0.71721366 0.4693901  0.85621821 0.86995408 0.25755587 0.68094845\n",
            "  0.72287703 0.78887225 0.97713432 0.6435241  0.48625583 0.29590786\n",
            "  0.24469496 0.43804132 0.63374431 1.1795146  0.57282644 0.75538051\n",
            "  0.43222206 0.44931959 0.96384431 0.71528141 0.22333854 0.87576955\n",
            "  0.8309483  0.83497539 0.35169017 0.80440205 0.73725151 0.49295713\n",
            "  0.4888923  1.06928773 1.00647611 0.66460353 0.08154042 0.45534762\n",
            "  0.53526076 0.74396108 0.26080206 1.04161252]\n",
            " [0.79432942 0.76969186 0.2115391  0.70005788 0.17418033 0.50272665\n",
            "  0.59243929 0.64481176 0.70538164 0.80743752 0.79429528 0.12311338\n",
            "  0.13079579 0.70412499 0.22002573 0.47526719 0.65131044 0.94274063\n",
            "  0.29725901 0.18549059 1.04332874 0.84385156 0.44305284 0.36804561\n",
            "  0.74687378 0.60372024 0.48768554 0.87647049 0.7256714  0.69715829\n",
            "  0.53277916 0.38353479 0.17168937 0.40502603 0.28217961 0.20383957\n",
            "  0.44869985 0.05832556 0.4152096  0.52727868 0.07369349 0.1777739\n",
            "  0.17682075 0.80604247 1.11556088 0.85925509 0.63318635 0.61163995\n",
            "  0.12192462 0.30612241 1.00696123 0.         0.4182868  0.33751013\n",
            "  0.772281   0.69900343 0.37183812 0.78532279 0.40363807 0.38918277\n",
            "  0.32560263 0.7994626  0.39662326 0.19477243 0.7530674  0.573069\n",
            "  0.63406186 0.81126073 0.06636802 0.56531792 0.75159631 0.86340942\n",
            "  0.87551081 0.58865393 0.42036536 0.17937745 0.63055383 0.75205676\n",
            "  0.67218088 0.56808767 0.12966661 0.68743157 0.80163155 0.77623514\n",
            "  0.40104056 0.38472637 0.77056321 0.38500429 0.67519062 0.65734651\n",
            "  0.58125495 0.1646142  0.03732905 0.68953601 1.03577714 0.57408701\n",
            "  0.62555872 0.78576608 0.77144994 0.10195036]\n",
            " [0.38599075 0.91139226 0.58249462 0.79267077 0.58690584 0.48108036\n",
            "  0.17767779 0.87268165 0.37119564 0.58280296 0.43745437 0.38909934\n",
            "  0.43251414 0.47868862 0.20053098 0.43176213 0.68438274 0.87940295\n",
            "  0.6521744  0.31217047 0.89326398 0.51745382 0.25783762 0.28957213\n",
            "  0.32864316 0.85095096 0.29669133 0.75705261 0.47098092 0.62446702\n",
            "  0.52655529 0.61707016 0.50014895 0.35339192 0.22791477 0.21454967\n",
            "  0.2894887  0.37869144 0.26731072 0.62628681 0.47011519 0.58765822\n",
            "  0.25606828 0.90417165 0.94118903 0.70649957 0.38617531 0.19750331\n",
            "  0.34615202 0.66073703 0.88577592 0.4182868  0.         0.67655189\n",
            "  0.73796999 0.44009369 0.05794017 0.92553673 0.34853066 0.05880395\n",
            "  0.26189079 0.51067442 0.69877738 0.49824013 0.64234098 0.77514869\n",
            "  0.25766445 0.40936397 0.35191971 0.74559817 0.85267323 0.64261194\n",
            "  0.67678671 0.60096863 0.55330117 0.5611278  0.77326111 0.35741303\n",
            "  0.73036467 0.5695758  0.50903715 0.90075278 0.66314644 0.36041487\n",
            "  0.06079184 0.67543389 0.7988569  0.0964361  0.89939972 0.75400042\n",
            "  0.39820557 0.32794051 0.38535992 0.33074377 0.88108694 0.59661888\n",
            "  0.36352521 0.39404068 0.62530727 0.35489269]\n",
            " [0.99856111 0.51128284 0.12882656 0.49366524 0.22170357 0.46988018\n",
            "  0.85211781 0.34111924 0.84149231 0.83572312 0.93691384 0.45768445\n",
            "  0.2504884  0.75543726 0.48878609 0.47615144 0.5090692  0.81765696\n",
            "  0.04572596 0.52138033 0.97449396 0.95166151 0.56644708 0.47313965\n",
            "  0.98427938 0.29201306 0.59056533 0.8070201  0.79461112 0.62987442\n",
            "  0.47129695 0.16936008 0.45759732 0.45983494 0.46152926 0.48499559\n",
            "  0.5515645  0.39521801 0.53195074 0.37241837 0.26410457 0.20969725\n",
            "  0.42829466 0.57532307 1.05863128 0.81981017 0.71959549 0.87204173\n",
            "  0.33850459 0.03937822 0.91926399 0.33751013 0.67655189 0.\n",
            "  0.65461291 0.77726253 0.64756803 0.52584879 0.462197   0.62817343\n",
            "  0.46056423 0.88151429 0.08099401 0.17868203 0.70194488 0.30284462\n",
            "  0.81816744 1.00359409 0.38115875 0.31720559 0.52767467 0.87855408\n",
            "  0.87055556 0.48646748 0.29508149 0.40208725 0.39814195 0.93971206\n",
            "  0.50216073 0.48378399 0.20793059 0.38847936 0.76190553 0.99896516\n",
            "  0.63575732 0.09035745 0.60201437 0.60573811 0.3704098  0.45809549\n",
            "  0.63818573 0.50138733 0.37131841 0.84913222 0.97163769 0.46885532\n",
            "  0.72507074 0.96649689 0.7444341  0.43880342]\n",
            " [0.79284024 0.34932182 0.70224628 0.22850637 0.80138184 0.28088787\n",
            "  0.8292069  0.48819009 0.56214052 0.35188241 0.62606583 0.86687495\n",
            "  0.64908685 0.36342809 0.70328105 0.32324903 0.14636954 0.17118065\n",
            "  0.68088246 0.86262244 0.3269179  0.56683468 0.4801524  0.47392396\n",
            "  0.85882949 0.51758804 0.44371638 0.1744906  0.41105562 0.11831777\n",
            "  0.24266435 0.48604027 0.94388535 0.40951848 0.57911966 0.72165714\n",
            "  0.44883652 0.79750396 0.4745445  0.28238886 0.74025982 0.7908933\n",
            "  0.67628808 0.27531153 0.41401441 0.22492638 0.42222629 0.84281802\n",
            "  0.66156602 0.6816382  0.26593989 0.772281   0.73796999 0.65461291\n",
            "  0.         0.42276858 0.76226188 0.35353633 0.41348248 0.68368915\n",
            "  0.51956408 0.4769234  0.59040611 0.61828035 0.14721324 0.4201199\n",
            "  0.6474006  0.77031889 0.75186876 0.38089249 0.25733382 0.35272661\n",
            "  0.31370143 0.18453205 0.37519257 0.9375604  0.31552602 0.72011405\n",
            "  0.17050237 0.20442018 0.71403997 0.47131043 0.19050923 0.83449411\n",
            "  0.67799561 0.56944634 0.11924349 0.64531487 0.49090672 0.23488278\n",
            "  0.35891737 0.85756143 0.77728135 0.61263424 0.32686552 0.20035854\n",
            "  0.44853492 0.72193695 0.20714414 0.82103847]\n",
            " [0.37130325 0.72701678 0.75111873 0.58989036 0.81413007 0.32832527\n",
            "  0.4588994  0.79044912 0.14100277 0.14462635 0.20698535 0.73939072\n",
            "  0.62471335 0.06026508 0.52242518 0.30577922 0.45939081 0.5079856\n",
            "  0.77899848 0.69256396 0.46645252 0.17892865 0.25657704 0.33531602\n",
            "  0.44800712 0.79590787 0.21144368 0.36090165 0.03093695 0.31143745\n",
            "  0.35179184 0.6330667  0.84552047 0.32234929 0.41913312 0.54532485\n",
            "  0.25129519 0.69204418 0.28391425 0.50045406 0.70882754 0.80831063\n",
            "  0.53427227 0.67676065 0.50492175 0.29389371 0.06585924 0.46721599\n",
            "  0.57937515 0.78448624 0.47383119 0.69900343 0.44009369 0.77726253\n",
            "  0.42276858 0.         0.48777024 0.73634534 0.32107415 0.40675547\n",
            "  0.37386339 0.10504834 0.75108315 0.6448093  0.28134778 0.69353899\n",
            "  0.24912187 0.3475879  0.64708915 0.65126146 0.64108289 0.20334418\n",
            "  0.2421647  0.39582761 0.50725836 0.87712879 0.62941286 0.29932735\n",
            "  0.51329698 0.37210415 0.71502008 0.79549601 0.26970845 0.41695143\n",
            "  0.39510786 0.72394286 0.52831599 0.3788619  0.80647142 0.56857187\n",
            "  0.13937792 0.69886491 0.68310945 0.19627692 0.45294954 0.40542308\n",
            "  0.07927163 0.29922866 0.23484228 0.69288974]\n",
            " [0.44192331 0.91469853 0.54688601 0.8008853  0.54332302 0.4962013\n",
            "  0.22074692 0.86326418 0.4263364  0.62866853 0.49470219 0.33419634\n",
            "  0.3993321  0.52287582 0.16093981 0.44763613 0.6985023  0.90943946\n",
            "  0.62032331 0.25530097 0.93386175 0.57304498 0.28481524 0.29891245\n",
            "  0.37862398 0.83841546 0.32827174 0.7925646  0.51870494 0.6515848\n",
            "  0.54137923 0.60162824 0.44451817 0.36493614 0.21882893 0.17073059\n",
            "  0.31454012 0.32871543 0.2877448  0.62973426 0.42810786 0.54490972\n",
            "  0.22032599 0.91336368 0.98485328 0.74543552 0.43099601 0.23983374\n",
            "  0.31132073 0.62907505 0.92294271 0.37183812 0.05794017 0.64756803\n",
            "  0.76226188 0.48777024 0.         0.92923401 0.36022704 0.08329674\n",
            "  0.26363116 0.56278768 0.67569923 0.4689382  0.67490619 0.76785825\n",
            "  0.31519568 0.46629758 0.30574803 0.74078689 0.86072499 0.68878987\n",
            "  0.72082915 0.61573602 0.54940951 0.50762632 0.77422403 0.41509672\n",
            "  0.74207074 0.58486433 0.47047051 0.89380985 0.69966178 0.41360732\n",
            "  0.09341844 0.65353643 0.81587571 0.11900232 0.89086648 0.76092994\n",
            "  0.43405042 0.2717587  0.33747524 0.38759634 0.92211064 0.60982213\n",
            "  0.40980375 0.45179846 0.66214876 0.30211994]\n",
            " [1.08746475 0.01563787 0.62895183 0.14702674 0.73518426 0.45927971\n",
            "  1.060616   0.21184017 0.86445265 0.69647302 0.94300898 0.90408874\n",
            "  0.65616546 0.68275888 0.81551337 0.50680658 0.27747771 0.43520828\n",
            "  0.56793631 0.93419545 0.64213152 0.90033416 0.68957302 0.63616915\n",
            "  1.13038856 0.26210715 0.67342121 0.5205197  0.73301659 0.4338491\n",
            "  0.41686424 0.40448822 0.94452198 0.57436114 0.71255348 0.82624447\n",
            "  0.65786011 0.83079241 0.66788906 0.2996081  0.72661784 0.72296851\n",
            "  0.76716894 0.0895637  0.72784224 0.5780958  0.71454485 1.07774163\n",
            "  0.71133496 0.56392513 0.57011056 0.78532279 0.92553673 0.52584879\n",
            "  0.35353633 0.73634534 0.92923401 0.         0.57925417 0.86673941\n",
            "  0.66598002 0.81032265 0.44496502 0.59239969 0.49167628 0.22379287\n",
            "  0.91926627 1.07236    0.79494738 0.22098153 0.09765164 0.70433951\n",
            "  0.66707412 0.35080511 0.38781703 0.9078016  0.15885344 1.01481763\n",
            "  0.2233146  0.38055421 0.67983033 0.17027066 0.54247725 1.11797211\n",
            "  0.86613712 0.43892592 0.23521098 0.82966438 0.19518198 0.17638514\n",
            "  0.63086308 0.92113238 0.80602087 0.9048422  0.64714328 0.34730884\n",
            "  0.73664314 1.02472147 0.55352573 0.86745439]\n",
            " [0.55987513 0.56551146 0.43012041 0.44422252 0.49729776 0.13692454\n",
            "  0.48385388 0.55257486 0.38068792 0.40865597 0.47591685 0.47415909\n",
            "  0.30978958 0.31119322 0.29077822 0.09041667 0.33828075 0.5735288\n",
            "  0.46013491 0.45577833 0.64548125 0.49090527 0.12036809 0.06183059\n",
            "  0.57386137 0.54166882 0.1303591  0.48308993 0.34243357 0.31431794\n",
            "  0.18157584 0.33567187 0.56703754 0.0048947  0.16592217 0.31011459\n",
            "  0.09533506 0.41221382 0.0915168  0.28238441 0.39889254 0.49065503\n",
            "  0.27070487 0.55564901 0.7143113  0.45814778 0.2597639  0.50173242\n",
            "  0.28203615 0.46607979 0.6159629  0.40363807 0.34853066 0.462197\n",
            "  0.41348248 0.32107415 0.36022704 0.57925417 0.         0.29011113\n",
            "  0.10609151 0.42611028 0.44699616 0.32387308 0.35848231 0.45157161\n",
            "  0.37780385 0.5576596  0.36495339 0.41605737 0.50422376 0.46239674\n",
            "  0.4721109  0.25569555 0.23058857 0.58233037 0.43118343 0.49395415\n",
            "  0.38242968 0.22512822 0.39798326 0.57311986 0.40181272 0.57396928\n",
            "  0.28824633 0.41989617 0.45643764 0.25210516 0.57607854 0.40600417\n",
            "  0.18694946 0.45360445 0.396923   0.3944146  0.63690305 0.24961281\n",
            "  0.26323137 0.51619645 0.36975364 0.42650381]\n",
            " [0.40537496 0.85258997 0.53967257 0.73411286 0.55240765 0.42345781\n",
            "  0.22422425 0.81531764 0.35515738 0.54652075 0.4306675  0.37696641\n",
            "  0.38871529 0.44025396 0.16934848 0.37425171 0.6267018  0.82824588\n",
            "  0.60594034 0.30856451 0.85057111 0.50211415 0.20409981 0.2308452\n",
            "  0.36309784 0.79442476 0.24598548 0.70971645 0.43764752 0.57149892\n",
            "  0.46891352 0.56183466 0.48901845 0.29495947 0.17267714 0.18764265\n",
            "  0.23488401 0.35581272 0.21070311 0.56748358 0.43465456 0.55214317\n",
            "  0.21799602 0.84574535 0.90189202 0.66215967 0.34872312 0.24410949\n",
            "  0.30494421 0.6143273  0.83984798 0.38918277 0.05880395 0.62817343\n",
            "  0.68368915 0.40675547 0.08329674 0.86673941 0.29011113 0.\n",
            "  0.20345539 0.48552631 0.64678736 0.45090466 0.59273842 0.71738851\n",
            "  0.25559906 0.42392944 0.32350569 0.68741885 0.79411219 0.60671675\n",
            "  0.63803005 0.54337682 0.49511947 0.54346099 0.71450542 0.36701723\n",
            "  0.67224663 0.51207948 0.46949952 0.84285758 0.61661515 0.38814011\n",
            "  0.01338619 0.62289107 0.74195427 0.03864761 0.84182246 0.69532585\n",
            "  0.35098188 0.32109757 0.35889802 0.322556   0.83883599 0.53869753\n",
            "  0.3282258  0.40227285 0.57904592 0.33796628]\n",
            " [0.53801461 0.65155897 0.39971875 0.53753592 0.44693624 0.24154232\n",
            "  0.41714333 0.61328072 0.39672207 0.48396549 0.49062471 0.37971553\n",
            "  0.25848715 0.37918051 0.18538892 0.19638302 0.439373   0.67908431\n",
            "  0.44806248 0.35338141 0.74306627 0.5263621  0.12051983 0.04841725\n",
            "  0.53038509 0.59454449 0.16242611 0.58404453 0.40015366 0.41934461\n",
            "  0.28510618 0.36744782 0.47916554 0.11005991 0.06025892 0.20543539\n",
            "  0.12309765 0.32371343 0.09002705 0.36637676 0.33688862 0.44248218\n",
            "  0.17202288 0.65020357 0.80836816 0.5537302  0.30818885 0.43631758\n",
            "  0.20551672 0.45540226 0.71721366 0.32560263 0.26189079 0.46056423\n",
            "  0.51956408 0.37386339 0.26363116 0.66598002 0.10609151 0.20345539\n",
            "  0.         0.47561622 0.46400824 0.29645109 0.45982938 0.51461003\n",
            "  0.35791242 0.54351621 0.27722522 0.48405248 0.59729506 0.54126118\n",
            "  0.55762453 0.35817962 0.29178835 0.50447437 0.5120761  0.47981249\n",
            "  0.48054137 0.32847066 0.34965375 0.63980596 0.49927277 0.54048102\n",
            "  0.20509167 0.43830254 0.55935334 0.16895222 0.63932231 0.49736049\n",
            "  0.25789842 0.35292971 0.3120643  0.39442305 0.73372869 0.3504613\n",
            "  0.30234596 0.50780915 0.46529908 0.33192807]\n",
            " [0.35196232 0.8022444  0.85611377 0.66605006 0.91820926 0.42683128\n",
            "  0.49600447 0.88073365 0.15241636 0.13550047 0.16405937 0.83398625\n",
            "  0.72868529 0.13458762 0.61510548 0.40803092 0.53726009 0.53055092\n",
            "  0.88380333 0.78229069 0.44592164 0.09031456 0.35644898 0.43874786\n",
            "  0.44916728 0.88934529 0.31356615 0.37763043 0.08805955 0.37703163\n",
            "  0.44596098 0.7351272  0.94185089 0.4273973  0.51801295 0.63793598\n",
            "  0.35409253 0.7898174  0.38562573 0.59331642 0.81178428 0.9125606\n",
            "  0.63153189 0.74405858 0.46672855 0.30298714 0.16840773 0.5004312\n",
            "  0.68092938 0.88922555 0.4693901  0.7994626  0.51067442 0.88151429\n",
            "  0.4769234  0.10504834 0.56278768 0.81032265 0.42611028 0.48552631\n",
            "  0.47561622 0.         0.85366671 0.74979126 0.32978985 0.78595668\n",
            "  0.28199123 0.31966515 0.745683   0.74316853 0.71334161 0.1741431\n",
            "  0.22471002 0.48191842 0.60784128 0.97663592 0.71495571 0.28772242\n",
            "  0.58990442 0.46125988 0.81922664 0.88255493 0.29912038 0.40767577\n",
            "  0.47297692 0.82660202 0.59051246 0.4621009  0.89503199 0.64909519\n",
            "  0.24333636 0.79013713 0.78207816 0.21042014 0.43117664 0.49339058\n",
            "  0.17392725 0.2745923  0.272184   0.78822346]\n",
            " [0.99870215 0.43045608 0.19893642 0.41788217 0.29905335 0.43158621\n",
            "  0.87065406 0.2621806  0.82731743 0.7968811  0.92228082 0.51922799\n",
            "  0.2918486  0.72372274 0.5216578  0.44564128 0.44405629 0.74959782\n",
            "  0.12472334 0.57581911 0.91410993 0.92839704 0.55944822 0.46830707\n",
            "  0.99398436 0.21462227 0.57732905 0.74883724 0.76582257 0.57620698\n",
            "  0.42599051 0.11940787 0.52948736 0.44392138 0.47534686 0.52118244\n",
            "  0.54052275 0.45253123 0.52548229 0.31112129 0.32529778 0.28686369\n",
            "  0.46148722 0.4959149  0.99947997 0.76719799 0.69706977 0.8904457\n",
            "  0.37591456 0.11973631 0.85621821 0.39662326 0.69877738 0.08099401\n",
            "  0.59040611 0.75108315 0.67569923 0.44496502 0.44699616 0.64678736\n",
            "  0.46400824 0.85366671 0.         0.21535432 0.64957577 0.22234902\n",
            "  0.81655063 1.00045934 0.4320817  0.23897349 0.44927211 0.8360168\n",
            "  0.82397027 0.43085978 0.25000224 0.47841792 0.32041488 0.93643019\n",
            "  0.43209681 0.43237948 0.27005934 0.30904538 0.71042224 1.00422625\n",
            "  0.65295661 0.02723457 0.5301014  0.62055097 0.29190985 0.38410433\n",
            "  0.61184758 0.55710275 0.42771166 0.84056093 0.9121215  0.41345084\n",
            "  0.70544094 0.96093107 0.69597055 0.49538085]\n",
            " [0.83051235 0.57679976 0.10635207 0.51578882 0.18593507 0.37604847\n",
            "  0.67437508 0.45153261 0.68998175 0.72557287 0.78484117 0.31683716\n",
            "  0.07657247 0.63335264 0.31074027 0.36507137 0.48468373 0.78912014\n",
            "  0.15548625 0.36401441 0.91537176 0.81150048 0.41126501 0.31860338\n",
            "  0.80979784 0.41241099 0.44309584 0.74550052 0.66624977 0.56267015\n",
            "  0.39382439 0.18899933 0.35311653 0.322865   0.28807769 0.30813335\n",
            "  0.40232635 0.24564637 0.37720262 0.35142165 0.13484029 0.1766816\n",
            "  0.25019007 0.61795223 0.99412006 0.74230289 0.58251711 0.6943067\n",
            "  0.16172166 0.1636733  0.86995408 0.19477243 0.49824013 0.17868203\n",
            "  0.61828035 0.6448093  0.4689382  0.59239969 0.32387308 0.45090466\n",
            "  0.29645109 0.74979126 0.21535432 0.         0.62788332 0.37832498\n",
            "  0.65286167 0.83836992 0.21925166 0.371707   0.56424845 0.77526373\n",
            "  0.77664651 0.43472674 0.24644366 0.3266809  0.43985031 0.77502413\n",
            "  0.49712105 0.42071721 0.09639418 0.49332873 0.68326617 0.82710066\n",
            "  0.458979   0.19828635 0.59828145 0.43018346 0.48184124 0.47389859\n",
            "  0.51005927 0.34656446 0.2203646  0.69071507 0.90990487 0.41823643\n",
            "  0.58333143 0.8038418  0.65874389 0.28661306]\n",
            " [0.65264713 0.4855624  0.72407177 0.3545252  0.81371991 0.25349815\n",
            "  0.71160919 0.59879881 0.42219742 0.20593364 0.48108204 0.83202151\n",
            "  0.64169618 0.22115644 0.64427311 0.27803931 0.2376904  0.2392507\n",
            "  0.72006248 0.81307019 0.29046595 0.41963339 0.3908652  0.41147517\n",
            "  0.72543221 0.61976786 0.34675689 0.12461556 0.26673619 0.07404914\n",
            "  0.23533117 0.53426639 0.9211796  0.35577897 0.51973859 0.66498383\n",
            "  0.36334498 0.7680058  0.39485867 0.34276683 0.73457928 0.80456123\n",
            "  0.62902783 0.41879691 0.36641283 0.11788374 0.2910233  0.72349328\n",
            "  0.63421527 0.72260907 0.25755587 0.7530674  0.64234098 0.70194488\n",
            "  0.14721324 0.28134778 0.67490619 0.49167628 0.35848231 0.59273842\n",
            "  0.45982938 0.32978985 0.64957577 0.62788332 0.         0.51671591\n",
            "  0.51758279 0.62817733 0.72086996 0.4742199  0.39406206 0.21456063\n",
            "  0.18472779 0.21945448 0.40724386 0.9279162  0.42433373 0.58060179\n",
            "  0.28301784 0.21819048 0.71890863 0.58991662 0.06129107 0.69738001\n",
            "  0.58494879 0.62528428 0.26313617 0.55590621 0.60669728 0.34802861\n",
            "  0.24549712 0.8117321  0.75096049 0.47551545 0.2835709  0.23655823\n",
            "  0.31819284 0.57995766 0.06184946 0.78452129]\n",
            " [1.00405051 0.20892088 0.4060266  0.21133692 0.51185695 0.36993779\n",
            "  0.92958195 0.10118989 0.80012001 0.69897689 0.88957096 0.69453081\n",
            "  0.44753175 0.65139311 0.63512819 0.40606398 0.2819957  0.56074908\n",
            "  0.34432052 0.73360729 0.74585989 0.87088778 0.5715553  0.49730812\n",
            "  1.02526544 0.10422834 0.57051796 0.59208341 0.69973649 0.44408038\n",
            "  0.34177541 0.18978348 0.72650143 0.44704331 0.54960061 0.6420742\n",
            "  0.54371747 0.62226243 0.54277531 0.19309374 0.51020343 0.49962025\n",
            "  0.58089349 0.27498614 0.83335476 0.62766532 0.65367399 0.94826967\n",
            "  0.51309931 0.3405117  0.68094845 0.573069   0.77514869 0.30284462\n",
            "  0.4201199  0.69353899 0.76785825 0.22379287 0.45157161 0.71738851\n",
            "  0.51461003 0.78595668 0.22234902 0.37832498 0.51671591 0.\n",
            "  0.82458695 0.99679968 0.59045891 0.04317391 0.23154298 0.72511711\n",
            "  0.70109878 0.30819184 0.22369062 0.68608566 0.11024486 0.93467254\n",
            "  0.24978894 0.32523601 0.46085256 0.12595342 0.57709233 1.0232572\n",
            "  0.71962977 0.21516767 0.334286   0.68356187 0.12500522 0.18814176\n",
            "  0.56402844 0.71846156 0.59707577 0.82836095 0.74657697 0.29453057\n",
            "  0.66983582 0.95198181 0.57317204 0.6613923 ]\n",
            " [0.18251139 0.90753845 0.75347074 0.77364747 0.78592454 0.46438461\n",
            "  0.21452309 0.92573327 0.12978778 0.38845192 0.18013293 0.63235808\n",
            "  0.60577105 0.30555681 0.41915648 0.4213616  0.64668469 0.752323\n",
            "  0.80580401 0.56326394 0.71277972 0.26704789 0.25883062 0.34824888\n",
            "  0.21307896 0.91812959 0.25411226 0.6085712  0.27541073 0.52964409\n",
            "  0.50380416 0.71083098 0.74439198 0.38184485 0.36911469 0.43957974\n",
            "  0.28277494 0.60696218 0.29186531 0.64187853 0.6690909  0.78369491\n",
            "  0.45744113 0.87432585 0.74397283 0.54294624 0.22669963 0.22042225\n",
            "  0.53318453 0.81322539 0.72287703 0.63406186 0.25766445 0.81816744\n",
            "  0.6474006  0.24912187 0.31519568 0.91926627 0.37780385 0.25559906\n",
            "  0.35791242 0.28199123 0.81655063 0.65286167 0.51758279 0.82458695\n",
            "  0.         0.18562984 0.57055646 0.78651973 0.83072846 0.44265031\n",
            "  0.48702606 0.56870441 0.60755295 0.79642816 0.78759082 0.12217592\n",
            "  0.69995383 0.53871208 0.69440001 0.94196358 0.51559376 0.19979397\n",
            "  0.24230951 0.79003497 0.73897151 0.25019744 0.94744286 0.74339258\n",
            "  0.29358887 0.57649064 0.6071075  0.0766075  0.6988325  0.57207109\n",
            "  0.1997021  0.15277622 0.47910481 0.59234103]\n",
            " [0.04060751 1.06178696 0.93849519 0.92537156 0.96784322 0.62951021\n",
            "  0.28667255 1.09745873 0.20944184 0.45346658 0.15574808 0.79744311\n",
            "  0.79006707 0.4073311  0.59268067 0.5907574  0.79538121 0.84618881\n",
            "  0.99143342 0.72147692 0.7620282  0.25227596 0.44117926 0.53242272\n",
            "  0.15847986 1.09327532 0.4295004  0.69430618 0.36190993 0.65763145\n",
            "  0.66485648 0.89278181 0.90900404 0.5614017  0.55349232 0.61154039\n",
            "  0.46237906 0.7797381  0.4749909  0.80908758 0.85040904 0.96610895\n",
            "  0.63599798 1.01885997 0.77256126 0.62094389 0.35803821 0.27862289\n",
            "  0.71531548 0.99885406 0.78887225 0.81126073 0.40936397 1.00359409\n",
            "  0.77031889 0.3475879  0.46629758 1.07236    0.5576596  0.42392944\n",
            "  0.54351621 0.31966515 1.00045934 0.83836992 0.62817733 0.99679968\n",
            "  0.18562984 0.         0.74636142 0.95722299 0.9797095  0.49308852\n",
            "  0.54419553 0.72307788 0.7847098  0.96689972 0.9506854  0.06403562\n",
            "  0.84954221 0.69511365 0.87790842 1.11033565 0.60965083 0.1038577\n",
            "  0.41140585 0.97377457 0.87392788 0.42656121 1.1176034  0.89916665\n",
            "  0.4423624  0.73724758 0.78225564 0.16907806 0.74701969 0.7291097\n",
            "  0.33578386 0.04840303 0.57778833 0.76078814]\n",
            " [0.72884085 0.77933246 0.26120546 0.69936427 0.23844474 0.47569533\n",
            "  0.52623349 0.66909301 0.64599994 0.76118971 0.73348815 0.11551706\n",
            "  0.14423144 0.65607077 0.15417105 0.44330594 0.63895698 0.92068326\n",
            "  0.3444088  0.14481326 1.00977118 0.78644255 0.39051943 0.32260572\n",
            "  0.68051477 0.63130545 0.43692324 0.84521096 0.67466492 0.66920016\n",
            "  0.50967187 0.40132578 0.20255674 0.36698679 0.2279714  0.13750891\n",
            "  0.39938647 0.04726181 0.3649515  0.52261375 0.12773074 0.24097325\n",
            "  0.11570689 0.80839078 1.07926226 0.82308402 0.5812575  0.54548\n",
            "  0.09066243 0.35341791 0.97713432 0.06636802 0.35191971 0.38115875\n",
            "  0.75186876 0.64708915 0.30574803 0.79494738 0.36495339 0.32350569\n",
            "  0.27722522 0.745683   0.4320817  0.21925166 0.72086996 0.59045891\n",
            "  0.57055646 0.74636142 0.         0.57800299 0.75349442 0.81838628\n",
            "  0.83345231 0.57082474 0.41732086 0.2315005  0.63752204 0.68765751\n",
            "  0.66471539 0.54770196 0.17879707 0.70949676 0.766485   0.71009198\n",
            "  0.33553274 0.4168743  0.76022614 0.32075709 0.69925257 0.6563651\n",
            "  0.53508066 0.12817536 0.03698227 0.62783457 1.00149465 0.55745611\n",
            "  0.57190168 0.72171242 0.73470688 0.07297499]\n",
            " [0.96520819 0.20544395 0.41054882 0.18119149 0.51729434 0.3290462\n",
            "  0.89678791 0.14046147 0.75928403 0.65580538 0.84819167 0.6851463\n",
            "  0.43713904 0.60863122 0.61293124 0.36658024 0.2406358  0.52595248\n",
            "  0.35595628 0.71948692 0.70740214 0.82834704 0.53542305 0.46409735\n",
            "  0.98887454 0.14740185 0.53242602 0.55171889 0.65710836 0.40137309\n",
            "  0.29965335 0.18350688 0.7235442  0.41143092 0.52200038 0.62116474\n",
            "  0.50688436 0.61215471 0.5075306  0.1509131  0.50570483 0.50516399\n",
            "  0.56049769 0.25876004 0.79473696 0.58581735 0.61224209 0.91525698\n",
            "  0.49731363 0.35314452 0.6435241  0.56531792 0.74559817 0.31720559\n",
            "  0.38089249 0.65126146 0.74078689 0.22098153 0.41605737 0.68741885\n",
            "  0.48405248 0.74316853 0.23897349 0.371707   0.4742199  0.04317391\n",
            "  0.78651973 0.95722299 0.57800299 0.         0.21048918 0.68211481\n",
            "  0.65844929 0.265018   0.19230294 0.68765418 0.08156042 0.89539533\n",
            "  0.21136661 0.28224585 0.45893904 0.1571144  0.53475076 0.9856256\n",
            "  0.6890802  0.2271897  0.30048549 0.652789   0.1609247  0.15273231\n",
            "  0.5226734  0.7053189  0.58718145 0.78853455 0.70771705 0.25139437\n",
            "  0.62884043 0.91208867 0.53035357 0.64992531]\n",
            " [0.99599363 0.09206702 0.61618027 0.06000304 0.72296388 0.37711903\n",
            "  0.98017111 0.26025575 0.77108947 0.59882975 0.84798882 0.8660752\n",
            "  0.62085146 0.58670335 0.75752851 0.42594741 0.18463698 0.35458051\n",
            "  0.56590887 0.88786578 0.55686115 0.80345213 0.60919659 0.56348839\n",
            "  1.04290229 0.30273197 0.58927874 0.42704346 0.63688787 0.33655531\n",
            "  0.33293012 0.3840192  0.91687617 0.49934893 0.64774878 0.77022892\n",
            "  0.57694666 0.79257244 0.59000487 0.23624262 0.69892147 0.71099627\n",
            "  0.71327144 0.05497591 0.64371631 0.48224183 0.62167176 0.99672748\n",
            "  0.66628693 0.56334719 0.48625583 0.75159631 0.85267323 0.52767467\n",
            "  0.25733382 0.64108289 0.86072499 0.09765164 0.50422376 0.79411219\n",
            "  0.59729506 0.71334161 0.44927211 0.56424845 0.39406206 0.23154298\n",
            "  0.83072846 0.9797095  0.75349442 0.21048918 0.         0.60699115\n",
            "  0.57032926 0.26278515 0.33689082 0.88808555 0.12989758 0.92310531\n",
            "  0.13083784 0.2937291  0.6568109  0.2305156  0.44532019 1.02840286\n",
            "  0.79246906 0.43755786 0.14078795 0.75628349 0.25359973 0.100536\n",
            "  0.5397979  0.87661956 0.7685267  0.81307494 0.56074436 0.2618772\n",
            "  0.64448134 0.93183208 0.45591062 0.82646885]\n",
            " [0.52601398 0.69886643 0.87866569 0.56901533 0.95610544 0.40893082\n",
            "  0.65646591 0.81083208 0.31776758 0.06025198 0.33735012 0.91905131\n",
            "  0.7712173  0.16801445 0.70814665 0.41059405 0.45064402 0.36886986\n",
            "  0.88975706 0.88059599 0.27275043 0.24834286 0.4358331  0.49609894\n",
            "  0.62227247 0.82904364 0.38679255 0.21734695 0.1729181  0.2826621\n",
            "  0.41003524 0.7172171  1.02041329 0.46180928 0.59444026 0.73081748\n",
            "  0.42076746 0.86497244 0.4558315  0.54189973 0.86120889 0.9485757\n",
            "  0.71098052 0.62803354 0.30244536 0.1420628  0.25802211 0.66306302\n",
            "  0.74152094 0.89367176 0.29590786 0.86340942 0.64261194 0.87855408\n",
            "  0.35272661 0.20334418 0.68878987 0.70433951 0.46239674 0.60671675\n",
            "  0.54126118 0.1741431  0.8360168  0.77526373 0.21456063 0.72511711\n",
            "  0.44265031 0.49308852 0.81838628 0.68211481 0.60699115 0.\n",
            "  0.05197885 0.4190033  0.58648361 1.04275193 0.63714262 0.46159795\n",
            "  0.49739885 0.40853618 0.85734529 0.80369866 0.1622452  0.58172187\n",
            "  0.59557648 0.81016966 0.47187386 0.57658882 0.81991348 0.56206804\n",
            "  0.2833773  0.88465277 0.85276537 0.37734657 0.25824309 0.43444614\n",
            "  0.27920609 0.44858314 0.15380479 0.87154767]\n",
            " [0.57664147 0.66239453 0.87827831 0.53556368 0.95976191 0.40403293\n",
            "  0.6997087  0.78343901 0.36459475 0.09859993 0.38845645 0.93714504\n",
            "  0.77771858 0.19813883 0.73021512 0.41194649 0.42231137 0.31802935\n",
            "  0.88433261 0.90294662 0.22581408 0.30031495 0.45836669 0.5110198\n",
            "  0.67119106 0.80436033 0.4091508  0.16784575 0.21306047 0.25709593\n",
            "  0.39937938 0.70622226 1.03597467 0.47099568 0.61301832 0.7526302\n",
            "  0.44026083 0.88042455 0.47532913 0.52310436 0.86898274 0.95171751\n",
            "  0.72901431 0.58834378 0.26441054 0.09409098 0.29061331 0.70707985\n",
            "  0.75367587 0.88776875 0.24469496 0.87551081 0.67678671 0.87055556\n",
            "  0.31370143 0.2421647  0.72082915 0.66707412 0.4721109  0.63803005\n",
            "  0.55762453 0.22471002 0.82397027 0.77664651 0.18472779 0.70109878\n",
            "  0.48702606 0.54419553 0.83345231 0.65844929 0.57032926 0.05197885\n",
            "  0.         0.39926756 0.57622162 1.05441394 0.60884979 0.51134897\n",
            "  0.46631662 0.39247155 0.86177246 0.77371933 0.1263479  0.63165131\n",
            "  0.62741138 0.79870427 0.43280562 0.60629629 0.79092647 0.53180519\n",
            "  0.30199706 0.90582489 0.86696484 0.42414185 0.21180649 0.41558665\n",
            "  0.31397011 0.49929896 0.12912379 0.88941391]\n",
            " [0.73710727 0.33949124 0.52198745 0.20498177 0.61894038 0.11991903\n",
            "  0.71946732 0.39963818 0.51675374 0.39082422 0.59954372 0.68623781\n",
            "  0.46463146 0.34824712 0.5354912  0.16921008 0.08350443 0.3557027\n",
            "  0.50798324 0.68751223 0.48925467 0.569176   0.35002574 0.3174119\n",
            "  0.78042517 0.41241838 0.32709334 0.32074772 0.3978865  0.14561254\n",
            "  0.07447729 0.31745481 0.76033934 0.25106685 0.41494576 0.55209493\n",
            "  0.31746846 0.61578772 0.33424365 0.12386596 0.555728   0.6087198\n",
            "  0.50240489 0.30939998 0.57247113 0.33659551 0.36657571 0.73560346\n",
            "  0.4802078  0.50973667 0.43804132 0.58865393 0.60096863 0.48646748\n",
            "  0.18453205 0.39582761 0.61573602 0.35080511 0.25569555 0.54337682\n",
            "  0.35817962 0.48191842 0.43085978 0.43472674 0.21945448 0.30819184\n",
            "  0.56870441 0.72307788 0.57082474 0.265018   0.26278515 0.4190033\n",
            "  0.39926756 0.         0.19585556 0.75303069 0.23372871 0.66467049\n",
            "  0.13303277 0.03165179 0.53011193 0.40075793 0.28066142 0.76718655\n",
            "  0.54020445 0.40708099 0.20117432 0.50486682 0.41315716 0.17610611\n",
            "  0.28078296 0.68086775 0.59492135 0.55484796 0.48576531 0.01761649\n",
            "  0.38742608 0.67582449 0.27014648 0.6411849 ]\n",
            " [0.78895771 0.37256785 0.32714338 0.28204981 0.42670458 0.18230921\n",
            "  0.70589482 0.32377633 0.59667225 0.54688312 0.68971023 0.53097063\n",
            "  0.29023975 0.47600417 0.42792336 0.20257083 0.23833116 0.54495313\n",
            "  0.31326993 0.55105787 0.68480943 0.68594848 0.35094437 0.2737258\n",
            "  0.80403345 0.31108075 0.35527893 0.51571316 0.51978221 0.3359363\n",
            "  0.17692894 0.13079767 0.58976275 0.2262931  0.33061135 0.43842744\n",
            "  0.32486064 0.45769172 0.3208187  0.1069853  0.3757688  0.41602744\n",
            "  0.37953    0.39186551 0.76731808 0.52502605 0.45760939 0.72457997\n",
            "  0.32945874 0.31553451 0.63374431 0.42036536 0.55330117 0.29508149\n",
            "  0.37519257 0.50725836 0.54940951 0.38781703 0.23058857 0.49511947\n",
            "  0.29178835 0.60784128 0.25000224 0.24644366 0.40724386 0.22369062\n",
            "  0.60755295 0.7847098  0.41732086 0.19230294 0.33689082 0.58648361\n",
            "  0.57622162 0.19585556 0.         0.57184423 0.22923803 0.72152507\n",
            "  0.25258083 0.18946137 0.34283699 0.34821019 0.46693333 0.80449843\n",
            "  0.49685709 0.22382484 0.35272785 0.46061519 0.34869183 0.23904722\n",
            "  0.36950607 0.53973481 0.43421766 0.61836793 0.68097831 0.17843978\n",
            "  0.46940469 0.74161414 0.44948769 0.49025759]\n",
            " [0.94617773 0.89243479 0.28116826 0.84146477 0.18050271 0.67555851\n",
            "  0.72449437 0.7403573  0.87684715 0.98681311 0.96319272 0.1753882\n",
            "  0.28888971 0.88334535 0.37738176 0.65117275 0.80904867 1.10871345\n",
            "  0.35636151 0.26257727 1.21838061 1.01788004 0.62070005 0.54738163\n",
            "  0.88564143 0.69292548 0.66611911 1.05036995 0.90417156 0.86937966\n",
            "  0.70245864 0.50534607 0.08325064 0.58355772 0.458623   0.35688269\n",
            "  0.62752716 0.19020349 0.59372785 0.67774564 0.19736116 0.19241395\n",
            "  0.34700624 0.94094891 1.29209367 1.03604941 0.81127132 0.74239202\n",
            "  0.30123099 0.3632251  1.1795146  0.17937745 0.5611278  0.40208725\n",
            "  0.9375604  0.87712879 0.50762632 0.9078016  0.58233037 0.54346099\n",
            "  0.50447437 0.97663592 0.47841792 0.3266809  0.9279162  0.68608566\n",
            "  0.79642816 0.96689972 0.2315005  0.68765418 0.88808555 1.04275193\n",
            "  1.05441394 0.75303069 0.57184423 0.         0.761097   0.91046675\n",
            "  0.82358803 0.73509172 0.23162044 0.78669069 0.97801642 0.92108252\n",
            "  0.55629713 0.47607235 0.92444749 0.54642933 0.77024342 0.79995208\n",
            "  0.76061607 0.24180423 0.19475603 0.85669679 1.21128131 0.737457\n",
            "  0.80274007 0.94554262 0.94865515 0.20637175]\n",
            " [0.96201967 0.14347644 0.48709207 0.10123988 0.59393813 0.32323714\n",
            "  0.91498037 0.17482151 0.74711484 0.61682992 0.83207377 0.74783966\n",
            "  0.50048379 0.58176066 0.65714243 0.36725511 0.18668239 0.45089691\n",
            "  0.43604237 0.77586485 0.63894205 0.80270374 0.54626079 0.48534345\n",
            "  0.99523342 0.20217241 0.53589147 0.48937521 0.63153203 0.35452971\n",
            "  0.28583818 0.25588816 0.79296059 0.42633797 0.55641266 0.66759293\n",
            "  0.5156413  0.67438073 0.52178949 0.14889357 0.57467071 0.58191311\n",
            "  0.60837256 0.18040898 0.72657004 0.53034984 0.59747399 0.93272817\n",
            "  0.55303299 0.43355013 0.57282644 0.63055383 0.77326111 0.39814195\n",
            "  0.31552602 0.62941286 0.77422403 0.15885344 0.43118343 0.71450542\n",
            "  0.5120761  0.71495571 0.32041488 0.43985031 0.42433373 0.11024486\n",
            "  0.78759082 0.9506854  0.63752204 0.08156042 0.12989758 0.63714262\n",
            "  0.60884979 0.23372871 0.22923803 0.761097   0.         0.89056609\n",
            "  0.1457157  0.25797184 0.53054679 0.16804972 0.483041   0.98737565\n",
            "  0.71469701 0.30790404 0.22429693 0.67815962 0.18286097 0.08068167\n",
            "  0.50949309 0.76312215 0.64982217 0.78166475 0.64027555 0.22422849\n",
            "  0.61675685 0.90419824 0.48350379 0.71024053]\n",
            " [0.07312832 1.00393997 0.87558946 0.86799002 0.9066566  0.56849713\n",
            "  0.25507149 1.0354807  0.15840987 0.4168634  0.13195682 0.74282447\n",
            "  0.72762272 0.35958878 0.53461709 0.52881592 0.73851738 0.80455115\n",
            "  0.9278207  0.66914648 0.73363075 0.2349082  0.37718797 0.46838945\n",
            "  0.16280428 1.03058199 0.36624636 0.65425861 0.31716299 0.60557835\n",
            "  0.60479043 0.82890738 0.85472074 0.49773598 0.4909572  0.55408181\n",
            "  0.39863913 0.72223869 0.41096905 0.74789603 0.78946927 0.90468287\n",
            "  0.57609553 0.96346992 0.75092127 0.5826192  0.30233197 0.25105293\n",
            "  0.65395203 0.93520295 0.75538051 0.75205676 0.35741303 0.93971206\n",
            "  0.72011405 0.29932735 0.41509672 1.01481763 0.49395415 0.36701723\n",
            "  0.47981249 0.28772242 0.93643019 0.77502413 0.58060179 0.93467254\n",
            "  0.12217592 0.06403562 0.68765751 0.89539533 0.92310531 0.46159795\n",
            "  0.51134897 0.66467049 0.72152507 0.91046675 0.89056609 0.\n",
            "  0.79256799 0.63616649 0.81591178 1.04910836 0.56655484 0.12040323\n",
            "  0.35417515 0.90975168 0.82079905 0.36705473 1.05597723 0.84074224\n",
            "  0.3839919  0.684062   0.72384358 0.11003162 0.71886137 0.67009082\n",
            "  0.27867907 0.03714512 0.53310888 0.70488111]\n",
            " [0.86539724 0.21372009 0.56724153 0.07660069 0.67141154 0.2504998\n",
            "  0.85231688 0.31992287 0.64130282 0.48212378 0.71980041 0.77967338\n",
            "  0.54257224 0.46049544 0.64998396 0.2998569  0.05419726 0.31798467\n",
            "  0.53332175 0.79164923 0.49619729 0.67947133 0.48224958 0.44322759\n",
            "  0.91224851 0.34733882 0.46012609 0.34377623 0.51079671 0.21721449\n",
            "  0.20540045 0.33870563 0.84218505 0.37763245 0.53432822 0.66464986\n",
            "  0.4497738  0.70699711 0.46499077 0.14590108 0.62816651 0.66008731\n",
            "  0.61074197 0.17638479 0.58363243 0.38547428 0.49155803 0.86854132\n",
            "  0.57485966 0.53281607 0.43222206 0.67218088 0.73036467 0.50216073\n",
            "  0.17050237 0.51329698 0.74207074 0.2233146  0.38242968 0.67224663\n",
            "  0.48054137 0.58990442 0.43209681 0.49712105 0.28301784 0.24978894\n",
            "  0.69995383 0.84954221 0.66471539 0.21136661 0.13083784 0.49739885\n",
            "  0.46631662 0.13303277 0.25258083 0.82358803 0.1457157  0.79256799\n",
            "  0.         0.16445445 0.59316325 0.30745498 0.34002476 0.89756564\n",
            "  0.66976038 0.41364863 0.10195022 0.63397754 0.3252082  0.06589951\n",
            "  0.40903953 0.78257501 0.68422329 0.68253859 0.49679386 0.13427981\n",
            "  0.51404529 0.80178092 0.34371446 0.73711965]\n",
            " [0.70839102 0.36890827 0.51158335 0.23545761 0.6060548  0.08871651\n",
            "  0.68791384 0.41953803 0.48980896 0.37654214 0.57410367 0.66287301\n",
            "  0.44622932 0.32689383 0.50732846 0.13783376 0.11509175 0.37466361\n",
            "  0.50269902 0.66154802 0.49705294 0.54736078 0.31837432 0.28693157\n",
            "  0.75005868 0.42913719 0.29575301 0.32735533 0.37591247 0.14648265\n",
            "  0.04355245 0.31619302 0.73961664 0.22055809 0.38584639 0.52436811\n",
            "  0.2858183  0.59318115 0.30271846 0.13466858 0.53815275 0.59616881\n",
            "  0.47585113 0.34083848 0.57853463 0.33607309 0.33984444 0.7040951\n",
            "  0.45728845 0.50499474 0.44931959 0.56808767 0.5695758  0.48378399\n",
            "  0.20442018 0.37210415 0.58486433 0.38055421 0.22512822 0.51207948\n",
            "  0.32847066 0.46125988 0.43237948 0.42071721 0.21819048 0.32523601\n",
            "  0.53871208 0.69511365 0.54770196 0.28224585 0.2937291  0.40853618\n",
            "  0.39247155 0.03165179 0.18946137 0.73509172 0.25797184 0.63616649\n",
            "  0.16445445 0.         0.51510615 0.42339322 0.2784883  0.73754311\n",
            "  0.50879997 0.4076674  0.23131361 0.47354138 0.4345999  0.2049317\n",
            "  0.25281245 0.65550124 0.57286865 0.52653396 0.49264251 0.03402245\n",
            "  0.35988706 0.64810208 0.26385675 0.61732497]\n",
            " [0.86595134 0.66433322 0.08274144 0.60984606 0.0993359  0.46574533\n",
            "  0.68662511 0.52475878 0.74608146 0.80551061 0.83936204 0.25023178\n",
            "  0.09121147 0.70912229 0.30990696 0.4500964  0.58106989 0.88501409\n",
            "  0.16777395 0.31445341 1.00773265 0.87505566 0.46957703 0.38105773\n",
            "  0.83259717 0.48115437 0.50709179 0.83808518 0.73846247 0.65536106\n",
            "  0.48649932 0.27559715 0.26568002 0.39780322 0.32559105 0.30038581\n",
            "  0.46610801 0.18765787 0.43706518 0.44760286 0.05618128 0.09335398\n",
            "  0.25302196 0.70994749 1.0853133  0.83189185 0.65084927 0.70637718\n",
            "  0.16469395 0.17668575 0.96384431 0.12966661 0.50903715 0.20793059\n",
            "  0.71403997 0.71502008 0.47047051 0.67983033 0.39798326 0.46949952\n",
            "  0.34965375 0.81922664 0.27005934 0.09639418 0.71890863 0.46085256\n",
            "  0.69440001 0.87790842 0.17879707 0.45893904 0.6568109  0.85734529\n",
            "  0.86177246 0.53011193 0.34283699 0.23162044 0.53054679 0.81591178\n",
            "  0.59316325 0.51510615 0.         0.56910225 0.77296902 0.85576407\n",
            "  0.47956497 0.26074106 0.69447129 0.45596782 0.55511629 0.56834931\n",
            "  0.58471584 0.29400838 0.16431207 0.74011078 1.00184897 0.51380232\n",
            "  0.64858771 0.84707012 0.74697311 0.23132689]\n",
            " [1.11955879 0.16096486 0.50578878 0.24299541 0.60799348 0.48083676\n",
            "  1.05366397 0.04805566 0.90959073 0.78464637 0.99641966 0.81005837\n",
            "  0.56552387 0.74900276 0.76026587 0.52093347 0.35318244 0.58490453\n",
            "  0.43342743 0.85363837 0.78487453 0.96991925 0.69229629 0.62101134\n",
            "  1.14550938 0.10018221 0.68808294 0.64559604 0.79857264 0.52148088\n",
            "  0.44739774 0.30862482 0.8337537  0.56847947 0.67550755 0.76670149\n",
            "  0.6634773  0.73888818 0.66461037 0.3012511  0.62121751 0.59577986\n",
            "  0.70537133 0.25177633 0.87217847 0.69223889 0.76088767 1.07219396\n",
            "  0.63509491 0.4278227  0.71528141 0.68743157 0.90075278 0.38847936\n",
            "  0.47131043 0.79549601 0.89380985 0.17027066 0.57311986 0.84285758\n",
            "  0.63980596 0.88255493 0.30904538 0.49332873 0.58991662 0.12595342\n",
            "  0.94196358 1.11033565 0.70949676 0.1571144  0.2305156  0.80369866\n",
            "  0.77371933 0.40075793 0.34821019 0.78669069 0.16804972 1.04910836\n",
            "  0.30745498 0.42339322 0.56910225 0.         0.64746322 1.14139416\n",
            "  0.84489352 0.31089075 0.36466504 0.80872696 0.02491379 0.24193819\n",
            "  0.67195667 0.83766994 0.71360877 0.94133267 0.78794399 0.39017548\n",
            "  0.77896449 1.06459783 0.64990196 0.77921313]\n",
            " [0.63703096 0.53731656 0.78098079 0.40934877 0.86876645 0.30737806\n",
            "  0.71784761 0.6577747  0.40950032 0.16657066 0.45793024 0.87582818\n",
            "  0.693719   0.21062575 0.68146646 0.3268501  0.2968052  0.23834862\n",
            "  0.7792027  0.85227635 0.2439082  0.38663718 0.41936943 0.45092164\n",
            "  0.71771283 0.6798267  0.37257796 0.09481975 0.24940751 0.13534017\n",
            "  0.29311747 0.59468103 0.96800841 0.39959114 0.55832016 0.70282671\n",
            "  0.39449066 0.81373763 0.42777592 0.40405073 0.78641867 0.8598724\n",
            "  0.6704554  0.46579978 0.3140773  0.05904598 0.29311023 0.72833424\n",
            "  0.6814959  0.78193032 0.22333854 0.80163155 0.66314644 0.76190553\n",
            "  0.19050923 0.26970845 0.69966178 0.54247725 0.40181272 0.61661515\n",
            "  0.49927277 0.29912038 0.71042224 0.68326617 0.06129107 0.57709233\n",
            "  0.51559376 0.60965083 0.766485   0.53475076 0.44532019 0.1622452\n",
            "  0.1263479  0.28066142 0.46693333 0.97801642 0.483041   0.56655484\n",
            "  0.34002476 0.2784883  0.77296902 0.64746322 0.         0.68559111\n",
            "  0.60783409 0.68598618 0.30962909 0.58107249 0.66483052 0.40559107\n",
            "  0.2656333  0.85220122 0.79767528 0.4659415  0.23509177 0.29770207\n",
            "  0.32015618 0.56207881 0.03800386 0.82810531]\n",
            " [0.06332696 1.10644967 0.92235442 0.97190305 0.94047423 0.66415569\n",
            "  0.20829405 1.1244441  0.27618905 0.53725533 0.24810756 0.74773605\n",
            "  0.77163165 0.47711931 0.55630788 0.62106323 0.84393981 0.92382651\n",
            "  0.98228152 0.66674131 0.85340325 0.34941399 0.45375196 0.53863556\n",
            "  0.05624653 1.1155253  0.45331421 0.77408188 0.43626711 0.71848746\n",
            "  0.70329611 0.90282089 0.8574747  0.57821781 0.53902504 0.57275751\n",
            "  0.47992904 0.73885653 0.48519369 0.84159277 0.82266694 0.94002515\n",
            "  0.6059862  1.0708201  0.8686746  0.70279786 0.4131392  0.195606\n",
            "  0.69114483 0.99019593 0.87576955 0.77623514 0.36041487 0.99896516\n",
            "  0.83449411 0.41695143 0.41360732 1.11797211 0.57396928 0.38814011\n",
            "  0.54048102 0.40767577 1.00422625 0.82710066 0.69738001 1.0232572\n",
            "  0.19979397 0.1038577  0.71009198 0.9856256  1.02840286 0.58172187\n",
            "  0.63165131 0.76718655 0.80449843 0.92108252 0.98737565 0.12040323\n",
            "  0.89756564 0.73754311 0.85576407 1.14139416 0.68559111 0.\n",
            "  0.37713882 0.97825883 0.93177446 0.39995658 1.14653678 0.94241595\n",
            "  0.48903341 0.68442602 0.7445251  0.22205578 0.83857709 0.77108086\n",
            "  0.38778946 0.13669566 0.65157329 0.71510213]\n",
            " [0.39331982 0.85209302 0.54892787 0.73246722 0.56334332 0.42032791\n",
            "  0.21770006 0.81798218 0.34194924 0.53541954 0.41728212 0.39016787\n",
            "  0.397888   0.42947476 0.18146977 0.37099501 0.62363095 0.82109823\n",
            "  0.61422124 0.32195062 0.84084304 0.48892752 0.19790473 0.22996806\n",
            "  0.35324047 0.79786863 0.23838983 0.70120353 0.42602249 0.56510451\n",
            "  0.46580337 0.56632021 0.50221922 0.29312021 0.17792242 0.20014753\n",
            "  0.22923745 0.36836272 0.20653583 0.56721292 0.44552869 0.56290656\n",
            "  0.2288527  0.84378957 0.89144416 0.65279051 0.33768124 0.23749105\n",
            "  0.31489727 0.62255017 0.8309483  0.40104056 0.06079184 0.63575732\n",
            "  0.67799561 0.39510786 0.09341844 0.86613712 0.28824633 0.01338619\n",
            "  0.20509167 0.47297692 0.65295661 0.458979   0.58494879 0.71962977\n",
            "  0.24230951 0.41140585 0.33553274 0.6890802  0.79246906 0.59557648\n",
            "  0.62741138 0.54020445 0.49685709 0.55629713 0.71469701 0.35417515\n",
            "  0.66976038 0.50879997 0.47956497 0.84489352 0.60783409 0.37713882\n",
            "  0.         0.62881989 0.73808349 0.03653753 0.84424804 0.69403329\n",
            "  0.34226272 0.33445807 0.37109648 0.30917093 0.82900321 0.53593738\n",
            "  0.3167963  0.38931848 0.57017303 0.35096213]\n",
            " [0.97226392 0.42408815 0.19496793 0.403359   0.29862971 0.40501808\n",
            "  0.84650402 0.2652444  0.8001497  0.77058836 0.89509375 0.50776001\n",
            "  0.27478942 0.69682541 0.50089748 0.41857111 0.42326942 0.73033787\n",
            "  0.12934626 0.56127475 0.8920113  0.90120185 0.5326876  0.44179002\n",
            "  0.96851852 0.22044822 0.55024165 0.7260223  0.73878293 0.55214084\n",
            "  0.40022958 0.09303434 0.52353921 0.41679864 0.45101584 0.50123251\n",
            "  0.51354515 0.43957572 0.49878367 0.28873073 0.3148781  0.28637133\n",
            "  0.44101918 0.48568841 0.97703998 0.74302826 0.66984764 0.86625947\n",
            "  0.35696981 0.12606798 0.83497539 0.38472637 0.67543389 0.09035745\n",
            "  0.56944634 0.72394286 0.65353643 0.43892592 0.41989617 0.62289107\n",
            "  0.43830254 0.82660202 0.02723457 0.19828635 0.62528428 0.21516767\n",
            "  0.79003497 0.97377457 0.4168743  0.2271897  0.43755786 0.81016966\n",
            "  0.79870427 0.40708099 0.22382484 0.47607235 0.30790404 0.90975168\n",
            "  0.41364863 0.4076674  0.26074106 0.31089075 0.68598618 0.97825883\n",
            "  0.62881989 0.         0.51278782 0.59608817 0.2954472  0.36810939\n",
            "  0.58468771 0.54309784 0.41452848 0.81359623 0.88976005 0.38959424\n",
            "  0.67820714 0.93410067 0.67095626 0.48193749]\n",
            " [0.89390292 0.23194508 0.66918327 0.12533601 0.7733351  0.31975661\n",
            "  0.90747606 0.38759431 0.66455183 0.46901922 0.73435057 0.87558343\n",
            "  0.64173178 0.47069186 0.73549224 0.3682722  0.12232563 0.22662686\n",
            "  0.63420454 0.88336045 0.42039651 0.68077986 0.54391489 0.51824506\n",
            "  0.95196016 0.42322145 0.51475465 0.28626633 0.5198662  0.21689727\n",
            "  0.2748652  0.44013648 0.94124367 0.45187167 0.61591152 0.75148314\n",
            "  0.51141139 0.80345184 0.53154788 0.24686993 0.72847692 0.76202403\n",
            "  0.69996451 0.15622596 0.50785131 0.34298799 0.5190162  0.9225016\n",
            "  0.6698448  0.6334591  0.35169017 0.77056321 0.7988569  0.60201437\n",
            "  0.11924349 0.52831599 0.81587571 0.23521098 0.45643764 0.74195427\n",
            "  0.55935334 0.59051246 0.5301014  0.59828145 0.26313617 0.334286\n",
            "  0.73897151 0.87392788 0.76022614 0.30048549 0.14078795 0.47187386\n",
            "  0.43280562 0.20117432 0.35272785 0.92444749 0.22429693 0.82079905\n",
            "  0.10195022 0.23131361 0.69447129 0.36466504 0.30962909 0.93177446\n",
            "  0.73808349 0.51278782 0.         0.70332577 0.38608779 0.14788537\n",
            "  0.44557346 0.87537584 0.7811768  0.71161563 0.42328578 0.20978222\n",
            "  0.54400152 0.82557305 0.32438366 0.83210081]\n",
            " [0.41141067 0.81560374 0.52282077 0.69628046 0.54265688 0.38495035\n",
            "  0.25094414 0.78211406 0.33858973 0.51633684 0.41923464 0.38514471\n",
            "  0.3718888  0.40923691 0.16905112 0.33570804 0.5882236  0.79073553\n",
            "  0.58565819 0.32312876 0.81660477 0.48466146 0.1662024  0.19350245\n",
            "  0.37974887 0.76249522 0.20928743 0.67374047 0.40957899 0.5334893\n",
            "  0.43041517 0.53190937 0.49678302 0.25696925 0.14526262 0.18987833\n",
            "  0.19661944 0.35678173 0.17206034 0.5306923  0.42488009 0.54155828\n",
            "  0.20946473 0.80773842 0.86955074 0.62758313 0.31877212 0.27054651\n",
            "  0.29153703 0.59385144 0.80440205 0.38500429 0.0964361  0.60573811\n",
            "  0.64531487 0.3788619  0.11900232 0.82966438 0.25210516 0.03864761\n",
            "  0.16895222 0.4621009  0.62055097 0.43018346 0.55590621 0.68356187\n",
            "  0.25019744 0.42656121 0.32075709 0.652789   0.75628349 0.57658882\n",
            "  0.60629629 0.50486682 0.46061519 0.54642933 0.67815962 0.36705473\n",
            "  0.63397754 0.47354138 0.45596782 0.80872696 0.58107249 0.39995658\n",
            "  0.03653753 0.59608817 0.70332577 0.         0.80825444 0.65772093\n",
            "  0.3156002  0.33346986 0.35713775 0.31160469 0.80509073 0.50031422\n",
            "  0.29974047 0.40095607 0.54366845 0.34344433]\n",
            " [1.1259774  0.18578933 0.48984344 0.26320378 0.59092411 0.48855568\n",
            "  1.05457499 0.03039489 0.91830998 0.79947835 1.00607158 0.79808602\n",
            "  0.55506201 0.76108569 0.75470057 0.52723674 0.36929771 0.60756636\n",
            "  0.41567839 0.84374213 0.8064745  0.98183855 0.69582454 0.62230479\n",
            "  1.14945177 0.07924013 0.69335072 0.66535787 0.81039631 0.53735442\n",
            "  0.45669965 0.29982513 0.81895317 0.57150976 0.67315998 0.76043366\n",
            "  0.66757638 0.72747431 0.6674081  0.30909941 0.60794318 0.57874866\n",
            "  0.69898889 0.2762617  0.89388344 0.71057707 0.77025057 1.07327179\n",
            "  0.62669044 0.409788   0.73725151 0.67519062 0.89939972 0.3704098\n",
            "  0.49090672 0.80647142 0.89086648 0.19518198 0.57607854 0.84182246\n",
            "  0.63932231 0.89503199 0.29190985 0.48184124 0.60669728 0.12500522\n",
            "  0.94744286 1.1176034  0.69925257 0.1609247  0.25359973 0.81991348\n",
            "  0.79092647 0.41315716 0.34869183 0.77024342 0.18286097 1.05597723\n",
            "  0.3252082  0.4345999  0.55511629 0.02491379 0.66483052 1.14653678\n",
            "  0.84424804 0.2954472  0.38608779 0.80825444 0.         0.25937584\n",
            "  0.68099172 0.82734735 0.7021949  0.94876279 0.80930769 0.40182506\n",
            "  0.78770809 1.07222162 0.66620883 0.7682778 ]\n",
            " [0.91311843 0.16419545 0.53435156 0.04300731 0.64032167 0.28302069\n",
            "  0.88518686 0.25413774 0.69249486 0.54498033 0.77391282 0.76981001\n",
            "  0.52659942 0.5178211  0.65708023 0.33087328 0.11272501 0.37330711\n",
            "  0.49249229 0.78910369 0.55855346 0.73805472 0.51397412 0.46450455\n",
            "  0.95417242 0.28284697 0.49705705 0.40889546 0.56803535 0.28054263\n",
            "  0.2404884  0.30195166 0.82466674 0.40111389 0.54734334 0.66992852\n",
            "  0.4820698  0.69643222 0.49325536 0.13608758 0.60769999 0.62862379\n",
            "  0.61326438 0.15488757 0.64615591 0.45137287 0.54230112 0.90212815\n",
            "  0.56830371 0.49108713 0.49295713 0.65734651 0.75400042 0.45809549\n",
            "  0.23488278 0.56857187 0.76092994 0.17638514 0.40600417 0.69532585\n",
            "  0.49736049 0.64909519 0.38410433 0.47389859 0.34802861 0.18814176\n",
            "  0.74339258 0.89916665 0.6563651  0.15273231 0.100536   0.56206804\n",
            "  0.53180519 0.17610611 0.23904722 0.79995208 0.08068167 0.84074224\n",
            "  0.06589951 0.2049317  0.56834931 0.24193819 0.40559107 0.94241595\n",
            "  0.69403329 0.36810939 0.14788537 0.65772093 0.25937584 0.\n",
            "  0.45688895 0.7783308  0.67272664 0.7309459  0.55973861 0.1713412\n",
            "  0.56346449 0.85186498 0.40827167 0.72930472]\n",
            " [0.4566029  0.61994808 0.61603354 0.48412435 0.68405086 0.19448895\n",
            "  0.47085851 0.66295899 0.2377416  0.22629497 0.32554636 0.6361294\n",
            "  0.49583323 0.12450597 0.42835286 0.16715787 0.35518063 0.48440113\n",
            "  0.64080579 0.60106503 0.50227837 0.31688811 0.15756506 0.21326756\n",
            "  0.50666626 0.66469369 0.10886818 0.35899499 0.15704641 0.24065495\n",
            "  0.22456512 0.49409143 0.73703691 0.18750785 0.31156251 0.45070226\n",
            "  0.13829674 0.58161118 0.17339498 0.37213413 0.58331181 0.67753121\n",
            "  0.42794753 0.58179076 0.55973405 0.31245673 0.08968721 0.48409601\n",
            "  0.45960501 0.64611604 0.4888923  0.58125495 0.39820557 0.63818573\n",
            "  0.35891737 0.13937792 0.43405042 0.63086308 0.18694946 0.35098188\n",
            "  0.25789842 0.24333636 0.61184758 0.51005927 0.24549712 0.56402844\n",
            "  0.29358887 0.4423624  0.53508066 0.5226734  0.5397979  0.2833773\n",
            "  0.30199706 0.28078296 0.36950607 0.76061607 0.50949309 0.3839919\n",
            "  0.40903953 0.25281245 0.58471584 0.67195667 0.2656333  0.48903341\n",
            "  0.34226272 0.58468771 0.44557346 0.3156002  0.68099172 0.45688895\n",
            "  0.         0.60382892 0.5696406  0.27409097 0.49126141 0.28682711\n",
            "  0.1072638  0.39528966 0.22810312 0.58852343]\n",
            " [0.71362727 0.90554531 0.37614364 0.82131305 0.32771169 0.57730861\n",
            "  0.48427182 0.79716381 0.67204987 0.82543331 0.75125989 0.06693187\n",
            "  0.27228551 0.71776217 0.17679025 0.53934381 0.75323862 1.0233778\n",
            "  0.46175654 0.02257417 1.09598672 0.81786465 0.44882227 0.40128682\n",
            "  0.64661241 0.75894892 0.49788242 0.93623162 0.72841882 0.76663503\n",
            "  0.6151575  0.52947072 0.17305596 0.45658461 0.29435534 0.15397526\n",
            "  0.46557993 0.1063693  0.43054709 0.6432428  0.23827239 0.33390152\n",
            "  0.18296597 0.93159182 1.16042621 0.90648815 0.63448252 0.50177695\n",
            "  0.21044132 0.47064468 1.06928773 0.1646142  0.32794051 0.50138733\n",
            "  0.85756143 0.69886491 0.2717587  0.92113238 0.45360445 0.32109757\n",
            "  0.35292971 0.79013713 0.55710275 0.34656446 0.8117321  0.71846156\n",
            "  0.57649064 0.73724758 0.12817536 0.7053189  0.87661956 0.88465277\n",
            "  0.90582489 0.68086775 0.53973481 0.24180423 0.76312215 0.684062\n",
            "  0.78257501 0.65550124 0.29400838 0.83766994 0.85220122 0.68442602\n",
            "  0.33445807 0.54309784 0.87537584 0.33346986 0.82734735 0.7783308\n",
            "  0.60382892 0.         0.13010281 0.64318992 1.08658355 0.66877273\n",
            "  0.62032214 0.72024335 0.81812698 0.06269066]\n",
            " [0.76426259 0.79038373 0.24682912 0.71563496 0.21107653 0.5034997\n",
            "  0.55822069 0.67187598 0.68297747 0.79588692 0.77044378 0.09806904\n",
            "  0.15004242 0.69120149 0.18963181 0.47298217 0.66070251 0.94690175\n",
            "  0.33206053 0.15018152 1.04050625 0.82331884 0.42654174 0.35668904\n",
            "  0.71397072 0.63209    0.47258873 0.87502988 0.71050192 0.69762692\n",
            "  0.53592674 0.407299   0.17033961 0.39873487 0.26414594 0.17184117\n",
            "  0.4346654  0.02528239 0.4004288  0.54056204 0.10921727 0.21494473\n",
            "  0.15267498 0.82324557 1.1109833  0.85466405 0.61725823 0.57728024\n",
            "  0.11695749 0.34098577 1.00647611 0.03732905 0.38535992 0.37131841\n",
            "  0.77728135 0.68310945 0.33747524 0.80602087 0.396923   0.35889802\n",
            "  0.3120643  0.78207816 0.42771166 0.2203646  0.75096049 0.59707577\n",
            "  0.6071075  0.78225564 0.03698227 0.58718145 0.7685267  0.85276537\n",
            "  0.86696484 0.59492135 0.43421766 0.19475603 0.64982217 0.72384358\n",
            "  0.68422329 0.57286865 0.16431207 0.71360877 0.79767528 0.7445251\n",
            "  0.37109648 0.41452848 0.7811768  0.35713775 0.7021949  0.67272664\n",
            "  0.5696406  0.13010281 0.         0.66472459 1.03248614 0.58100551\n",
            "  0.60823413 0.75804594 0.76643623 0.06774461]\n",
            " [0.18298732 0.89401377 0.79404931 0.75798897 0.83440663 0.46049594\n",
            "  0.28654755 0.92886147 0.05959325 0.32641501 0.10811358 0.69664845\n",
            "  0.64986912 0.25604263 0.47984723 0.42232379 0.62848579 0.70425229\n",
            "  0.84048771 0.63109966 0.6496121  0.19045003 0.28270192 0.37602781\n",
            "  0.25181539 0.92556529 0.26449571 0.5563947  0.21817346 0.49713188\n",
            "  0.49582716 0.73004464 0.80837336 0.39784987 0.41537216 0.50120747\n",
            "  0.30005434 0.66654032 0.31718613 0.64009857 0.71914046 0.83129392\n",
            "  0.51290095 0.85355879 0.67609888 0.48734117 0.19269652 0.29021679\n",
            "  0.58280966 0.84746014 0.66460353 0.68953601 0.33074377 0.84913222\n",
            "  0.61263424 0.19627692 0.38759634 0.9048422  0.3944146  0.322556\n",
            "  0.39442305 0.21042014 0.84056093 0.69071507 0.47551545 0.82836095\n",
            "  0.0766075  0.16907806 0.62783457 0.78853455 0.81307494 0.37734657\n",
            "  0.42414185 0.55484796 0.61836793 0.85669679 0.78166475 0.11003162\n",
            "  0.68253859 0.52653396 0.74011078 0.94133267 0.4659415  0.22205578\n",
            "  0.30917093 0.81359623 0.71161563 0.31160469 0.94876279 0.7309459\n",
            "  0.27409097 0.64318992 0.66472459 0.         0.63530456 0.56049542\n",
            "  0.16868788 0.12364244 0.43106343 0.65497483]\n",
            " [0.78148293 0.64744512 1.00384128 0.54690314 1.0958396  0.53697548\n",
            "  0.91132114 0.80978528 0.57571204 0.31039123 0.59200978 1.11089836\n",
            "  0.92526191 0.40462809 0.91464613 0.56052439 0.47106831 0.21661955\n",
            "  0.99373295 1.08616606 0.01521537 0.49645265 0.64828277 0.68546992\n",
            "  0.88018915 0.84232315 0.6000571  0.16531352 0.42445277 0.34752534\n",
            "  0.51611507 0.80230645 1.20282507 0.63466561 0.79237509 0.9362894\n",
            "  0.62552364 1.04873953 0.65960023 0.60108263 1.01814811 1.08642665\n",
            "  0.90523539 0.55861898 0.0874531  0.18024745 0.4968123  0.91884498\n",
            "  0.91611052 0.99549724 0.08154042 1.03577714 0.88108694 0.97163769\n",
            "  0.32686552 0.45294954 0.92211064 0.64714328 0.63690305 0.83883599\n",
            "  0.73372869 0.43117664 0.9121215  0.90990487 0.2835709  0.74657697\n",
            "  0.6988325  0.74701969 1.00149465 0.70771705 0.56074436 0.25824309\n",
            "  0.21180649 0.48576531 0.68097831 1.21128131 0.64027555 0.71886137\n",
            "  0.49679386 0.49264251 1.00184897 0.78794399 0.23509177 0.83857709\n",
            "  0.82900321 0.88976005 0.42328578 0.80509073 0.80930769 0.55973861\n",
            "  0.49126141 1.08658355 1.03248614 0.63530456 0.         0.50336205\n",
            "  0.52162607 0.70401604 0.26845892 1.06316453]\n",
            " [0.74226695 0.33546802 0.50482863 0.20301939 0.60215279 0.11622006\n",
            "  0.7185902  0.38742291 0.52381645 0.40505287 0.60791384 0.67294036\n",
            "  0.44933295 0.35927887 0.52575394 0.16559004 0.08892912 0.37150981\n",
            "  0.49039895 0.67582945 0.50681868 0.58001933 0.34810154 0.3110041\n",
            "  0.78309609 0.39868536 0.32746773 0.33835974 0.4085861  0.16284869\n",
            "  0.07124215 0.29986104 0.74577064 0.24488921 0.40635248 0.54192616\n",
            "  0.31567698 0.60212999 0.33077226 0.10762717 0.54010894 0.59187391\n",
            "  0.49127917 0.31020315 0.59008159 0.35386918 0.37382647 0.73500482\n",
            "  0.46679779 0.4921363  0.45534762 0.57408701 0.59661888 0.46885532\n",
            "  0.20035854 0.40542308 0.60982213 0.34730884 0.24961281 0.53869753\n",
            "  0.3504613  0.49339058 0.41345084 0.41823643 0.23655823 0.29453057\n",
            "  0.57207109 0.7291097  0.55745611 0.25139437 0.2618772  0.43444614\n",
            "  0.41558665 0.01761649 0.17843978 0.737457   0.22422849 0.67009082\n",
            "  0.13427981 0.03402245 0.51380232 0.39017548 0.29770207 0.77108086\n",
            "  0.53593738 0.38959424 0.20978222 0.50031422 0.40182506 0.1713412\n",
            "  0.28682711 0.66877273 0.58100551 0.56049542 0.50336205 0.\n",
            "  0.39390946 0.68211584 0.28647411 0.62818076]\n",
            " [0.35167518 0.72601124 0.68956627 0.5896923  0.74713352 0.29989887\n",
            "  0.39777037 0.76925131 0.13062947 0.21928969 0.22068001 0.66192071\n",
            "  0.55762276 0.11700441 0.44414971 0.26752433 0.45994435 0.55450653\n",
            "  0.72327073 0.61370995 0.5345137  0.22824074 0.1826325  0.26754579\n",
            "  0.41029579 0.76964546 0.14149599 0.41450365 0.10985322 0.33140934\n",
            "  0.33165937 0.58978211 0.76890745 0.26536602 0.34412362 0.46704638\n",
            "  0.18249109 0.61626386 0.21259359 0.47866185 0.63906848 0.74191755\n",
            "  0.45808712 0.68489421 0.5782663  0.35381469 0.02725215 0.4081917\n",
            "  0.50733259 0.72928033 0.53526076 0.62555872 0.36352521 0.72507074\n",
            "  0.44853492 0.07927163 0.40980375 0.73664314 0.26323137 0.3282258\n",
            "  0.30234596 0.17392725 0.70544094 0.58333143 0.31819284 0.66983582\n",
            "  0.1997021  0.33578386 0.57190168 0.62884043 0.64448134 0.27920609\n",
            "  0.31397011 0.38742608 0.46940469 0.80274007 0.61675685 0.27867907\n",
            "  0.51404529 0.35988706 0.64858771 0.77896449 0.32015618 0.38778946\n",
            "  0.3167963  0.67820714 0.54400152 0.29974047 0.78770809 0.56346449\n",
            "  0.1072638  0.62032214 0.60823413 0.16868788 0.52162607 0.39390946\n",
            "  0.         0.28840195 0.28278593 0.61572374]\n",
            " [0.07748953 1.01424638 0.90531332 0.8777093  0.93869287 0.58379984\n",
            "  0.29066446 1.05244278 0.16117266 0.40729331 0.11212113 0.77859735\n",
            "  0.75820969 0.35902856 0.56913885 0.54595918 0.74760312 0.79901024\n",
            "  0.95577955 0.70552308 0.71894217 0.2127214  0.40158268 0.4939187\n",
            "  0.18589096 1.04917905 0.38698056 0.64743944 0.31388741 0.60924117\n",
            "  0.61845463 0.85180017 0.89055709 0.51978898 0.52163348 0.58888491\n",
            "  0.42121084 0.75691536 0.43576855 0.76341786 0.8218017  0.93646997\n",
            "  0.60944182 0.97073781 0.73232924 0.57447217 0.3102229  0.28578984\n",
            "  0.68594881 0.96302498 0.74396108 0.78576608 0.39404068 0.96649689\n",
            "  0.72193695 0.29922866 0.45179846 1.02472147 0.51619645 0.40227285\n",
            "  0.50780915 0.2745923  0.96093107 0.8038418  0.57995766 0.95198181\n",
            "  0.15277622 0.04840303 0.72171242 0.91208867 0.93183208 0.44858314\n",
            "  0.49929896 0.67582449 0.74161414 0.94554262 0.90419824 0.03714512\n",
            "  0.80178092 0.64810208 0.84707012 1.06459783 0.56207881 0.13669566\n",
            "  0.38931848 0.93410067 0.82557305 0.40095607 1.07222162 0.85186498\n",
            "  0.39528966 0.72024335 0.75804594 0.12364244 0.70401604 0.68211584\n",
            "  0.28840195 0.         0.5299257  0.74023789]\n",
            " [0.60416995 0.54738861 0.75811033 0.41595282 0.84362818 0.28294127\n",
            "  0.6803259  0.65746715 0.37538962 0.14477821 0.42770912 0.8430846\n",
            "  0.66608766 0.17511129 0.64645632 0.29827335 0.29691226 0.2735719\n",
            "  0.7598666  0.81775958 0.2780979  0.36127013 0.38266099 0.41707693\n",
            "  0.68262155 0.67678276 0.3355126  0.13277787 0.21621533 0.12935518\n",
            "  0.27337028 0.57880719 0.93667896 0.36776882 0.52392447 0.66799483\n",
            "  0.35838064 0.78196745 0.39200135 0.3939806  0.75850836 0.83502272\n",
            "  0.6369272  0.48028943 0.34457038 0.0885259  0.25566911 0.69096818\n",
            "  0.65072076 0.76295757 0.26080206 0.77144994 0.62530727 0.7444341\n",
            "  0.20714414 0.23484228 0.66214876 0.55352573 0.36975364 0.57904592\n",
            "  0.46529908 0.272184   0.69597055 0.65874389 0.06184946 0.57317204\n",
            "  0.47910481 0.57778833 0.73470688 0.53035357 0.45591062 0.15380479\n",
            "  0.12912379 0.27014648 0.44948769 0.94865515 0.48350379 0.53310888\n",
            "  0.34371446 0.26385675 0.74697311 0.64990196 0.03800386 0.65157329\n",
            "  0.57017303 0.67095626 0.32438366 0.54366845 0.66620883 0.40827167\n",
            "  0.22810312 0.81812698 0.76643623 0.43106343 0.26845892 0.28647411\n",
            "  0.28278593 0.5299257  0.         0.79530387]\n",
            " [0.73981449 0.85183173 0.31346132 0.7723063  0.26817338 0.5430073\n",
            "  0.52088113 0.73800949 0.6788315  0.81328694 0.76235708 0.04782097\n",
            "  0.21393283 0.70666989 0.17577624 0.50835199 0.71055914 0.98898363\n",
            "  0.39906776 0.0836788  1.07191134 0.82255762 0.43798575 0.37926978\n",
            "  0.68068391 0.69887932 0.48608069 0.90910474 0.72152747 0.73533632\n",
            "  0.5784537  0.47183035 0.15433431 0.42896422 0.27711099 0.15387571\n",
            "  0.45078947 0.04367865 0.41575642 0.59540537 0.17558735 0.27369573\n",
            "  0.16058202 0.8813637  1.13937402 0.8838271  0.62748876 0.53924258\n",
            "  0.1623153  0.40795458 1.04161252 0.10195036 0.35489269 0.43880342\n",
            "  0.82103847 0.69288974 0.30211994 0.86745439 0.42650381 0.33796628\n",
            "  0.33192807 0.78822346 0.49538085 0.28661306 0.78452129 0.6613923\n",
            "  0.59234103 0.76078814 0.07297499 0.64992531 0.82646885 0.87154767\n",
            "  0.88941391 0.6411849  0.49025759 0.20637175 0.71024053 0.70488111\n",
            "  0.73711965 0.61732497 0.23132689 0.77921313 0.82810531 0.71510213\n",
            "  0.35096213 0.48193749 0.83210081 0.34344433 0.7682778  0.72930472\n",
            "  0.58852343 0.06269066 0.06774461 0.65497483 1.06316453 0.62818076\n",
            "  0.61572374 0.74023789 0.79530387 0.        ]]\n"
          ]
        }
      ],
      "source": [
        "m = np.random.random((100,2))\n",
        "X,Y = np.atleast_2d(m[:,0], m[:,1])\n",
        "D = np.sqrt( (X-X.T)**2 + (Y-Y.T)**2)\n",
        "print(D)"
      ]
    },
    {
      "cell_type": "markdown",
      "metadata": {
        "id": "ao4Jh2P04Kz-"
      },
      "source": [
        "#### 53. How to convert a float (32 bits) array into an integer (32 bits) in place? \n",
        "(**hint**: astype(copy=False))"
      ]
    },
    {
      "cell_type": "code",
      "execution_count": 27,
      "metadata": {
        "colab": {
          "base_uri": "https://localhost:8080/"
        },
        "id": "FJRBRb_T4Kz-",
        "outputId": "6d618c3c-c821-4e7d-e85c-b0b216816af9"
      },
      "outputs": [
        {
          "output_type": "stream",
          "name": "stdout",
          "text": [
            "[92 11 76 98 53  7 33 88 19 14]\n"
          ]
        }
      ],
      "source": [
        "Z = (np.random.rand(10)*100).astype(np.float32)\n",
        "Y = Z.view(np.int32)\n",
        "Y[:] = Z\n",
        "print(Y)"
      ]
    },
    {
      "cell_type": "markdown",
      "metadata": {
        "id": "nCAMOMaN4Kz-"
      },
      "source": [
        "#### 54. How to read the following file? (★★☆) \n",
        "(**hint**: np.genfromtxt)"
      ]
    },
    {
      "cell_type": "markdown",
      "metadata": {
        "id": "w-7libD44Kz-"
      },
      "source": [
        "```\n",
        "1, 2, 3, 4, 5\n",
        "6,  ,  , 7, 8\n",
        " ,  , 9,10,11\n",
        "```"
      ]
    },
    {
      "cell_type": "code",
      "execution_count": 31,
      "metadata": {
        "colab": {
          "base_uri": "https://localhost:8080/"
        },
        "id": "Go4CORKL4K0F",
        "outputId": "e9c9f989-27bd-49bf-939d-b91633c0cb51"
      },
      "outputs": [
        {
          "output_type": "stream",
          "name": "stdout",
          "text": [
            "[[ 1  2  3  4  5]\n",
            " [ 6 -1 -1  7  8]\n",
            " [-1 -1  9 10 11]]\n"
          ]
        },
        {
          "output_type": "stream",
          "name": "stderr",
          "text": [
            "/usr/local/lib/python3.7/dist-packages/ipykernel_launcher.py:6: DeprecationWarning: `np.int` is a deprecated alias for the builtin `int`. To silence this warning, use `int` by itself. Doing this will not modify any behavior and is safe. When replacing `np.int`, you may wish to use e.g. `np.int64` or `np.int32` to specify the precision. If you wish to review your current use, check the release note link for additional information.\n",
            "Deprecated in NumPy 1.20; for more details and guidance: https://numpy.org/devdocs/release/1.20.0-notes.html#deprecations\n",
            "  \n"
          ]
        }
      ],
      "source": [
        "from io import StringIO\n",
        "s = StringIO('''1, 2, 3, 4, 5\n",
        "                6,  ,  , 7, 8\n",
        "                 ,  , 9,10,11\n",
        "''')\n",
        "x = np.genfromtxt(s, delimiter=\",\", dtype=np.int)\n",
        "print(x)"
      ]
    },
    {
      "cell_type": "markdown",
      "metadata": {
        "id": "SyJbBmst4K0F"
      },
      "source": [
        "#### 55. What is the equivalent of enumerate for numpy arrays? (★★☆) \n",
        "(**hint**: np.ndenumerate, np.ndindex)"
      ]
    },
    {
      "cell_type": "code",
      "execution_count": 32,
      "metadata": {
        "colab": {
          "base_uri": "https://localhost:8080/"
        },
        "id": "ZLLmd7q84K0G",
        "outputId": "7c644f4d-73e3-4983-f9ff-f9759a35a57f"
      },
      "outputs": [
        {
          "output_type": "stream",
          "name": "stdout",
          "text": [
            "(0, 0) 0\n",
            "(0, 1) 1\n",
            "(0, 2) 2\n",
            "(1, 0) 3\n",
            "(1, 1) 4\n",
            "(1, 2) 5\n",
            "(2, 0) 6\n",
            "(2, 1) 7\n",
            "(2, 2) 8\n",
            "(0, 0) 0\n",
            "(0, 1) 1\n",
            "(0, 2) 2\n",
            "(1, 0) 3\n",
            "(1, 1) 4\n",
            "(1, 2) 5\n",
            "(2, 0) 6\n",
            "(2, 1) 7\n",
            "(2, 2) 8\n"
          ]
        }
      ],
      "source": [
        "x = np.arange(9).reshape(3,3)\n",
        "for index, value in np.ndenumerate(x):\n",
        "    print(index, value)\n",
        "for index in np.ndindex(x.shape):\n",
        "    print(index, x[index])\n"
      ]
    },
    {
      "cell_type": "markdown",
      "metadata": {
        "id": "pkjLLHD54K0G"
      },
      "source": [
        "#### 56. Generate a generic 2D Gaussian-like array (★★☆) \n",
        "(**hint**: np.meshgrid, np.exp)"
      ]
    },
    {
      "cell_type": "code",
      "execution_count": 33,
      "metadata": {
        "colab": {
          "base_uri": "https://localhost:8080/"
        },
        "id": "RyXiOdxe4K0G",
        "outputId": "93e6b176-17a1-4af6-b128-90d8bd37a91a"
      },
      "outputs": [
        {
          "output_type": "stream",
          "name": "stdout",
          "text": [
            "[[0.36787944 0.44822088 0.51979489 0.57375342 0.60279818 0.60279818\n",
            "  0.57375342 0.51979489 0.44822088 0.36787944]\n",
            " [0.44822088 0.54610814 0.63331324 0.69905581 0.73444367 0.73444367\n",
            "  0.69905581 0.63331324 0.54610814 0.44822088]\n",
            " [0.51979489 0.63331324 0.73444367 0.81068432 0.85172308 0.85172308\n",
            "  0.81068432 0.73444367 0.63331324 0.51979489]\n",
            " [0.57375342 0.69905581 0.81068432 0.89483932 0.9401382  0.9401382\n",
            "  0.89483932 0.81068432 0.69905581 0.57375342]\n",
            " [0.60279818 0.73444367 0.85172308 0.9401382  0.98773022 0.98773022\n",
            "  0.9401382  0.85172308 0.73444367 0.60279818]\n",
            " [0.60279818 0.73444367 0.85172308 0.9401382  0.98773022 0.98773022\n",
            "  0.9401382  0.85172308 0.73444367 0.60279818]\n",
            " [0.57375342 0.69905581 0.81068432 0.89483932 0.9401382  0.9401382\n",
            "  0.89483932 0.81068432 0.69905581 0.57375342]\n",
            " [0.51979489 0.63331324 0.73444367 0.81068432 0.85172308 0.85172308\n",
            "  0.81068432 0.73444367 0.63331324 0.51979489]\n",
            " [0.44822088 0.54610814 0.63331324 0.69905581 0.73444367 0.73444367\n",
            "  0.69905581 0.63331324 0.54610814 0.44822088]\n",
            " [0.36787944 0.44822088 0.51979489 0.57375342 0.60279818 0.60279818\n",
            "  0.57375342 0.51979489 0.44822088 0.36787944]]\n"
          ]
        }
      ],
      "source": [
        "X, Y = np.meshgrid(np.linspace(-1,1,10), np.linspace(-1,1,10))\n",
        "D = np.sqrt(X*X+Y*Y)\n",
        "sigma, mu = 1.0, 0.0\n",
        "G = np.exp(-( (D-mu)**2 / ( 2.0 * sigma**2 ) ) )\n",
        "print(G)"
      ]
    },
    {
      "cell_type": "markdown",
      "metadata": {
        "id": "SPJdY27h4K0G"
      },
      "source": [
        "#### 57. How to randomly place p elements in a 2D array? (★★☆) \n",
        "(**hint**: np.put, np.random.choice)"
      ]
    },
    {
      "cell_type": "code",
      "execution_count": 34,
      "metadata": {
        "colab": {
          "base_uri": "https://localhost:8080/"
        },
        "id": "f3p10rG94K0G",
        "outputId": "20a29023-56ed-4fdd-d711-6d85cc544de2"
      },
      "outputs": [
        {
          "output_type": "stream",
          "name": "stdout",
          "text": [
            "[[0. 0. 0. 0. 0. 0. 0. 0. 0. 0.]\n",
            " [0. 0. 0. 0. 0. 0. 0. 0. 0. 0.]\n",
            " [0. 0. 0. 0. 0. 0. 0. 0. 0. 0.]\n",
            " [0. 0. 0. 0. 0. 0. 0. 0. 0. 0.]\n",
            " [0. 0. 0. 0. 0. 0. 0. 0. 0. 0.]\n",
            " [0. 0. 0. 0. 0. 0. 0. 0. 0. 0.]\n",
            " [0. 0. 0. 0. 0. 0. 0. 0. 0. 0.]\n",
            " [0. 0. 0. 0. 0. 0. 0. 0. 0. 0.]\n",
            " [0. 0. 0. 0. 0. 0. 0. 0. 0. 0.]\n",
            " [0. 0. 0. 0. 0. 0. 0. 0. 0. 0.]]\n"
          ]
        }
      ],
      "source": [
        "n = 10\n",
        "p = 3\n",
        "x = np.zeros((n,n))\n",
        "np.put(X, np.random.choice(range(n*n), p, replace=False),1)\n",
        "print(x)"
      ]
    },
    {
      "cell_type": "markdown",
      "metadata": {
        "id": "ZN2bqTEQ4K0G"
      },
      "source": [
        "#### 58. Subtract the mean of each row of a matrix (★★☆) \n",
        "(**hint**: mean(axis=,keepdims=))"
      ]
    },
    {
      "cell_type": "code",
      "execution_count": 36,
      "metadata": {
        "colab": {
          "base_uri": "https://localhost:8080/"
        },
        "id": "c0i52-Nh4K0H",
        "outputId": "a20d22b7-6b4d-4910-eca9-d24b893d9ccb"
      },
      "outputs": [
        {
          "output_type": "stream",
          "name": "stdout",
          "text": [
            "[[-0.20281009 -0.0993431   0.54432096  0.04122435 -0.12796762 -0.25473424\n",
            "   0.01797888 -0.04414542  0.09356212  0.03191416]\n",
            " [ 0.17756889 -0.35348381 -0.05173439  0.35866417  0.02309027  0.05338581\n",
            "   0.19396255  0.09602103 -0.26610872 -0.23136581]\n",
            " [ 0.00752984  0.35064026 -0.24806611 -0.01404509  0.24569157  0.26391685\n",
            "  -0.49577086  0.11045965  0.14898881 -0.36934493]\n",
            " [ 0.18812321  0.06979158  0.24633957 -0.45144026 -0.23274236 -0.46950685\n",
            "   0.34483833  0.04099788  0.08215089  0.18144801]\n",
            " [ 0.29954781 -0.02108597 -0.45821438  0.07805997 -0.33528964  0.20375799\n",
            "   0.32707653 -0.31897001  0.1733473   0.0517704 ]\n",
            " [ 0.03657066 -0.31312521 -0.12679957 -0.39855224 -0.06103086 -0.40363216\n",
            "   0.47691405  0.16102201  0.14571777  0.48291555]\n",
            " [ 0.01194908 -0.49628461  0.39316993 -0.18208607  0.21970081  0.37643416\n",
            "   0.04276252 -0.07991973 -0.06121144 -0.22451465]\n",
            " [ 0.14908353  0.03374067  0.16215493 -0.04111988  0.09925386  0.29340479\n",
            "  -0.3953292  -0.17633279  0.12427308 -0.24912899]\n",
            " [-0.04656701  0.40406978  0.48188593  0.13733054 -0.47158143 -0.29670454\n",
            "   0.34302851 -0.38383178 -0.45364825  0.28601824]\n",
            " [ 0.07591986  0.08660399  0.27332871 -0.12814753  0.32588572  0.27823924\n",
            "  -0.33344    -0.01633056 -0.26313236 -0.29892709]]\n"
          ]
        }
      ],
      "source": [
        "X = np.random.rand(10, 10)\n",
        "Y = X - X.mean(axis=1, keepdims=True)\n",
        "print(Y)"
      ]
    },
    {
      "cell_type": "markdown",
      "metadata": {
        "id": "V7so8Uyx4K0H"
      },
      "source": [
        "#### 59. How to sort an array by the nth column? (★★☆) \n",
        "(**hint**: argsort)"
      ]
    },
    {
      "cell_type": "code",
      "execution_count": 40,
      "metadata": {
        "colab": {
          "base_uri": "https://localhost:8080/"
        },
        "id": "60gAn1KG4K0H",
        "outputId": "e14561ad-2755-43e7-d8fe-6ccd48cefda1"
      },
      "outputs": [
        {
          "output_type": "stream",
          "name": "stdout",
          "text": [
            "[[8 9 5]\n",
            " [6 5 3]\n",
            " [6 8 8]]\n",
            "[[6 5 3]\n",
            " [6 8 8]\n",
            " [8 9 5]]\n"
          ]
        }
      ],
      "source": [
        "\n",
        "x = np.random.randint(0,10,(3,3))\n",
        "print(x)\n",
        "print(x[x[:,1].argsort()])"
      ]
    },
    {
      "cell_type": "markdown",
      "metadata": {
        "id": "MJFYkZCW4K0H"
      },
      "source": [
        "#### 60. How to tell if a given 2D array has null columns? (★★☆) \n",
        "(**hint**: any, ~)"
      ]
    },
    {
      "cell_type": "code",
      "execution_count": 41,
      "metadata": {
        "colab": {
          "base_uri": "https://localhost:8080/"
        },
        "id": "NazCk1pU4K0H",
        "outputId": "435c06ee-4103-430e-9f23-6d29375f7109"
      },
      "outputs": [
        {
          "output_type": "stream",
          "name": "stdout",
          "text": [
            "False\n"
          ]
        }
      ],
      "source": [
        "x = np.random.randint(0,3,(3,10))\n",
        "print((~x.any(axis=0)).any())"
      ]
    },
    {
      "cell_type": "markdown",
      "metadata": {
        "id": "wuYD2XAW4K0H"
      },
      "source": [
        "#### 61. Find the nearest value from a given value in an array (★★☆) \n",
        "(**hint**: np.abs, argmin, flat)"
      ]
    },
    {
      "cell_type": "code",
      "execution_count": 42,
      "metadata": {
        "colab": {
          "base_uri": "https://localhost:8080/"
        },
        "id": "8YRhho_p4K0I",
        "outputId": "9317ae56-fa05-4194-95c4-9f1ee460d87c"
      },
      "outputs": [
        {
          "output_type": "stream",
          "name": "stdout",
          "text": [
            "0.4918191558152455\n"
          ]
        }
      ],
      "source": [
        "Z = np.random.uniform(0,1,10)\n",
        "z = 0.5\n",
        "m = Z.flat[np.abs(Z - z).argmin()]\n",
        "print(m)"
      ]
    },
    {
      "cell_type": "markdown",
      "metadata": {
        "id": "GXSMr4pw4K0I"
      },
      "source": [
        "#### 62. Considering two arrays with shape (1,3) and (3,1), how to compute their sum using an iterator? (★★☆) \n",
        "(**hint**: np.nditer)"
      ]
    },
    {
      "cell_type": "code",
      "execution_count": 43,
      "metadata": {
        "colab": {
          "base_uri": "https://localhost:8080/"
        },
        "id": "gYAB3gcD4K0I",
        "outputId": "263077d7-71b0-4bee-dd5b-bff859886f9e"
      },
      "outputs": [
        {
          "output_type": "stream",
          "name": "stdout",
          "text": [
            "[[0 1 2]\n",
            " [1 2 3]\n",
            " [2 3 4]]\n"
          ]
        }
      ],
      "source": [
        "A = np.arange(3).reshape(1,3)\n",
        "B = np.arange(3).reshape(3,1)\n",
        "it = np.nditer([A,B,None])\n",
        "for x,y,z in it: z[...] = x + y\n",
        "print(it.operands[2])"
      ]
    },
    {
      "cell_type": "markdown",
      "metadata": {
        "id": "QCiNmx_y4K0I"
      },
      "source": [
        "#### 63. Create an array class that has a name attribute (★★☆) \n",
        "(**hint**: class method)"
      ]
    },
    {
      "cell_type": "code",
      "execution_count": 44,
      "metadata": {
        "colab": {
          "base_uri": "https://localhost:8080/"
        },
        "id": "d920EvMi4K0I",
        "outputId": "1f01331f-26ca-4758-e18b-9f6123a5562c"
      },
      "outputs": [
        {
          "output_type": "stream",
          "name": "stdout",
          "text": [
            "range_10\n"
          ]
        }
      ],
      "source": [
        "class NamedArray(np.ndarray):\n",
        "    def __new__(cls, array, name=\"no name\"):\n",
        "        obj = np.asarray(array).view(cls)\n",
        "        obj.name = name\n",
        "        return obj\n",
        "    def __array_finalize__(self, obj):\n",
        "        if obj is None: return\n",
        "        self.info = getattr(obj, 'name', \"no name\")\n",
        "\n",
        "Z = NamedArray(np.arange(10), \"range_10\")\n",
        "print (Z.name)"
      ]
    },
    {
      "cell_type": "markdown",
      "metadata": {
        "id": "8bAFng5D4K0I"
      },
      "source": [
        "#### 64. Consider a given vector, how to add 1 to each element indexed by a second vector (be careful with repeated indices)? (★★★) \n",
        "(**hint**: np.bincount | np.add.at)"
      ]
    },
    {
      "cell_type": "code",
      "execution_count": 45,
      "metadata": {
        "colab": {
          "base_uri": "https://localhost:8080/"
        },
        "id": "vYp0cgHu4K0J",
        "outputId": "31bbcabf-f052-437f-94f8-15905ff951cb"
      },
      "outputs": [
        {
          "output_type": "stream",
          "name": "stdout",
          "text": [
            "[2. 4. 2. 4. 3. 1. 5. 2. 2. 5.]\n",
            "[3. 7. 3. 7. 5. 1. 9. 3. 3. 9.]\n"
          ]
        }
      ],
      "source": [
        "Z = np.ones(10)\n",
        "I = np.random.randint(0,len(Z),20)\n",
        "Z += np.bincount(I, minlength=len(Z))\n",
        "print(Z)\n",
        "\n",
        "# Another solution\n",
        "\n",
        "np.add.at(Z, I, 1)\n",
        "print(Z)"
      ]
    },
    {
      "cell_type": "markdown",
      "metadata": {
        "id": "C7d94ldU4K0J"
      },
      "source": [
        "#### 65. How to accumulate elements of a vector (X) to an array (F) based on an index list (I)? (★★★) \n",
        "(**hint**: np.bincount)"
      ]
    },
    {
      "cell_type": "code",
      "execution_count": 46,
      "metadata": {
        "colab": {
          "base_uri": "https://localhost:8080/"
        },
        "id": "quoMYaOM4K0J",
        "outputId": "0ba1fdf8-e44e-4553-ec4e-4711d3c15463"
      },
      "outputs": [
        {
          "output_type": "stream",
          "name": "stdout",
          "text": [
            "[0. 7. 0. 6. 5. 0. 0. 0. 0. 3.]\n"
          ]
        }
      ],
      "source": [
        "X = [1,2,3,4,5,6]\n",
        "I = [1,3,9,3,4,1]\n",
        "F = np.bincount(I,X)\n",
        "print(F)"
      ]
    },
    {
      "cell_type": "markdown",
      "metadata": {
        "id": "IJN97wZp4K0J"
      },
      "source": [
        "#### 66. Considering a (w,h,3) image of (dtype=ubyte), compute the number of unique colors (★★★) \n",
        "(**hint**: np.unique)"
      ]
    },
    {
      "cell_type": "code",
      "execution_count": 47,
      "metadata": {
        "colab": {
          "base_uri": "https://localhost:8080/"
        },
        "id": "VvbIBxir4K0J",
        "outputId": "c0d0ade2-8a77-47af-8ae1-9e2f3d2b9d36"
      },
      "outputs": [
        {
          "output_type": "stream",
          "name": "stdout",
          "text": [
            "64\n"
          ]
        }
      ],
      "source": [
        "w, h = 256, 256\n",
        "I = np.random.randint(0, 4, (h, w, 3)).astype(np.ubyte)\n",
        "colors = np.unique(I.reshape(-1, 3), axis=0)\n",
        "n = len(colors)\n",
        "print(n)"
      ]
    },
    {
      "cell_type": "markdown",
      "metadata": {
        "id": "D4h2nsvx4K0J"
      },
      "source": [
        "#### 67. Considering a four dimensions array, how to get sum over the last two axis at once? (★★★) \n",
        "(**hint**: sum(axis=(-2,-1)))"
      ]
    },
    {
      "cell_type": "code",
      "execution_count": 2,
      "metadata": {
        "colab": {
          "base_uri": "https://localhost:8080/"
        },
        "id": "gzTXrroR4K0K",
        "outputId": "399c9475-1fd3-4a7a-cec3-59b449d3fdf6"
      },
      "outputs": [
        {
          "output_type": "stream",
          "name": "stdout",
          "text": [
            "[[43 50 51 72]\n",
            " [68 57 54 66]\n",
            " [53 58 47 57]]\n"
          ]
        }
      ],
      "source": [
        "A = np.random.randint(0,10,(3,4,3,4))\n",
        "sum = A.sum(axis=(-2,-1))\n",
        "print(sum)"
      ]
    },
    {
      "cell_type": "markdown",
      "metadata": {
        "id": "zioQGJUh4K0K"
      },
      "source": [
        "#### 68. Considering a one-dimensional vector D, how to compute means of subsets of D using a vector S of same size describing subset  indices? (★★★) \n",
        "(**hint**: np.bincount)"
      ]
    },
    {
      "cell_type": "code",
      "execution_count": 3,
      "metadata": {
        "colab": {
          "base_uri": "https://localhost:8080/"
        },
        "id": "aAmOv-Ny4K0K",
        "outputId": "d163c68d-1fce-444f-a5dd-062e83817133"
      },
      "outputs": [
        {
          "output_type": "stream",
          "name": "stdout",
          "text": [
            "[0.4685578  0.33394713 0.46439667 0.57255433 0.62485803 0.44310732\n",
            " 0.45347805 0.5361824  0.48782649 0.60867293]\n"
          ]
        }
      ],
      "source": [
        "D = np.random.uniform(0,1,100)\n",
        "S = np.random.randint(0,10,100)\n",
        "D_sums = np.bincount(S, weights=D)\n",
        "D_counts = np.bincount(S)\n",
        "D_means = D_sums / D_counts\n",
        "print(D_means)\n"
      ]
    },
    {
      "cell_type": "markdown",
      "metadata": {
        "id": "89KpcmiT4K0K"
      },
      "source": [
        "#### 69. How to get the diagonal of a dot product? (★★★) \n",
        "(**hint**: np.diag)"
      ]
    },
    {
      "cell_type": "code",
      "execution_count": 4,
      "metadata": {
        "colab": {
          "base_uri": "https://localhost:8080/"
        },
        "id": "LLyvzNJh4K0L",
        "outputId": "7a4a162b-94f2-4c5a-a7d6-d91b0a07686f"
      },
      "outputs": [
        {
          "output_type": "execute_result",
          "data": {
            "text/plain": [
              "array([1.56637892, 1.02712408, 1.0076561 , 2.11375967, 1.68280969])"
            ]
          },
          "metadata": {},
          "execution_count": 4
        }
      ],
      "source": [
        "A = np.random.uniform(0,1,(5,5))\n",
        "B = np.random.uniform(0,1,(5,5))\n",
        "np.diag(np.dot(A, B))"
      ]
    },
    {
      "cell_type": "markdown",
      "metadata": {
        "id": "F4qQxVsy4K0L"
      },
      "source": [
        "#### 70. Consider the vector \\[1, 2, 3, 4, 5\\], how to build a new vector with 3 consecutive zeros interleaved between each value? (★★★) \n",
        "(**hint**: array\\[::4\\])"
      ]
    },
    {
      "cell_type": "code",
      "execution_count": 6,
      "metadata": {
        "colab": {
          "base_uri": "https://localhost:8080/"
        },
        "id": "TAp3pu_S4K0L",
        "outputId": "edaf9904-1f03-475f-ce94-ba483e7af6bf"
      },
      "outputs": [
        {
          "output_type": "stream",
          "name": "stdout",
          "text": [
            "[1. 0. 0. 0. 2. 0. 0. 0. 3. 0. 0. 0. 4. 0. 0. 0. 5.]\n"
          ]
        }
      ],
      "source": [
        "Z = np.array([1,2,3,4,5])\n",
        "nz = 3\n",
        "Z0 = np.zeros(len(Z) + (len(Z)-1)*(nz))\n",
        "Z0[::nz+1] = Z\n",
        "print(Z0)"
      ]
    },
    {
      "cell_type": "markdown",
      "metadata": {
        "id": "Q5Kdisjf4K0M"
      },
      "source": [
        "#### 71. Consider an array of dimension (5,5,3), how to mulitply it by an array with dimensions (5,5)? (★★★) \n",
        "(**hint**: array\\[:, :, None\\])"
      ]
    },
    {
      "cell_type": "code",
      "execution_count": 10,
      "metadata": {
        "collapsed": true,
        "colab": {
          "base_uri": "https://localhost:8080/"
        },
        "id": "pSW2K4Zf4K0M",
        "outputId": "ee8fa1a8-f0f5-47e8-b45c-9b71f39fe4a5"
      },
      "outputs": [
        {
          "output_type": "stream",
          "name": "stdout",
          "text": [
            "[[[5. 5. 5.]\n",
            "  [5. 5. 5.]\n",
            "  [5. 5. 5.]\n",
            "  [5. 5. 5.]\n",
            "  [5. 5. 5.]]\n",
            "\n",
            " [[5. 5. 5.]\n",
            "  [5. 5. 5.]\n",
            "  [5. 5. 5.]\n",
            "  [5. 5. 5.]\n",
            "  [5. 5. 5.]]\n",
            "\n",
            " [[5. 5. 5.]\n",
            "  [5. 5. 5.]\n",
            "  [5. 5. 5.]\n",
            "  [5. 5. 5.]\n",
            "  [5. 5. 5.]]\n",
            "\n",
            " [[5. 5. 5.]\n",
            "  [5. 5. 5.]\n",
            "  [5. 5. 5.]\n",
            "  [5. 5. 5.]\n",
            "  [5. 5. 5.]]\n",
            "\n",
            " [[5. 5. 5.]\n",
            "  [5. 5. 5.]\n",
            "  [5. 5. 5.]\n",
            "  [5. 5. 5.]\n",
            "  [5. 5. 5.]]]\n"
          ]
        }
      ],
      "source": [
        "A = np.ones((5,5,3))\n",
        "B = 5*np.ones((5,5))\n",
        "print(A * B[:,:,None])"
      ]
    },
    {
      "cell_type": "markdown",
      "metadata": {
        "id": "jrUE_VTh4K0M"
      },
      "source": [
        "#### 72. How to swap two rows of an array? (★★★) \n",
        "(**hint**: array\\[\\[\\]\\] = array\\[\\[\\]\\])"
      ]
    },
    {
      "cell_type": "code",
      "execution_count": 12,
      "metadata": {
        "colab": {
          "base_uri": "https://localhost:8080/"
        },
        "id": "W3-HxQR-4K0M",
        "outputId": "56dcb585-a561-4217-f4f6-e9fab2e7c331"
      },
      "outputs": [
        {
          "output_type": "stream",
          "name": "stdout",
          "text": [
            "[[ 0  1  2  3  4]\n",
            " [ 5  6  7  8  9]\n",
            " [10 11 12 13 14]\n",
            " [15 16 17 18 19]\n",
            " [20 21 22 23 24]]\n"
          ]
        }
      ],
      "source": [
        "A = np.arange(25).reshape(5,5)\n",
        "A[[]] = A[[]]\n",
        "print(A)"
      ]
    },
    {
      "cell_type": "markdown",
      "metadata": {
        "id": "T-9mm31C4K0M"
      },
      "source": [
        "#### 73. Consider a set of 10 triplets describing 10 triangles (with shared vertices), find the set of unique line segments composing all the  triangles (★★★) \n",
        "(**hint**: repeat, np.roll, np.sort, view, np.unique)"
      ]
    },
    {
      "cell_type": "code",
      "execution_count": 13,
      "metadata": {
        "colab": {
          "base_uri": "https://localhost:8080/"
        },
        "id": "rg8G5i5B4K0N",
        "outputId": "e321a56c-13b1-4458-957e-c50c25d09e95"
      },
      "outputs": [
        {
          "output_type": "stream",
          "name": "stdout",
          "text": [
            "[( 5, 38) ( 5, 83) (14, 70) (14, 72) (16, 27) (16, 28) (18, 20) (18, 24)\n",
            " (18, 70) (18, 97) (20, 97) (23, 73) (23, 99) (24, 70) (27, 28) (33, 43)\n",
            " (33, 88) (38, 83) (43, 88) (53, 55) (53, 82) (55, 82) (58, 68) (58, 96)\n",
            " (68, 96) (70, 72) (73, 99) (80, 83) (80, 92) (83, 92)]\n"
          ]
        }
      ],
      "source": [
        "faces = np.random.randint(0,100,(10,3))\n",
        "F = np.roll(faces.repeat(2,axis=1),-1,axis=1)\n",
        "F = F.reshape(len(F)*3,2)\n",
        "F = np.sort(F,axis=1)\n",
        "G = F.view( dtype=[('p0',F.dtype),('p1',F.dtype)] )\n",
        "G = np.unique(G)\n",
        "print(G)"
      ]
    },
    {
      "cell_type": "markdown",
      "metadata": {
        "id": "0KevWt3w4K0N"
      },
      "source": [
        "#### 74. Given an array C that is a bincount, how to produce an array A such that np.bincount(A) == C? (★★★) \n",
        "(**hint**: np.repeat)"
      ]
    },
    {
      "cell_type": "code",
      "execution_count": 15,
      "metadata": {
        "colab": {
          "base_uri": "https://localhost:8080/"
        },
        "id": "ab_qP_Ob4K0O",
        "outputId": "d6e32d1d-16d5-488d-b951-cf5b961886ab"
      },
      "outputs": [
        {
          "output_type": "stream",
          "name": "stdout",
          "text": [
            "[1 1 2 3 4 4 6]\n"
          ]
        }
      ],
      "source": [
        "x = np.bincount([1,1,2,3,4,4,6])\n",
        "A = np.repeat(np.arange(len(x)), x)\n",
        "print(A)"
      ]
    },
    {
      "cell_type": "markdown",
      "metadata": {
        "id": "h4pGMUlM4K0O"
      },
      "source": [
        "#### 75. How to compute averages using a sliding window over an array? (★★★) \n",
        "(**hint**: np.cumsum)"
      ]
    },
    {
      "cell_type": "code",
      "execution_count": 17,
      "metadata": {
        "colab": {
          "base_uri": "https://localhost:8080/"
        },
        "id": "aWIU3FKm4K0O",
        "outputId": "41e5284f-dda5-4b3b-d7a2-bbe96af29fad"
      },
      "outputs": [
        {
          "output_type": "stream",
          "name": "stdout",
          "text": [
            "[ 2.  3.  4.  5.  6.  7.  8.  9. 10. 11. 12. 13. 14. 15. 16. 17.]\n"
          ]
        }
      ],
      "source": [
        "def moving_average(a, n=5) :\n",
        "    ret = np.cumsum(a, dtype=float)\n",
        "    ret[n:] = ret[n:] - ret[:-n]\n",
        "    return ret[n - 1:] / n\n",
        "Z = np.arange(20)\n",
        "print(moving_average(Z, n=5))"
      ]
    },
    {
      "cell_type": "markdown",
      "metadata": {
        "id": "6nvAsxoF4K0P"
      },
      "source": [
        "#### 76. Consider a one-dimensional array Z, build a two-dimensional array whose first row is (Z\\[0\\],Z\\[1\\],Z\\[2\\]) and each subsequent row is  shifted by 1 (last row should be (Z\\[-3\\],Z\\[-2\\],Z\\[-1\\]) (★★★) \n",
        "(**hint**: from numpy.lib import stride_tricks)"
      ]
    },
    {
      "cell_type": "code",
      "execution_count": 19,
      "metadata": {
        "colab": {
          "base_uri": "https://localhost:8080/"
        },
        "id": "MQJtoiXQ4K0P",
        "outputId": "a8694aec-d8f3-4ecf-d724-0c2b8cb1f20d"
      },
      "outputs": [
        {
          "output_type": "stream",
          "name": "stdout",
          "text": [
            "[[0 1 2]\n",
            " [1 2 3]\n",
            " [2 3 4]\n",
            " [3 4 5]\n",
            " [4 5 6]\n",
            " [5 6 7]\n",
            " [6 7 8]\n",
            " [7 8 9]]\n"
          ]
        }
      ],
      "source": [
        "from numpy.lib import stride_tricks\n",
        "\n",
        "def rolling(a, window):\n",
        "    shape = (a.size - window + 1, window)\n",
        "    strides = (a.strides[0], a.strides[0])\n",
        "    return stride_tricks.as_strided(a, shape=shape, strides=strides)\n",
        "x = rolling(np.arange(10), 3)\n",
        "print(x)"
      ]
    },
    {
      "cell_type": "markdown",
      "metadata": {
        "id": "61IhhtTf4K0P"
      },
      "source": [
        "#### 77. How to negate a boolean, or to change the sign of a float inplace? (★★★) \n",
        "(**hint**: np.logical_not, np.negative)"
      ]
    },
    {
      "cell_type": "code",
      "execution_count": 20,
      "metadata": {
        "colab": {
          "base_uri": "https://localhost:8080/"
        },
        "id": "NXErAkYf4K0Q",
        "outputId": "32de9dc9-d289-4fc4-c05f-0443e0709adb"
      },
      "outputs": [
        {
          "output_type": "execute_result",
          "data": {
            "text/plain": [
              "array([ 0.8903501 , -0.3363322 , -0.72396677, -0.22852415,  0.48906009,\n",
              "       -0.18504824,  0.29514992, -0.16434023, -0.62549477,  0.78327299,\n",
              "        0.7936734 ,  0.79369282, -0.31502502,  0.66665529, -0.22913843,\n",
              "        0.67407453,  0.0440251 ,  0.5437427 ,  0.29672303, -0.42689108,\n",
              "        0.54165961,  0.26457522,  0.46971976,  0.59564333,  0.80102503,\n",
              "       -0.73029965, -0.18515775, -0.06340702, -0.30998688, -0.52175097,\n",
              "       -0.8166297 , -0.60535711, -0.96513141,  0.8408505 ,  0.69530399,\n",
              "        0.01928297, -0.79302327, -0.24147387,  0.56164026,  0.21637711,\n",
              "       -0.68070947,  0.88606543,  0.09474777, -0.2553478 , -0.89254726,\n",
              "       -0.41337158,  0.45589093, -0.39214113,  0.27741996, -0.12271977,\n",
              "        0.27563177, -0.15883144, -0.43612774,  0.20860616, -0.99917088,\n",
              "        0.95257333,  0.21333342, -0.14457108, -0.92207051,  0.38887575,\n",
              "        0.73586656, -0.12468612,  0.82307478,  0.80867441, -0.211813  ,\n",
              "        0.36887031,  0.42499827,  0.72096628,  0.73817038, -0.50959766,\n",
              "       -0.53967756, -0.8743784 ,  0.25542794, -0.16992145,  0.80449766,\n",
              "        0.69041466, -0.64186498,  0.23510622, -0.97427788, -0.88724769,\n",
              "        0.80247457, -0.60632495, -0.30377472, -0.08516832, -0.28563421,\n",
              "       -0.30742813, -0.62279401,  0.6534526 ,  0.96573793,  0.77897918,\n",
              "        0.32707632,  0.60556235, -0.45063389,  0.98483848, -0.85534875,\n",
              "       -0.43874312,  0.47179164, -0.23540069,  0.38638433, -0.97935739])"
            ]
          },
          "metadata": {},
          "execution_count": 20
        }
      ],
      "source": [
        "Z = np.random.randint(0,2,100)\n",
        "np.logical_not(Z, out=Z)\n",
        "\n",
        "Z = np.random.uniform(-1.0,1.0,100)\n",
        "np.negative(Z, out=Z)"
      ]
    },
    {
      "cell_type": "markdown",
      "metadata": {
        "id": "M5T-sbbv4K0Q"
      },
      "source": [
        "#### 78. Consider 2 sets of points P0,P1 describing lines (2d) and a point p, how to compute distance from p to each line i  (P0\\[i\\],P1\\[i\\])? (★★★)"
      ]
    },
    {
      "cell_type": "code",
      "execution_count": 21,
      "metadata": {
        "colab": {
          "base_uri": "https://localhost:8080/"
        },
        "id": "HKpJ-Gw04K0R",
        "outputId": "da44effb-d410-44ee-8710-a5d9a56ff29d"
      },
      "outputs": [
        {
          "output_type": "stream",
          "name": "stdout",
          "text": [
            "[8.63835667 7.48202727 5.92601846 5.1432701  0.19246229 6.31611974\n",
            " 0.88572504 2.97699796 7.05562936 0.11354378]\n"
          ]
        }
      ],
      "source": [
        "def distance(P0, P1, p):\n",
        "    T = P1 - P0\n",
        "    L = (T**2).sum(axis=1)\n",
        "    U = -((P0[:,0]-p[...,0])*T[:,0] + (P0[:,1]-p[...,1])*T[:,1]) / L\n",
        "    U = U.reshape(len(U),1)\n",
        "    D = P0 + U*T - p\n",
        "    return np.sqrt((D**2).sum(axis=1))\n",
        "\n",
        "P0 = np.random.uniform(-10,10,(10,2))\n",
        "P1 = np.random.uniform(-10,10,(10,2))\n",
        "p  = np.random.uniform(-10,10,( 1,2))\n",
        "print(distance(P0, P1, p))"
      ]
    },
    {
      "cell_type": "markdown",
      "metadata": {
        "id": "lsWC0blV4K0R"
      },
      "source": [
        "#### 79. Consider 2 sets of points P0,P1 describing lines (2d) and a set of points P, how to compute distance from each point j (P\\[j\\]) to each line i (P0\\[i\\],P1\\[i\\])? (★★★)"
      ]
    },
    {
      "cell_type": "code",
      "execution_count": 22,
      "metadata": {
        "colab": {
          "base_uri": "https://localhost:8080/"
        },
        "id": "u1mv31RJ4K0R",
        "outputId": "daaa8ec6-d641-451d-97c5-0990cce306ec"
      },
      "outputs": [
        {
          "output_type": "stream",
          "name": "stdout",
          "text": [
            "[[28.24199956  6.40511885 14.70316886  1.18140984 11.1203788  15.3431927\n",
            "   7.71354914 26.12794946 35.17975136 17.085189  ]\n",
            " [ 6.31954889 13.36778721 13.36031213 20.93071541  3.0618972  19.4485729\n",
            "   3.9930111   3.71881568 12.89721269 19.184044  ]\n",
            " [ 6.79418312 26.77928208 18.21576776 33.89803505  3.89360612 16.1831385\n",
            "   5.59902838  8.62521398  1.36322453 14.75509616]\n",
            " [11.62326478  4.19678127  1.99228666 16.30108809 10.6478521  34.3059471\n",
            "  16.11234     6.20125494 13.31461439 34.42500276]\n",
            " [ 3.69994128 24.41932059 19.94500208 30.70631214  6.56893571 14.04698637\n",
            "   2.47830844  5.17363588  4.99673536 12.91215812]\n",
            " [24.30328833  3.29988707 12.86361442  2.86477966  8.07610591 17.69672644\n",
            "   4.08600459 21.80217042 30.66931282 19.0678351 ]\n",
            " [ 2.65175995 20.39996665 26.44289451 24.01911247 15.00551406  6.68123897\n",
            "   6.73943286  2.46428075 13.39069272  6.16745996]\n",
            " [14.15173149 12.47706525 35.90015082 12.01767518 27.9754961   4.32181939\n",
            "  21.22791609 15.8604263  27.8562528   3.72615865]\n",
            " [19.01988356  1.12382893  3.28751069  8.61880972  3.10779057 28.04077844\n",
            "   7.55934567 14.66693396 22.36392635 28.86819314]\n",
            " [13.05427722  8.52088995 18.15905093 13.93628452  9.91864914 13.75273416\n",
            "   3.78641878 11.4253279  21.13401605 14.13312059]]\n"
          ]
        }
      ],
      "source": [
        "P0 = np.random.uniform(-20, 20, (10,2))\n",
        "P1 = np.random.uniform(-20,20,(10,2))\n",
        "p = np.random.uniform(-20, 20, (10,2))\n",
        "print(np.array([distance(P0,P1,p_i) for p_i in p]))"
      ]
    },
    {
      "cell_type": "markdown",
      "metadata": {
        "id": "B5-onTaV4K0R"
      },
      "source": [
        "#### 80. Consider an arbitrary array, write a function that extract a subpart with a fixed shape and centered on a given element (pad with a `fill` value when necessary) (★★★) \n",
        "(**hint**: minimum, maximum)"
      ]
    },
    {
      "cell_type": "code",
      "execution_count": 23,
      "metadata": {
        "colab": {
          "base_uri": "https://localhost:8080/"
        },
        "id": "9_p07pk74K0R",
        "outputId": "8ab88ab8-65d3-4611-fd32-fd830e708d4d"
      },
      "outputs": [
        {
          "output_type": "stream",
          "name": "stdout",
          "text": [
            "[[9 6 1 9 6 6 3 5 0 0]\n",
            " [1 4 2 9 5 4 8 4 1 9]\n",
            " [1 6 2 8 3 5 9 4 0 4]\n",
            " [5 4 0 2 4 4 7 9 1 1]\n",
            " [1 5 1 0 8 4 2 0 9 8]\n",
            " [7 1 1 4 8 4 1 1 6 9]\n",
            " [9 0 9 9 4 1 6 8 0 0]\n",
            " [2 8 3 3 0 7 1 9 6 1]\n",
            " [1 5 5 2 1 0 9 8 3 9]\n",
            " [5 6 4 6 4 6 2 0 4 9]]\n",
            "[[0 0 0 0 0]\n",
            " [0 9 6 1 9]\n",
            " [0 1 4 2 9]\n",
            " [0 1 6 2 8]\n",
            " [0 5 4 0 2]]\n"
          ]
        },
        {
          "output_type": "stream",
          "name": "stderr",
          "text": [
            "/usr/local/lib/python3.7/dist-packages/ipykernel_launcher.py:23: FutureWarning: Using a non-tuple sequence for multidimensional indexing is deprecated; use `arr[tuple(seq)]` instead of `arr[seq]`. In the future this will be interpreted as an array index, `arr[np.array(seq)]`, which will result either in an error or a different result.\n"
          ]
        }
      ],
      "source": [
        "Z = np.random.randint(0,10,(10,10))\n",
        "shape = (5,5)\n",
        "fill  = 0\n",
        "position = (1,1)\n",
        "\n",
        "R = np.ones(shape, dtype=Z.dtype)*fill\n",
        "P  = np.array(list(position)).astype(int)\n",
        "Rs = np.array(list(R.shape)).astype(int)\n",
        "Zs = np.array(list(Z.shape)).astype(int)\n",
        "\n",
        "R_start = np.zeros((len(shape),)).astype(int)\n",
        "R_stop  = np.array(list(shape)).astype(int)\n",
        "Z_start = (P-Rs//2)\n",
        "Z_stop  = (P+Rs//2)+Rs%2\n",
        "\n",
        "R_start = (R_start - np.minimum(Z_start,0)).tolist()\n",
        "Z_start = (np.maximum(Z_start,0)).tolist()\n",
        "R_stop = np.maximum(R_start, (R_stop - np.maximum(Z_stop-Zs,0))).tolist()\n",
        "Z_stop = (np.minimum(Z_stop,Zs)).tolist()\n",
        "\n",
        "r = [slice(start,stop) for start,stop in zip(R_start,R_stop)]\n",
        "z = [slice(start,stop) for start,stop in zip(Z_start,Z_stop)]\n",
        "R[r] = Z[z]\n",
        "print(Z)\n",
        "print(R)"
      ]
    },
    {
      "cell_type": "markdown",
      "metadata": {
        "id": "596mcD734K0S"
      },
      "source": [
        "#### 81. Consider an array Z = \\[1,2,3,4,5,6,7,8,9,10,11,12,13,14\\], how to generate an array R = \\[\\[1,2,3,4\\], \\[2,3,4,5\\], \\[3,4,5,6\\], ..., \\[11,12,13,14\\]\\]? (★★★) \n",
        "(**hint**: stride\\_tricks.as\\_strided)"
      ]
    },
    {
      "cell_type": "code",
      "execution_count": 25,
      "metadata": {
        "colab": {
          "base_uri": "https://localhost:8080/"
        },
        "id": "3YS2vLNm4K0S",
        "outputId": "af7cb8fa-5b2b-4338-d8b4-7a3e54e1bcd4"
      },
      "outputs": [
        {
          "output_type": "stream",
          "name": "stdout",
          "text": [
            "[[ 1  2  3  4]\n",
            " [ 2  3  4  5]\n",
            " [ 3  4  5  6]\n",
            " [ 4  5  6  7]\n",
            " [ 5  6  7  8]\n",
            " [ 6  7  8  9]\n",
            " [ 7  8  9 10]\n",
            " [ 8  9 10 11]\n",
            " [ 9 10 11 12]\n",
            " [10 11 12 13]\n",
            " [11 12 13 14]]\n"
          ]
        }
      ],
      "source": [
        "x = np.arange(1,15,dtype=np.uint32)\n",
        "R = stride_tricks.as_strided(x,(11,4),(4,4))\n",
        "print(R)"
      ]
    },
    {
      "cell_type": "markdown",
      "metadata": {
        "id": "q6CEnH494K0S"
      },
      "source": [
        "#### 82. Compute a matrix rank (★★★) \n",
        "(**hint**: np.linalg.svd) (suggestion: np.linalg.svd)"
      ]
    },
    {
      "cell_type": "code",
      "execution_count": 27,
      "metadata": {
        "colab": {
          "base_uri": "https://localhost:8080/"
        },
        "id": "EuSBWwwa4K0T",
        "outputId": "d27ad75f-f154-41eb-cbb2-56f4d70f1078"
      },
      "outputs": [
        {
          "output_type": "stream",
          "name": "stdout",
          "text": [
            "10\n"
          ]
        }
      ],
      "source": [
        "Z = np.random.uniform(0,1,(10,10))\n",
        "U, S, V = np.linalg.svd(Z) \n",
        "rank = np.sum(S > 1e-10)\n",
        "print(rank)"
      ]
    },
    {
      "cell_type": "markdown",
      "metadata": {
        "id": "DN8MMb3N4K0T"
      },
      "source": [
        "#### 83. How to find the most frequent value in an array? \n",
        "(**hint**: np.bincount, argmax)"
      ]
    },
    {
      "cell_type": "code",
      "execution_count": 28,
      "metadata": {
        "colab": {
          "base_uri": "https://localhost:8080/"
        },
        "id": "uRgaeAa64K0U",
        "outputId": "6d57e7b0-fd04-4bec-a159-ce2c9d1c940b"
      },
      "outputs": [
        {
          "output_type": "stream",
          "name": "stdout",
          "text": [
            "2\n"
          ]
        }
      ],
      "source": [
        "Z = np.random.randint(0,10,50)\n",
        "print(np.bincount(Z).argmax())"
      ]
    },
    {
      "cell_type": "markdown",
      "metadata": {
        "id": "2BLjwkR74K0U"
      },
      "source": [
        "#### 84. Extract all the contiguous 3x3 blocks from a random 10x10 matrix (★★★) \n",
        "(**hint**: stride\\_tricks.as\\_strided)"
      ]
    },
    {
      "cell_type": "code",
      "execution_count": 29,
      "metadata": {
        "colab": {
          "base_uri": "https://localhost:8080/"
        },
        "id": "sheZByNe4K0U",
        "outputId": "d1920558-81a0-4306-cb1c-cafe318aac66"
      },
      "outputs": [
        {
          "output_type": "stream",
          "name": "stdout",
          "text": [
            "[[[[2 3 3]\n",
            "   [3 1 0]\n",
            "   [1 4 4]]\n",
            "\n",
            "  [[3 3 3]\n",
            "   [1 0 3]\n",
            "   [4 4 3]]\n",
            "\n",
            "  [[3 3 1]\n",
            "   [0 3 4]\n",
            "   [4 3 1]]\n",
            "\n",
            "  [[3 1 1]\n",
            "   [3 4 3]\n",
            "   [3 1 1]]\n",
            "\n",
            "  [[1 1 0]\n",
            "   [4 3 1]\n",
            "   [1 1 3]]\n",
            "\n",
            "  [[1 0 0]\n",
            "   [3 1 3]\n",
            "   [1 3 1]]\n",
            "\n",
            "  [[0 0 3]\n",
            "   [1 3 0]\n",
            "   [3 1 2]]\n",
            "\n",
            "  [[0 3 2]\n",
            "   [3 0 3]\n",
            "   [1 2 2]]]\n",
            "\n",
            "\n",
            " [[[3 1 0]\n",
            "   [1 4 4]\n",
            "   [3 4 0]]\n",
            "\n",
            "  [[1 0 3]\n",
            "   [4 4 3]\n",
            "   [4 0 2]]\n",
            "\n",
            "  [[0 3 4]\n",
            "   [4 3 1]\n",
            "   [0 2 3]]\n",
            "\n",
            "  [[3 4 3]\n",
            "   [3 1 1]\n",
            "   [2 3 4]]\n",
            "\n",
            "  [[4 3 1]\n",
            "   [1 1 3]\n",
            "   [3 4 2]]\n",
            "\n",
            "  [[3 1 3]\n",
            "   [1 3 1]\n",
            "   [4 2 4]]\n",
            "\n",
            "  [[1 3 0]\n",
            "   [3 1 2]\n",
            "   [2 4 2]]\n",
            "\n",
            "  [[3 0 3]\n",
            "   [1 2 2]\n",
            "   [4 2 4]]]\n",
            "\n",
            "\n",
            " [[[1 4 4]\n",
            "   [3 4 0]\n",
            "   [4 3 0]]\n",
            "\n",
            "  [[4 4 3]\n",
            "   [4 0 2]\n",
            "   [3 0 2]]\n",
            "\n",
            "  [[4 3 1]\n",
            "   [0 2 3]\n",
            "   [0 2 3]]\n",
            "\n",
            "  [[3 1 1]\n",
            "   [2 3 4]\n",
            "   [2 3 1]]\n",
            "\n",
            "  [[1 1 3]\n",
            "   [3 4 2]\n",
            "   [3 1 0]]\n",
            "\n",
            "  [[1 3 1]\n",
            "   [4 2 4]\n",
            "   [1 0 0]]\n",
            "\n",
            "  [[3 1 2]\n",
            "   [2 4 2]\n",
            "   [0 0 3]]\n",
            "\n",
            "  [[1 2 2]\n",
            "   [4 2 4]\n",
            "   [0 3 2]]]\n",
            "\n",
            "\n",
            " [[[3 4 0]\n",
            "   [4 3 0]\n",
            "   [1 0 0]]\n",
            "\n",
            "  [[4 0 2]\n",
            "   [3 0 2]\n",
            "   [0 0 4]]\n",
            "\n",
            "  [[0 2 3]\n",
            "   [0 2 3]\n",
            "   [0 4 3]]\n",
            "\n",
            "  [[2 3 4]\n",
            "   [2 3 1]\n",
            "   [4 3 3]]\n",
            "\n",
            "  [[3 4 2]\n",
            "   [3 1 0]\n",
            "   [3 3 1]]\n",
            "\n",
            "  [[4 2 4]\n",
            "   [1 0 0]\n",
            "   [3 1 0]]\n",
            "\n",
            "  [[2 4 2]\n",
            "   [0 0 3]\n",
            "   [1 0 1]]\n",
            "\n",
            "  [[4 2 4]\n",
            "   [0 3 2]\n",
            "   [0 1 0]]]\n",
            "\n",
            "\n",
            " [[[4 3 0]\n",
            "   [1 0 0]\n",
            "   [1 2 1]]\n",
            "\n",
            "  [[3 0 2]\n",
            "   [0 0 4]\n",
            "   [2 1 4]]\n",
            "\n",
            "  [[0 2 3]\n",
            "   [0 4 3]\n",
            "   [1 4 0]]\n",
            "\n",
            "  [[2 3 1]\n",
            "   [4 3 3]\n",
            "   [4 0 1]]\n",
            "\n",
            "  [[3 1 0]\n",
            "   [3 3 1]\n",
            "   [0 1 0]]\n",
            "\n",
            "  [[1 0 0]\n",
            "   [3 1 0]\n",
            "   [1 0 1]]\n",
            "\n",
            "  [[0 0 3]\n",
            "   [1 0 1]\n",
            "   [0 1 0]]\n",
            "\n",
            "  [[0 3 2]\n",
            "   [0 1 0]\n",
            "   [1 0 3]]]\n",
            "\n",
            "\n",
            " [[[1 0 0]\n",
            "   [1 2 1]\n",
            "   [2 2 2]]\n",
            "\n",
            "  [[0 0 4]\n",
            "   [2 1 4]\n",
            "   [2 2 0]]\n",
            "\n",
            "  [[0 4 3]\n",
            "   [1 4 0]\n",
            "   [2 0 0]]\n",
            "\n",
            "  [[4 3 3]\n",
            "   [4 0 1]\n",
            "   [0 0 4]]\n",
            "\n",
            "  [[3 3 1]\n",
            "   [0 1 0]\n",
            "   [0 4 4]]\n",
            "\n",
            "  [[3 1 0]\n",
            "   [1 0 1]\n",
            "   [4 4 0]]\n",
            "\n",
            "  [[1 0 1]\n",
            "   [0 1 0]\n",
            "   [4 0 0]]\n",
            "\n",
            "  [[0 1 0]\n",
            "   [1 0 3]\n",
            "   [0 0 1]]]\n",
            "\n",
            "\n",
            " [[[1 2 1]\n",
            "   [2 2 2]\n",
            "   [4 0 2]]\n",
            "\n",
            "  [[2 1 4]\n",
            "   [2 2 0]\n",
            "   [0 2 0]]\n",
            "\n",
            "  [[1 4 0]\n",
            "   [2 0 0]\n",
            "   [2 0 1]]\n",
            "\n",
            "  [[4 0 1]\n",
            "   [0 0 4]\n",
            "   [0 1 3]]\n",
            "\n",
            "  [[0 1 0]\n",
            "   [0 4 4]\n",
            "   [1 3 1]]\n",
            "\n",
            "  [[1 0 1]\n",
            "   [4 4 0]\n",
            "   [3 1 0]]\n",
            "\n",
            "  [[0 1 0]\n",
            "   [4 0 0]\n",
            "   [1 0 0]]\n",
            "\n",
            "  [[1 0 3]\n",
            "   [0 0 1]\n",
            "   [0 0 3]]]\n",
            "\n",
            "\n",
            " [[[2 2 2]\n",
            "   [4 0 2]\n",
            "   [4 1 1]]\n",
            "\n",
            "  [[2 2 0]\n",
            "   [0 2 0]\n",
            "   [1 1 4]]\n",
            "\n",
            "  [[2 0 0]\n",
            "   [2 0 1]\n",
            "   [1 4 2]]\n",
            "\n",
            "  [[0 0 4]\n",
            "   [0 1 3]\n",
            "   [4 2 1]]\n",
            "\n",
            "  [[0 4 4]\n",
            "   [1 3 1]\n",
            "   [2 1 4]]\n",
            "\n",
            "  [[4 4 0]\n",
            "   [3 1 0]\n",
            "   [1 4 4]]\n",
            "\n",
            "  [[4 0 0]\n",
            "   [1 0 0]\n",
            "   [4 4 4]]\n",
            "\n",
            "  [[0 0 1]\n",
            "   [0 0 3]\n",
            "   [4 4 1]]]]\n"
          ]
        }
      ],
      "source": [
        "Z = np.random.randint(0,5,(10,10))\n",
        "n = 3\n",
        "i = 1 + (Z.shape[0]-3)\n",
        "j = 1 + (Z.shape[1]-3)\n",
        "C = stride_tricks.as_strided(Z, shape=(i, j, n, n), strides=Z.strides + Z.strides)\n",
        "print(C)"
      ]
    },
    {
      "cell_type": "markdown",
      "metadata": {
        "id": "ngVCkoYi4K0V"
      },
      "source": [
        "#### 85. Create a 2D array subclass such that Z\\[i,j\\] == Z\\[j,i\\] (★★★) \n",
        "(**hint**: class method)"
      ]
    },
    {
      "cell_type": "code",
      "execution_count": 30,
      "metadata": {
        "colab": {
          "base_uri": "https://localhost:8080/"
        },
        "id": "NO1HsQHE4K0W",
        "outputId": "46444c76-d7df-47cf-af36-646e243cde6b"
      },
      "outputs": [
        {
          "output_type": "stream",
          "name": "stdout",
          "text": [
            "[[ 8 14  9 10  7]\n",
            " [14  9  7  8 14]\n",
            " [ 9  7  2 42  9]\n",
            " [10  8 42  1  9]\n",
            " [ 7 14  9  9  7]]\n"
          ]
        }
      ],
      "source": [
        "class Symetric(np.ndarray):\n",
        "    def __setitem__(self, index, value):\n",
        "        i,j = index\n",
        "        super(Symetric, self).__setitem__((i,j), value)\n",
        "        super(Symetric, self).__setitem__((j,i), value)\n",
        "\n",
        "def symetric(Z):\n",
        "    return np.asarray(Z + Z.T - np.diag(Z.diagonal())).view(Symetric)\n",
        "\n",
        "S = symetric(np.random.randint(0,10,(5,5)))\n",
        "S[2,3] = 42\n",
        "print(S)"
      ]
    },
    {
      "cell_type": "markdown",
      "metadata": {
        "id": "Ng3c1ihq4K0W"
      },
      "source": [
        "#### 86. Consider a set of p matrices wich shape (n,n) and a set of p vectors with shape (n,1). How to compute the sum of of the p matrix products at once? (result has shape (n,1)) (★★★) \n",
        "(**hint**: np.tensordot)"
      ]
    },
    {
      "cell_type": "code",
      "execution_count": 31,
      "metadata": {
        "colab": {
          "base_uri": "https://localhost:8080/"
        },
        "id": "kZkbMjbA4K0W",
        "outputId": "a6362ce5-3d64-40b1-a65e-bae9825bd206"
      },
      "outputs": [
        {
          "output_type": "stream",
          "name": "stdout",
          "text": [
            "[[200.]\n",
            " [200.]\n",
            " [200.]\n",
            " [200.]\n",
            " [200.]\n",
            " [200.]\n",
            " [200.]\n",
            " [200.]\n",
            " [200.]\n",
            " [200.]\n",
            " [200.]\n",
            " [200.]\n",
            " [200.]\n",
            " [200.]\n",
            " [200.]\n",
            " [200.]\n",
            " [200.]\n",
            " [200.]\n",
            " [200.]\n",
            " [200.]]\n"
          ]
        }
      ],
      "source": [
        "p, n = 10, 20\n",
        "M = np.ones((p,n,n))\n",
        "V = np.ones((p,n,1))\n",
        "S = np.tensordot(M, V, axes=[[0, 2], [0, 1]])\n",
        "print(S)"
      ]
    },
    {
      "cell_type": "markdown",
      "metadata": {
        "id": "m5HG_XHZ4K0X"
      },
      "source": [
        "#### 87. Consider a 16x16 array, how to get the block-sum (block size is 4x4)? (★★★) \n",
        "(**hint**: np.add.reduceat)"
      ]
    },
    {
      "cell_type": "code",
      "execution_count": 32,
      "metadata": {
        "colab": {
          "base_uri": "https://localhost:8080/"
        },
        "id": "Kn6YkCpO4K0X",
        "outputId": "aac90014-ff0a-47a8-9770-6ebfefac4822"
      },
      "outputs": [
        {
          "output_type": "stream",
          "name": "stdout",
          "text": [
            "[[16. 16. 16. 16.]\n",
            " [16. 16. 16. 16.]\n",
            " [16. 16. 16. 16.]\n",
            " [16. 16. 16. 16.]]\n"
          ]
        }
      ],
      "source": [
        "Z = np.ones((16,16))\n",
        "k = 4\n",
        "S = np.add.reduceat(np.add.reduceat(Z, np.arange(0, Z.shape[0], k), axis=0),\n",
        "                                       np.arange(0, Z.shape[1], k), axis=1)\n",
        "print(S)"
      ]
    },
    {
      "cell_type": "markdown",
      "metadata": {
        "id": "qTwD6_Zn4K0X"
      },
      "source": [
        "#### 88. How to implement the Game of Life using numpy arrays? (★★★)"
      ]
    },
    {
      "cell_type": "code",
      "execution_count": 33,
      "metadata": {
        "colab": {
          "base_uri": "https://localhost:8080/"
        },
        "id": "snbnGB204K0Y",
        "outputId": "3da91306-2a37-4956-94c9-d9c0c4db4939"
      },
      "outputs": [
        {
          "output_type": "stream",
          "name": "stdout",
          "text": [
            "[[0 0 0 ... 0 0 0]\n",
            " [0 0 0 ... 0 0 0]\n",
            " [0 0 0 ... 0 0 0]\n",
            " ...\n",
            " [0 0 0 ... 0 0 0]\n",
            " [0 0 0 ... 0 0 0]\n",
            " [0 0 0 ... 0 0 0]]\n"
          ]
        }
      ],
      "source": [
        "def iterate(Z):\n",
        "    # Count neighbours\n",
        "    N = (Z[0:-2,0:-2] + Z[0:-2,1:-1] + Z[0:-2,2:] +\n",
        "         Z[1:-1,0:-2]                + Z[1:-1,2:] +\n",
        "         Z[2:  ,0:-2] + Z[2:  ,1:-1] + Z[2:  ,2:])\n",
        "\n",
        "    # Apply rules\n",
        "    birth = (N==3) & (Z[1:-1,1:-1]==0)\n",
        "    survive = ((N==2) | (N==3)) & (Z[1:-1,1:-1]==1)\n",
        "    Z[...] = 0\n",
        "    Z[1:-1,1:-1][birth | survive] = 1\n",
        "    return Z\n",
        "\n",
        "Z = np.random.randint(0,2,(50,50))\n",
        "for i in range(100): Z = iterate(Z)\n",
        "print(Z)"
      ]
    },
    {
      "cell_type": "markdown",
      "metadata": {
        "id": "h4ROe9Hc4K0Y"
      },
      "source": [
        "#### 89. How to get the n largest values of an array (★★★) \n",
        "(**hint**: np.argsort | np.argpartition)"
      ]
    },
    {
      "cell_type": "code",
      "execution_count": 34,
      "metadata": {
        "colab": {
          "base_uri": "https://localhost:8080/"
        },
        "id": "TwHKdgkD4K0Y",
        "outputId": "17ed9740-e56e-4261-c33f-d0139389178a"
      },
      "outputs": [
        {
          "output_type": "stream",
          "name": "stdout",
          "text": [
            "[9995 9996 9997 9998 9999]\n",
            "[9998 9999 9997 9996 9995]\n"
          ]
        }
      ],
      "source": [
        "Z = np.arange(10000)\n",
        "np.random.shuffle(Z)\n",
        "n = 5\n",
        "print (Z[np.argsort(Z)[-n:]])\n",
        "print (Z[np.argpartition(-Z,n)[:n]])"
      ]
    },
    {
      "cell_type": "markdown",
      "metadata": {
        "id": "qLl33IqV4K0Y"
      },
      "source": [
        "#### 90. Given an arbitrary number of vectors, build the cartesian product (every combinations of every item) (★★★) \n",
        "(**hint**: np.indices)"
      ]
    },
    {
      "cell_type": "code",
      "execution_count": 35,
      "metadata": {
        "scrolled": true,
        "colab": {
          "base_uri": "https://localhost:8080/"
        },
        "id": "OZKb0hMI4K0Z",
        "outputId": "df73a50e-e288-4aed-e197-0e2883828c2e"
      },
      "outputs": [
        {
          "output_type": "stream",
          "name": "stdout",
          "text": [
            "[[1 4 6]\n",
            " [1 4 7]\n",
            " [1 5 6]\n",
            " [1 5 7]\n",
            " [2 4 6]\n",
            " [2 4 7]\n",
            " [2 5 6]\n",
            " [2 5 7]\n",
            " [3 4 6]\n",
            " [3 4 7]\n",
            " [3 5 6]\n",
            " [3 5 7]]\n"
          ]
        }
      ],
      "source": [
        "def cartesian(arrays):\n",
        "    arrays = [np.asarray(a) for a in arrays]\n",
        "    shape = (len(x) for x in arrays)\n",
        "\n",
        "    ix = np.indices(shape, dtype=int)\n",
        "    ix = ix.reshape(len(arrays), -1).T\n",
        "\n",
        "    for n, arr in enumerate(arrays):\n",
        "        ix[:, n] = arrays[n][ix[:, n]]\n",
        "\n",
        "    return ix\n",
        "\n",
        "print (cartesian(([1, 2, 3], [4, 5], [6, 7])))"
      ]
    },
    {
      "cell_type": "markdown",
      "metadata": {
        "id": "euzGCbdP4K0Z"
      },
      "source": [
        "#### 91. How to create a record array from a regular array? (★★★) \n",
        "(**hint**: np.core.records.fromarrays)"
      ]
    },
    {
      "cell_type": "code",
      "execution_count": 36,
      "metadata": {
        "colab": {
          "base_uri": "https://localhost:8080/"
        },
        "id": "XAUUUP814K0Z",
        "outputId": "3e2d9848-e1eb-4dfa-a727-fa86e901769b"
      },
      "outputs": [
        {
          "output_type": "stream",
          "name": "stdout",
          "text": [
            "[(b'Hello', 2.5, 3) (b'World', 3.6, 2)]\n"
          ]
        }
      ],
      "source": [
        "Z = np.array([(\"Hello\", 2.5, 3),\n",
        "              (\"World\", 3.6, 2)])\n",
        "R = np.core.records.fromarrays(Z.T,\n",
        "                               names='col1, col2, col3',\n",
        "                               formats = 'S8, f8, i8')\n",
        "print(R)"
      ]
    },
    {
      "cell_type": "markdown",
      "metadata": {
        "id": "QICS9s334K0Z"
      },
      "source": [
        "#### 92. Consider a large vector Z, compute Z to the power of 3 using 3 different methods (★★★) \n",
        "(**hint**: np.power, \\*, np.einsum)"
      ]
    },
    {
      "cell_type": "code",
      "execution_count": 37,
      "metadata": {
        "colab": {
          "base_uri": "https://localhost:8080/"
        },
        "id": "uu6N3lCS4K0Z",
        "outputId": "71e946c8-7adc-4cd5-d3be-e1f805444cba"
      },
      "outputs": [
        {
          "output_type": "stream",
          "name": "stdout",
          "text": [
            "1 loop, best of 5: 3.71 s per loop\n",
            "10 loops, best of 5: 140 ms per loop\n",
            "10 loops, best of 5: 121 ms per loop\n"
          ]
        }
      ],
      "source": [
        "x = np.random.rand(int(5e7))\n",
        "\n",
        "%timeit np.power(x,3)\n",
        "%timeit x*x*x\n",
        "%timeit np.einsum('i,i,i->i',x,x,x)"
      ]
    },
    {
      "cell_type": "markdown",
      "metadata": {
        "id": "c1yQMbrf4K0a"
      },
      "source": [
        "#### 93. Consider two arrays A and B of shape (8,3) and (2,2). How to find rows of A that contain elements of each row of B regardless of the order of the elements in B? (★★★) \n",
        "(**hint**: np.where)"
      ]
    },
    {
      "cell_type": "code",
      "execution_count": 39,
      "metadata": {
        "colab": {
          "base_uri": "https://localhost:8080/"
        },
        "id": "NeZkvno-4K0a",
        "outputId": "fa98a004-385b-406a-f0a8-26659fe0ed9e"
      },
      "outputs": [
        {
          "output_type": "stream",
          "name": "stdout",
          "text": [
            "[0 1 3 4 5]\n"
          ]
        }
      ],
      "source": [
        "A = np.random.randint(0,5,(8,3))\n",
        "B = np.random.randint(0,5,(2,2))\n",
        "\n",
        "C = (A[..., np.newaxis, np.newaxis] == B)\n",
        "rows = np.where(C.any((3,1)).all(1))[0]\n",
        "print(rows)"
      ]
    },
    {
      "cell_type": "markdown",
      "metadata": {
        "id": "7bRzR2UN4K0a"
      },
      "source": [
        "#### 94. Considering a 10x3 matrix, extract rows with unequal values (e.g. \\[2,2,3\\]) (★★★)"
      ]
    },
    {
      "cell_type": "code",
      "execution_count": 41,
      "metadata": {
        "colab": {
          "base_uri": "https://localhost:8080/"
        },
        "id": "wQM3cNr_4K0a",
        "outputId": "54d31051-83c1-40ef-beb8-95c5885f9a36"
      },
      "outputs": [
        {
          "output_type": "stream",
          "name": "stdout",
          "text": [
            "[[0 3 0]\n",
            " [4 3 4]\n",
            " [2 0 2]\n",
            " [3 3 0]\n",
            " [4 1 4]\n",
            " [0 3 0]\n",
            " [0 3 2]\n",
            " [2 3 2]\n",
            " [4 4 2]\n",
            " [3 0 1]]\n",
            "[[0 3 0]\n",
            " [4 3 4]\n",
            " [2 0 2]\n",
            " [3 3 0]\n",
            " [4 1 4]\n",
            " [0 3 0]\n",
            " [0 3 2]\n",
            " [2 3 2]\n",
            " [4 4 2]\n",
            " [3 0 1]]\n"
          ]
        }
      ],
      "source": [
        "Z = np.random.randint(0,5,(10,3))\n",
        "print(Z)\n",
        "# solution for arrays of all dtypes (including string arrays and record arrays)\n",
        "E = np.all(Z[:,1:] == Z[:,:-1], axis=1)\n",
        "U = Z[~E]\n",
        "print(U)\n",
        "# soluiton for numerical arrays only, will work for any number of columns in Z\n",
        "U = Z[Z.max(axis=1) != Z.min(axis=1),:]\n",
        "print(U)"
      ]
    },
    {
      "cell_type": "markdown",
      "metadata": {
        "id": "o14ifQgw4K0a"
      },
      "source": [
        "#### 95. Convert a vector of ints into a matrix binary representation (★★★) \n",
        "(**hint**: np.unpackbits)"
      ]
    },
    {
      "cell_type": "code",
      "execution_count": 42,
      "metadata": {
        "colab": {
          "base_uri": "https://localhost:8080/"
        },
        "id": "K7XvUpNx4K0b",
        "outputId": "a3b9a516-ab78-43dc-8187-a826d611283d"
      },
      "outputs": [
        {
          "output_type": "stream",
          "name": "stdout",
          "text": [
            "[[0 0 0 0 0 0 0 0]\n",
            " [0 0 0 0 0 0 0 1]\n",
            " [0 0 0 0 0 0 1 0]\n",
            " [0 0 0 0 0 0 1 1]\n",
            " [0 0 0 0 1 1 1 1]\n",
            " [0 0 0 1 0 0 0 0]\n",
            " [0 0 1 0 0 0 0 0]\n",
            " [0 1 0 0 0 0 0 0]\n",
            " [1 0 0 0 0 0 0 0]]\n"
          ]
        }
      ],
      "source": [
        "I = np.array([0, 1, 2, 3, 15, 16, 32, 64, 128], dtype=np.uint8)\n",
        "print(np.unpackbits(I[:, np.newaxis], axis=1))"
      ]
    },
    {
      "cell_type": "markdown",
      "metadata": {
        "id": "Mk6jAIKM4K0b"
      },
      "source": [
        "#### 96. Given a two dimensional array, how to extract unique rows? (★★★) \n",
        "(**hint**: np.ascontiguousarray)"
      ]
    },
    {
      "cell_type": "code",
      "execution_count": 43,
      "metadata": {
        "colab": {
          "base_uri": "https://localhost:8080/"
        },
        "id": "fT7d7TxN4K0b",
        "outputId": "1d4c36d7-c545-430b-f881-1a81b9ce1b4f"
      },
      "outputs": [
        {
          "output_type": "stream",
          "name": "stdout",
          "text": [
            "[[0 0 0]\n",
            " [0 1 1]\n",
            " [1 0 0]\n",
            " [1 1 0]]\n"
          ]
        }
      ],
      "source": [
        "Z = np.random.randint(0,2,(6,3))\n",
        "T = np.ascontiguousarray(Z).view(np.dtype((np.void, Z.dtype.itemsize * Z.shape[1])))\n",
        "_, idx = np.unique(T, return_index=True)\n",
        "uZ = Z[idx]\n",
        "print(uZ)"
      ]
    },
    {
      "cell_type": "markdown",
      "metadata": {
        "id": "3hgeDEH-4K0b"
      },
      "source": [
        "#### 97. Considering 2 vectors A & B, write the einsum equivalent of inner, outer, sum, and mul function (★★★) \n",
        "(**hint**: np.einsum)"
      ]
    },
    {
      "cell_type": "code",
      "execution_count": 44,
      "metadata": {
        "colab": {
          "base_uri": "https://localhost:8080/"
        },
        "id": "xAM86X554K0b",
        "outputId": "fe1fe55d-3c1d-4eff-ea04-26704b572284"
      },
      "outputs": [
        {
          "output_type": "execute_result",
          "data": {
            "text/plain": [
              "array([[0.76401087, 0.8580372 , 0.25489622, 0.41210609, 0.70322468,\n",
              "        0.67311807, 0.93333811, 0.16315552, 0.034693  , 0.13508519],\n",
              "       [0.41381524, 0.46474321, 0.13806078, 0.22321119, 0.38089129,\n",
              "        0.36458449, 0.50552885, 0.08837079, 0.01879095, 0.0731669 ],\n",
              "       [0.41176593, 0.4624417 , 0.13737707, 0.2221058 , 0.37900503,\n",
              "        0.36277898, 0.50302535, 0.08793315, 0.01869789, 0.07280456],\n",
              "       [0.45023107, 0.50564071, 0.15021016, 0.24285382, 0.41440981,\n",
              "        0.396668  , 0.55001549, 0.09614743, 0.02044456, 0.07960561],\n",
              "       [0.16784516, 0.18850176, 0.05599802, 0.09053538, 0.15449108,\n",
              "        0.14787697, 0.20504458, 0.03584355, 0.00762169, 0.0296768 ],\n",
              "       [0.68328504, 0.76737649, 0.22796373, 0.36856272, 0.62892155,\n",
              "        0.60199602, 0.83472106, 0.14591642, 0.03102732, 0.12081201],\n",
              "       [0.73028307, 0.82015854, 0.24364364, 0.39391337, 0.67218033,\n",
              "        0.6434028 , 0.89213524, 0.15595291, 0.03316145, 0.12912176],\n",
              "       [0.30417957, 0.34161475, 0.10148314, 0.16407391, 0.27997845,\n",
              "        0.26799195, 0.37159469, 0.06495795, 0.0138125 , 0.05378216],\n",
              "       [0.38435768, 0.43166033, 0.12823288, 0.20732184, 0.35377744,\n",
              "        0.33863144, 0.46954263, 0.08208009, 0.01745331, 0.0679585 ],\n",
              "       [0.44663877, 0.50160631, 0.14901166, 0.24091614, 0.41110332,\n",
              "        0.39350307, 0.54562703, 0.09538029, 0.02028144, 0.07897045]])"
            ]
          },
          "metadata": {},
          "execution_count": 44
        }
      ],
      "source": [
        "A = np.random.uniform(0,1,10)\n",
        "B = np.random.uniform(0,1,10)\n",
        "\n",
        "np.einsum('i->', A)       # np.sum(A)\n",
        "np.einsum('i,i->i', A, B) # A * B\n",
        "np.einsum('i,i', A, B)    # np.inner(A, B)\n",
        "np.einsum('i,j->ij', A, B)    # np.outer(A, B)"
      ]
    },
    {
      "cell_type": "markdown",
      "metadata": {
        "id": "m4t9isd64K0c"
      },
      "source": [
        "#### 98. Considering a path described by two vectors (X,Y), how to sample it using equidistant samples (★★★)? \n",
        "(**hint**: np.cumsum, np.interp)"
      ]
    },
    {
      "cell_type": "code",
      "execution_count": 45,
      "metadata": {
        "collapsed": true,
        "id": "5zBkQkeL4K0c"
      },
      "outputs": [],
      "source": [
        "phi = np.arange(0, 10*np.pi, 0.1)\n",
        "a = 1\n",
        "x = a*phi*np.cos(phi)\n",
        "y = a*phi*np.sin(phi)\n",
        "\n",
        "dr = (np.diff(x)**2 + np.diff(y)**2)**.5 \n",
        "r = np.zeros_like(x)\n",
        "r[1:] = np.cumsum(dr)                \n",
        "r_int = np.linspace(0, r.max(), 200) \n",
        "x_int = np.interp(r_int, r, x)      \n",
        "y_int = np.interp(r_int, r, y)"
      ]
    },
    {
      "cell_type": "markdown",
      "metadata": {
        "id": "9isifwaY4K0c"
      },
      "source": [
        "#### 99. Given an integer n and a 2D array X, select from X the rows which can be interpreted as draws from a multinomial distribution with n degrees, i.e., the rows which only contain integers and which sum to n. (★★★) \n",
        "(**hint**: np.logical\\_and.reduce, np.mod)"
      ]
    },
    {
      "cell_type": "code",
      "execution_count": 46,
      "metadata": {
        "colab": {
          "base_uri": "https://localhost:8080/"
        },
        "id": "cVQHzg6L4K0c",
        "outputId": "1721c7de-3c3a-42b0-fc76-f3605ea54ebe"
      },
      "outputs": [
        {
          "output_type": "stream",
          "name": "stdout",
          "text": [
            "[[2. 0. 1. 1.]]\n"
          ]
        }
      ],
      "source": [
        "X = np.asarray([[1.0, 0.0, 3.0, 8.0],\n",
        "                [2.0, 0.0, 1.0, 1.0],\n",
        "                [1.5, 2.5, 1.0, 0.0]])\n",
        "n = 4\n",
        "M = np.logical_and.reduce(np.mod(X, 1) == 0, axis=-1)\n",
        "M &= (X.sum(axis=-1) == n)\n",
        "print(X[M])"
      ]
    },
    {
      "cell_type": "markdown",
      "metadata": {
        "id": "DaCC8M0t4K0c"
      },
      "source": [
        "#### 100. Compute bootstrapped 95% confidence intervals for the mean of a 1D array X (i.e., resample the elements of an array with replacement N times, compute the mean of each sample, and then compute percentiles over the means). (★★★) \n",
        "(**hint**: np.percentile)"
      ]
    },
    {
      "cell_type": "code",
      "execution_count": 47,
      "metadata": {
        "colab": {
          "base_uri": "https://localhost:8080/"
        },
        "id": "tfRm2rwI4K0c",
        "outputId": "1e4f6c61-5dab-439b-e3f4-3b81896f08a6"
      },
      "outputs": [
        {
          "output_type": "stream",
          "name": "stdout",
          "text": [
            "[-0.44612764 -0.09496057]\n"
          ]
        }
      ],
      "source": [
        "X = np.random.randn(100) # random 1D array\n",
        "N = 1000 # number of bootstrap samples\n",
        "idx = np.random.randint(0, X.size, (N, X.size))\n",
        "means = X[idx].mean(axis=1)\n",
        "confint = np.percentile(means, [2.5, 97.5])\n",
        "print(confint)\n",
        "\n"
      ]
    }
  ],
  "metadata": {
    "kernelspec": {
      "display_name": "Python 3",
      "language": "python",
      "name": "python3"
    },
    "language_info": {
      "codemirror_mode": {
        "name": "ipython",
        "version": 3
      },
      "file_extension": ".py",
      "mimetype": "text/x-python",
      "name": "python",
      "nbconvert_exporter": "python",
      "pygments_lexer": "ipython3",
      "version": "3.8.3"
    },
    "colab": {
      "name": "Numpy_tasks.ipynb",
      "provenance": [],
      "include_colab_link": true
    }
  },
  "nbformat": 4,
  "nbformat_minor": 0
}